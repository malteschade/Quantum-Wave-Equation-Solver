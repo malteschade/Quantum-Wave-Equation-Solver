{
 "cells": [
  {
   "cell_type": "code",
   "execution_count": 1,
   "metadata": {},
   "outputs": [],
   "source": [
    "# -------- IMPORTS --------\n",
    "import numpy as np\n",
    "import plotly.express as px\n",
    "import plotly.graph_objs as go\n",
    "import matplotlib.pyplot as plt\n",
    "from matplotlib.animation import FuncAnimation, FFMpegWriter\n",
    "from simulation.experiment import ForwardExperiment1D\n",
    "from utility.distributions import spike, ricker, gaussian, raised_cosine, sinc, homogeneous, exponential, polynomial\n",
    "from utility.plotting import plot_uv, plot_state, plot_medium, plot_heatmap"
   ]
  },
  {
   "cell_type": "code",
   "execution_count": 2,
   "metadata": {},
   "outputs": [
    {
     "name": "stderr",
     "output_type": "stream",
     "text": [
      "2023-12-01 11:00:30,346 - INFO - Created experiment with time stamp: 20231201T110030.\n",
      "\n"
     ]
    },
    {
     "data": {
      "application/vnd.plotly.v1+json": {
       "config": {
        "plotlyServerURL": "https://plot.ly"
       },
       "data": [
        {
         "line": {
          "color": "blue"
         },
         "mode": "lines",
         "name": "$\\rho [kg/m^3]$",
         "showlegend": false,
         "type": "scatter",
         "x": [
          0,
          1,
          2,
          3,
          4,
          5,
          6,
          7
         ],
         "xaxis": "x",
         "y": [
          3000,
          3000,
          3000,
          3000,
          3000,
          3000,
          3000
         ],
         "yaxis": "y2"
        },
        {
         "line": {
          "color": "red"
         },
         "mode": "lines",
         "name": "$\\mu [Pa]$",
         "showlegend": false,
         "type": "scatter",
         "x": [
          0,
          1,
          2,
          3,
          4,
          5,
          6,
          7
         ],
         "xaxis": "x",
         "y": [
          3000,
          3000,
          3000,
          3000,
          3000,
          3000,
          3000,
          3000
         ],
         "yaxis": "y"
        }
       ],
       "layout": {
        "annotations": [
         {
          "font": {
           "size": 20
          },
          "showarrow": false,
          "text": "$Medium \\; Parameters$",
          "x": 0.47,
          "xanchor": "center",
          "xref": "paper",
          "y": 1,
          "yanchor": "bottom",
          "yref": "paper",
          "yshift": 10
         }
        ],
        "font": {
         "size": 15
        },
        "template": {
         "data": {
          "bar": [
           {
            "error_x": {
             "color": "#2a3f5f"
            },
            "error_y": {
             "color": "#2a3f5f"
            },
            "marker": {
             "line": {
              "color": "#E5ECF6",
              "width": 0.5
             },
             "pattern": {
              "fillmode": "overlay",
              "size": 10,
              "solidity": 0.2
             }
            },
            "type": "bar"
           }
          ],
          "barpolar": [
           {
            "marker": {
             "line": {
              "color": "#E5ECF6",
              "width": 0.5
             },
             "pattern": {
              "fillmode": "overlay",
              "size": 10,
              "solidity": 0.2
             }
            },
            "type": "barpolar"
           }
          ],
          "carpet": [
           {
            "aaxis": {
             "endlinecolor": "#2a3f5f",
             "gridcolor": "white",
             "linecolor": "white",
             "minorgridcolor": "white",
             "startlinecolor": "#2a3f5f"
            },
            "baxis": {
             "endlinecolor": "#2a3f5f",
             "gridcolor": "white",
             "linecolor": "white",
             "minorgridcolor": "white",
             "startlinecolor": "#2a3f5f"
            },
            "type": "carpet"
           }
          ],
          "choropleth": [
           {
            "colorbar": {
             "outlinewidth": 0,
             "ticks": ""
            },
            "type": "choropleth"
           }
          ],
          "contour": [
           {
            "colorbar": {
             "outlinewidth": 0,
             "ticks": ""
            },
            "colorscale": [
             [
              0,
              "#0d0887"
             ],
             [
              0.1111111111111111,
              "#46039f"
             ],
             [
              0.2222222222222222,
              "#7201a8"
             ],
             [
              0.3333333333333333,
              "#9c179e"
             ],
             [
              0.4444444444444444,
              "#bd3786"
             ],
             [
              0.5555555555555556,
              "#d8576b"
             ],
             [
              0.6666666666666666,
              "#ed7953"
             ],
             [
              0.7777777777777778,
              "#fb9f3a"
             ],
             [
              0.8888888888888888,
              "#fdca26"
             ],
             [
              1,
              "#f0f921"
             ]
            ],
            "type": "contour"
           }
          ],
          "contourcarpet": [
           {
            "colorbar": {
             "outlinewidth": 0,
             "ticks": ""
            },
            "type": "contourcarpet"
           }
          ],
          "heatmap": [
           {
            "colorbar": {
             "outlinewidth": 0,
             "ticks": ""
            },
            "colorscale": [
             [
              0,
              "#0d0887"
             ],
             [
              0.1111111111111111,
              "#46039f"
             ],
             [
              0.2222222222222222,
              "#7201a8"
             ],
             [
              0.3333333333333333,
              "#9c179e"
             ],
             [
              0.4444444444444444,
              "#bd3786"
             ],
             [
              0.5555555555555556,
              "#d8576b"
             ],
             [
              0.6666666666666666,
              "#ed7953"
             ],
             [
              0.7777777777777778,
              "#fb9f3a"
             ],
             [
              0.8888888888888888,
              "#fdca26"
             ],
             [
              1,
              "#f0f921"
             ]
            ],
            "type": "heatmap"
           }
          ],
          "heatmapgl": [
           {
            "colorbar": {
             "outlinewidth": 0,
             "ticks": ""
            },
            "colorscale": [
             [
              0,
              "#0d0887"
             ],
             [
              0.1111111111111111,
              "#46039f"
             ],
             [
              0.2222222222222222,
              "#7201a8"
             ],
             [
              0.3333333333333333,
              "#9c179e"
             ],
             [
              0.4444444444444444,
              "#bd3786"
             ],
             [
              0.5555555555555556,
              "#d8576b"
             ],
             [
              0.6666666666666666,
              "#ed7953"
             ],
             [
              0.7777777777777778,
              "#fb9f3a"
             ],
             [
              0.8888888888888888,
              "#fdca26"
             ],
             [
              1,
              "#f0f921"
             ]
            ],
            "type": "heatmapgl"
           }
          ],
          "histogram": [
           {
            "marker": {
             "pattern": {
              "fillmode": "overlay",
              "size": 10,
              "solidity": 0.2
             }
            },
            "type": "histogram"
           }
          ],
          "histogram2d": [
           {
            "colorbar": {
             "outlinewidth": 0,
             "ticks": ""
            },
            "colorscale": [
             [
              0,
              "#0d0887"
             ],
             [
              0.1111111111111111,
              "#46039f"
             ],
             [
              0.2222222222222222,
              "#7201a8"
             ],
             [
              0.3333333333333333,
              "#9c179e"
             ],
             [
              0.4444444444444444,
              "#bd3786"
             ],
             [
              0.5555555555555556,
              "#d8576b"
             ],
             [
              0.6666666666666666,
              "#ed7953"
             ],
             [
              0.7777777777777778,
              "#fb9f3a"
             ],
             [
              0.8888888888888888,
              "#fdca26"
             ],
             [
              1,
              "#f0f921"
             ]
            ],
            "type": "histogram2d"
           }
          ],
          "histogram2dcontour": [
           {
            "colorbar": {
             "outlinewidth": 0,
             "ticks": ""
            },
            "colorscale": [
             [
              0,
              "#0d0887"
             ],
             [
              0.1111111111111111,
              "#46039f"
             ],
             [
              0.2222222222222222,
              "#7201a8"
             ],
             [
              0.3333333333333333,
              "#9c179e"
             ],
             [
              0.4444444444444444,
              "#bd3786"
             ],
             [
              0.5555555555555556,
              "#d8576b"
             ],
             [
              0.6666666666666666,
              "#ed7953"
             ],
             [
              0.7777777777777778,
              "#fb9f3a"
             ],
             [
              0.8888888888888888,
              "#fdca26"
             ],
             [
              1,
              "#f0f921"
             ]
            ],
            "type": "histogram2dcontour"
           }
          ],
          "mesh3d": [
           {
            "colorbar": {
             "outlinewidth": 0,
             "ticks": ""
            },
            "type": "mesh3d"
           }
          ],
          "parcoords": [
           {
            "line": {
             "colorbar": {
              "outlinewidth": 0,
              "ticks": ""
             }
            },
            "type": "parcoords"
           }
          ],
          "pie": [
           {
            "automargin": true,
            "type": "pie"
           }
          ],
          "scatter": [
           {
            "fillpattern": {
             "fillmode": "overlay",
             "size": 10,
             "solidity": 0.2
            },
            "type": "scatter"
           }
          ],
          "scatter3d": [
           {
            "line": {
             "colorbar": {
              "outlinewidth": 0,
              "ticks": ""
             }
            },
            "marker": {
             "colorbar": {
              "outlinewidth": 0,
              "ticks": ""
             }
            },
            "type": "scatter3d"
           }
          ],
          "scattercarpet": [
           {
            "marker": {
             "colorbar": {
              "outlinewidth": 0,
              "ticks": ""
             }
            },
            "type": "scattercarpet"
           }
          ],
          "scattergeo": [
           {
            "marker": {
             "colorbar": {
              "outlinewidth": 0,
              "ticks": ""
             }
            },
            "type": "scattergeo"
           }
          ],
          "scattergl": [
           {
            "marker": {
             "colorbar": {
              "outlinewidth": 0,
              "ticks": ""
             }
            },
            "type": "scattergl"
           }
          ],
          "scattermapbox": [
           {
            "marker": {
             "colorbar": {
              "outlinewidth": 0,
              "ticks": ""
             }
            },
            "type": "scattermapbox"
           }
          ],
          "scatterpolar": [
           {
            "marker": {
             "colorbar": {
              "outlinewidth": 0,
              "ticks": ""
             }
            },
            "type": "scatterpolar"
           }
          ],
          "scatterpolargl": [
           {
            "marker": {
             "colorbar": {
              "outlinewidth": 0,
              "ticks": ""
             }
            },
            "type": "scatterpolargl"
           }
          ],
          "scatterternary": [
           {
            "marker": {
             "colorbar": {
              "outlinewidth": 0,
              "ticks": ""
             }
            },
            "type": "scatterternary"
           }
          ],
          "surface": [
           {
            "colorbar": {
             "outlinewidth": 0,
             "ticks": ""
            },
            "colorscale": [
             [
              0,
              "#0d0887"
             ],
             [
              0.1111111111111111,
              "#46039f"
             ],
             [
              0.2222222222222222,
              "#7201a8"
             ],
             [
              0.3333333333333333,
              "#9c179e"
             ],
             [
              0.4444444444444444,
              "#bd3786"
             ],
             [
              0.5555555555555556,
              "#d8576b"
             ],
             [
              0.6666666666666666,
              "#ed7953"
             ],
             [
              0.7777777777777778,
              "#fb9f3a"
             ],
             [
              0.8888888888888888,
              "#fdca26"
             ],
             [
              1,
              "#f0f921"
             ]
            ],
            "type": "surface"
           }
          ],
          "table": [
           {
            "cells": {
             "fill": {
              "color": "#EBF0F8"
             },
             "line": {
              "color": "white"
             }
            },
            "header": {
             "fill": {
              "color": "#C8D4E3"
             },
             "line": {
              "color": "white"
             }
            },
            "type": "table"
           }
          ]
         },
         "layout": {
          "annotationdefaults": {
           "arrowcolor": "#2a3f5f",
           "arrowhead": 0,
           "arrowwidth": 1
          },
          "autotypenumbers": "strict",
          "coloraxis": {
           "colorbar": {
            "outlinewidth": 0,
            "ticks": ""
           }
          },
          "colorscale": {
           "diverging": [
            [
             0,
             "#8e0152"
            ],
            [
             0.1,
             "#c51b7d"
            ],
            [
             0.2,
             "#de77ae"
            ],
            [
             0.3,
             "#f1b6da"
            ],
            [
             0.4,
             "#fde0ef"
            ],
            [
             0.5,
             "#f7f7f7"
            ],
            [
             0.6,
             "#e6f5d0"
            ],
            [
             0.7,
             "#b8e186"
            ],
            [
             0.8,
             "#7fbc41"
            ],
            [
             0.9,
             "#4d9221"
            ],
            [
             1,
             "#276419"
            ]
           ],
           "sequential": [
            [
             0,
             "#0d0887"
            ],
            [
             0.1111111111111111,
             "#46039f"
            ],
            [
             0.2222222222222222,
             "#7201a8"
            ],
            [
             0.3333333333333333,
             "#9c179e"
            ],
            [
             0.4444444444444444,
             "#bd3786"
            ],
            [
             0.5555555555555556,
             "#d8576b"
            ],
            [
             0.6666666666666666,
             "#ed7953"
            ],
            [
             0.7777777777777778,
             "#fb9f3a"
            ],
            [
             0.8888888888888888,
             "#fdca26"
            ],
            [
             1,
             "#f0f921"
            ]
           ],
           "sequentialminus": [
            [
             0,
             "#0d0887"
            ],
            [
             0.1111111111111111,
             "#46039f"
            ],
            [
             0.2222222222222222,
             "#7201a8"
            ],
            [
             0.3333333333333333,
             "#9c179e"
            ],
            [
             0.4444444444444444,
             "#bd3786"
            ],
            [
             0.5555555555555556,
             "#d8576b"
            ],
            [
             0.6666666666666666,
             "#ed7953"
            ],
            [
             0.7777777777777778,
             "#fb9f3a"
            ],
            [
             0.8888888888888888,
             "#fdca26"
            ],
            [
             1,
             "#f0f921"
            ]
           ]
          },
          "colorway": [
           "#636efa",
           "#EF553B",
           "#00cc96",
           "#ab63fa",
           "#FFA15A",
           "#19d3f3",
           "#FF6692",
           "#B6E880",
           "#FF97FF",
           "#FECB52"
          ],
          "font": {
           "color": "#2a3f5f"
          },
          "geo": {
           "bgcolor": "white",
           "lakecolor": "white",
           "landcolor": "#E5ECF6",
           "showlakes": true,
           "showland": true,
           "subunitcolor": "white"
          },
          "hoverlabel": {
           "align": "left"
          },
          "hovermode": "closest",
          "mapbox": {
           "style": "light"
          },
          "paper_bgcolor": "white",
          "plot_bgcolor": "#E5ECF6",
          "polar": {
           "angularaxis": {
            "gridcolor": "white",
            "linecolor": "white",
            "ticks": ""
           },
           "bgcolor": "#E5ECF6",
           "radialaxis": {
            "gridcolor": "white",
            "linecolor": "white",
            "ticks": ""
           }
          },
          "scene": {
           "xaxis": {
            "backgroundcolor": "#E5ECF6",
            "gridcolor": "white",
            "gridwidth": 2,
            "linecolor": "white",
            "showbackground": true,
            "ticks": "",
            "zerolinecolor": "white"
           },
           "yaxis": {
            "backgroundcolor": "#E5ECF6",
            "gridcolor": "white",
            "gridwidth": 2,
            "linecolor": "white",
            "showbackground": true,
            "ticks": "",
            "zerolinecolor": "white"
           },
           "zaxis": {
            "backgroundcolor": "#E5ECF6",
            "gridcolor": "white",
            "gridwidth": 2,
            "linecolor": "white",
            "showbackground": true,
            "ticks": "",
            "zerolinecolor": "white"
           }
          },
          "shapedefaults": {
           "line": {
            "color": "#2a3f5f"
           }
          },
          "ternary": {
           "aaxis": {
            "gridcolor": "white",
            "linecolor": "white",
            "ticks": ""
           },
           "baxis": {
            "gridcolor": "white",
            "linecolor": "white",
            "ticks": ""
           },
           "bgcolor": "#E5ECF6",
           "caxis": {
            "gridcolor": "white",
            "linecolor": "white",
            "ticks": ""
           }
          },
          "title": {
           "x": 0.05
          },
          "xaxis": {
           "automargin": true,
           "gridcolor": "white",
           "linecolor": "white",
           "ticks": "",
           "title": {
            "standoff": 15
           },
           "zerolinecolor": "white",
           "zerolinewidth": 2
          },
          "yaxis": {
           "automargin": true,
           "gridcolor": "white",
           "linecolor": "white",
           "ticks": "",
           "title": {
            "standoff": 15
           },
           "zerolinecolor": "white",
           "zerolinewidth": 2
          }
         }
        },
        "xaxis": {
         "anchor": "y",
         "domain": [
          0,
          0.94
         ],
         "title": {
          "text": "$x [m]$"
         }
        },
        "yaxis": {
         "anchor": "x",
         "domain": [
          0,
          1
         ],
         "exponentformat": "e",
         "range": [
          0,
          50000000000
         ],
         "showexponent": "all",
         "title": {
          "font": {
           "color": "red"
          },
          "text": "$\\mu [Pa]$"
         }
        },
        "yaxis2": {
         "anchor": "x",
         "exponentformat": "e",
         "overlaying": "y",
         "range": [
          0,
          5000
         ],
         "showexponent": "all",
         "side": "right",
         "title": {
          "font": {
           "color": "blue"
          },
          "text": "$\\rho [kg/m^3]$"
         }
        }
       }
      }
     },
     "metadata": {},
     "output_type": "display_data"
    }
   ],
   "source": [
    "# Create experiment\n",
    "experiment = ForwardExperiment1D(verbose=2)\n",
    "\n",
    "# Define parameters\n",
    "nx = 7\n",
    "parameters_1 = {\n",
    "    'dx': 1,\n",
    "    'nx': nx, \n",
    "    #'dt': 0.001,\n",
    "    'dt': 0.05,\n",
    "    'nt': 200,\n",
    "    'order': 1,\n",
    "    'bcs': {'left': 'NBC', 'right': 'DBC'},\n",
    "    #'mu': homogeneous(3e10, nx+1),\n",
    "    'mu': homogeneous(3e3, nx+1),\n",
    "    #'mu': raised_cosine(3e10, nx+1, nx//2, 6, 1e10),\n",
    "    #'rho': homogeneous(3000, nx),\n",
    "    'rho': homogeneous(3e3, nx),\n",
    "    #'rho': raised_cosine(2e3, nx, nx//2, 6, 2e3),\n",
    "    #'u': ricker(1, nx, nx//2, sigma=20),\n",
    "    'u': ricker(1, nx, nx//2, sigma=3),\n",
    "    #'u': homogeneous(1,nx),\n",
    "    'v': homogeneous(0, nx),\n",
    "    #'v': homogeneous(1000,nx),\n",
    "    'backend': {}\n",
    "    }\n",
    "\n",
    "# Plot medium\n",
    "plot_medium(parameters_1['mu'], parameters_1['rho'])"
   ]
  },
  {
   "cell_type": "code",
   "execution_count": 3,
   "metadata": {},
   "outputs": [
    {
     "data": {
      "application/vnd.plotly.v1+json": {
       "config": {
        "plotlyServerURL": "https://plot.ly"
       },
       "data": [
        {
         "line": {
          "color": "blue"
         },
         "mode": "lines",
         "name": "$v [\\mu m / s^2]$",
         "showlegend": false,
         "type": "scatter",
         "x": [
          0,
          1,
          2,
          3,
          4,
          5,
          6
         ],
         "xaxis": "x",
         "y": [
          0,
          0,
          0,
          0,
          0,
          0,
          0
         ],
         "yaxis": "y2"
        },
        {
         "line": {
          "color": "red"
         },
         "mode": "lines",
         "name": "$u [\\mu m]$",
         "showlegend": false,
         "type": "scatter",
         "x": [
          0,
          1,
          2,
          3,
          4,
          5,
          6
         ],
         "xaxis": "x",
         "y": [
          -0.0009692515861872089,
          -0.09672948505884355,
          -0.3985406132939099,
          1,
          -0.3985406132939099,
          -0.09672948505884355,
          -0.0009692515861872089
         ],
         "yaxis": "y"
        }
       ],
       "layout": {
        "annotations": [
         {
          "font": {
           "size": 20
          },
          "showarrow": false,
          "text": "$$Wave \\; Field \\; t = 0$$",
          "x": 0.47,
          "xanchor": "center",
          "xref": "paper",
          "y": 1,
          "yanchor": "bottom",
          "yref": "paper",
          "yshift": 10
         }
        ],
        "font": {
         "size": 15
        },
        "template": {
         "data": {
          "bar": [
           {
            "error_x": {
             "color": "#2a3f5f"
            },
            "error_y": {
             "color": "#2a3f5f"
            },
            "marker": {
             "line": {
              "color": "#E5ECF6",
              "width": 0.5
             },
             "pattern": {
              "fillmode": "overlay",
              "size": 10,
              "solidity": 0.2
             }
            },
            "type": "bar"
           }
          ],
          "barpolar": [
           {
            "marker": {
             "line": {
              "color": "#E5ECF6",
              "width": 0.5
             },
             "pattern": {
              "fillmode": "overlay",
              "size": 10,
              "solidity": 0.2
             }
            },
            "type": "barpolar"
           }
          ],
          "carpet": [
           {
            "aaxis": {
             "endlinecolor": "#2a3f5f",
             "gridcolor": "white",
             "linecolor": "white",
             "minorgridcolor": "white",
             "startlinecolor": "#2a3f5f"
            },
            "baxis": {
             "endlinecolor": "#2a3f5f",
             "gridcolor": "white",
             "linecolor": "white",
             "minorgridcolor": "white",
             "startlinecolor": "#2a3f5f"
            },
            "type": "carpet"
           }
          ],
          "choropleth": [
           {
            "colorbar": {
             "outlinewidth": 0,
             "ticks": ""
            },
            "type": "choropleth"
           }
          ],
          "contour": [
           {
            "colorbar": {
             "outlinewidth": 0,
             "ticks": ""
            },
            "colorscale": [
             [
              0,
              "#0d0887"
             ],
             [
              0.1111111111111111,
              "#46039f"
             ],
             [
              0.2222222222222222,
              "#7201a8"
             ],
             [
              0.3333333333333333,
              "#9c179e"
             ],
             [
              0.4444444444444444,
              "#bd3786"
             ],
             [
              0.5555555555555556,
              "#d8576b"
             ],
             [
              0.6666666666666666,
              "#ed7953"
             ],
             [
              0.7777777777777778,
              "#fb9f3a"
             ],
             [
              0.8888888888888888,
              "#fdca26"
             ],
             [
              1,
              "#f0f921"
             ]
            ],
            "type": "contour"
           }
          ],
          "contourcarpet": [
           {
            "colorbar": {
             "outlinewidth": 0,
             "ticks": ""
            },
            "type": "contourcarpet"
           }
          ],
          "heatmap": [
           {
            "colorbar": {
             "outlinewidth": 0,
             "ticks": ""
            },
            "colorscale": [
             [
              0,
              "#0d0887"
             ],
             [
              0.1111111111111111,
              "#46039f"
             ],
             [
              0.2222222222222222,
              "#7201a8"
             ],
             [
              0.3333333333333333,
              "#9c179e"
             ],
             [
              0.4444444444444444,
              "#bd3786"
             ],
             [
              0.5555555555555556,
              "#d8576b"
             ],
             [
              0.6666666666666666,
              "#ed7953"
             ],
             [
              0.7777777777777778,
              "#fb9f3a"
             ],
             [
              0.8888888888888888,
              "#fdca26"
             ],
             [
              1,
              "#f0f921"
             ]
            ],
            "type": "heatmap"
           }
          ],
          "heatmapgl": [
           {
            "colorbar": {
             "outlinewidth": 0,
             "ticks": ""
            },
            "colorscale": [
             [
              0,
              "#0d0887"
             ],
             [
              0.1111111111111111,
              "#46039f"
             ],
             [
              0.2222222222222222,
              "#7201a8"
             ],
             [
              0.3333333333333333,
              "#9c179e"
             ],
             [
              0.4444444444444444,
              "#bd3786"
             ],
             [
              0.5555555555555556,
              "#d8576b"
             ],
             [
              0.6666666666666666,
              "#ed7953"
             ],
             [
              0.7777777777777778,
              "#fb9f3a"
             ],
             [
              0.8888888888888888,
              "#fdca26"
             ],
             [
              1,
              "#f0f921"
             ]
            ],
            "type": "heatmapgl"
           }
          ],
          "histogram": [
           {
            "marker": {
             "pattern": {
              "fillmode": "overlay",
              "size": 10,
              "solidity": 0.2
             }
            },
            "type": "histogram"
           }
          ],
          "histogram2d": [
           {
            "colorbar": {
             "outlinewidth": 0,
             "ticks": ""
            },
            "colorscale": [
             [
              0,
              "#0d0887"
             ],
             [
              0.1111111111111111,
              "#46039f"
             ],
             [
              0.2222222222222222,
              "#7201a8"
             ],
             [
              0.3333333333333333,
              "#9c179e"
             ],
             [
              0.4444444444444444,
              "#bd3786"
             ],
             [
              0.5555555555555556,
              "#d8576b"
             ],
             [
              0.6666666666666666,
              "#ed7953"
             ],
             [
              0.7777777777777778,
              "#fb9f3a"
             ],
             [
              0.8888888888888888,
              "#fdca26"
             ],
             [
              1,
              "#f0f921"
             ]
            ],
            "type": "histogram2d"
           }
          ],
          "histogram2dcontour": [
           {
            "colorbar": {
             "outlinewidth": 0,
             "ticks": ""
            },
            "colorscale": [
             [
              0,
              "#0d0887"
             ],
             [
              0.1111111111111111,
              "#46039f"
             ],
             [
              0.2222222222222222,
              "#7201a8"
             ],
             [
              0.3333333333333333,
              "#9c179e"
             ],
             [
              0.4444444444444444,
              "#bd3786"
             ],
             [
              0.5555555555555556,
              "#d8576b"
             ],
             [
              0.6666666666666666,
              "#ed7953"
             ],
             [
              0.7777777777777778,
              "#fb9f3a"
             ],
             [
              0.8888888888888888,
              "#fdca26"
             ],
             [
              1,
              "#f0f921"
             ]
            ],
            "type": "histogram2dcontour"
           }
          ],
          "mesh3d": [
           {
            "colorbar": {
             "outlinewidth": 0,
             "ticks": ""
            },
            "type": "mesh3d"
           }
          ],
          "parcoords": [
           {
            "line": {
             "colorbar": {
              "outlinewidth": 0,
              "ticks": ""
             }
            },
            "type": "parcoords"
           }
          ],
          "pie": [
           {
            "automargin": true,
            "type": "pie"
           }
          ],
          "scatter": [
           {
            "fillpattern": {
             "fillmode": "overlay",
             "size": 10,
             "solidity": 0.2
            },
            "type": "scatter"
           }
          ],
          "scatter3d": [
           {
            "line": {
             "colorbar": {
              "outlinewidth": 0,
              "ticks": ""
             }
            },
            "marker": {
             "colorbar": {
              "outlinewidth": 0,
              "ticks": ""
             }
            },
            "type": "scatter3d"
           }
          ],
          "scattercarpet": [
           {
            "marker": {
             "colorbar": {
              "outlinewidth": 0,
              "ticks": ""
             }
            },
            "type": "scattercarpet"
           }
          ],
          "scattergeo": [
           {
            "marker": {
             "colorbar": {
              "outlinewidth": 0,
              "ticks": ""
             }
            },
            "type": "scattergeo"
           }
          ],
          "scattergl": [
           {
            "marker": {
             "colorbar": {
              "outlinewidth": 0,
              "ticks": ""
             }
            },
            "type": "scattergl"
           }
          ],
          "scattermapbox": [
           {
            "marker": {
             "colorbar": {
              "outlinewidth": 0,
              "ticks": ""
             }
            },
            "type": "scattermapbox"
           }
          ],
          "scatterpolar": [
           {
            "marker": {
             "colorbar": {
              "outlinewidth": 0,
              "ticks": ""
             }
            },
            "type": "scatterpolar"
           }
          ],
          "scatterpolargl": [
           {
            "marker": {
             "colorbar": {
              "outlinewidth": 0,
              "ticks": ""
             }
            },
            "type": "scatterpolargl"
           }
          ],
          "scatterternary": [
           {
            "marker": {
             "colorbar": {
              "outlinewidth": 0,
              "ticks": ""
             }
            },
            "type": "scatterternary"
           }
          ],
          "surface": [
           {
            "colorbar": {
             "outlinewidth": 0,
             "ticks": ""
            },
            "colorscale": [
             [
              0,
              "#0d0887"
             ],
             [
              0.1111111111111111,
              "#46039f"
             ],
             [
              0.2222222222222222,
              "#7201a8"
             ],
             [
              0.3333333333333333,
              "#9c179e"
             ],
             [
              0.4444444444444444,
              "#bd3786"
             ],
             [
              0.5555555555555556,
              "#d8576b"
             ],
             [
              0.6666666666666666,
              "#ed7953"
             ],
             [
              0.7777777777777778,
              "#fb9f3a"
             ],
             [
              0.8888888888888888,
              "#fdca26"
             ],
             [
              1,
              "#f0f921"
             ]
            ],
            "type": "surface"
           }
          ],
          "table": [
           {
            "cells": {
             "fill": {
              "color": "#EBF0F8"
             },
             "line": {
              "color": "white"
             }
            },
            "header": {
             "fill": {
              "color": "#C8D4E3"
             },
             "line": {
              "color": "white"
             }
            },
            "type": "table"
           }
          ]
         },
         "layout": {
          "annotationdefaults": {
           "arrowcolor": "#2a3f5f",
           "arrowhead": 0,
           "arrowwidth": 1
          },
          "autotypenumbers": "strict",
          "coloraxis": {
           "colorbar": {
            "outlinewidth": 0,
            "ticks": ""
           }
          },
          "colorscale": {
           "diverging": [
            [
             0,
             "#8e0152"
            ],
            [
             0.1,
             "#c51b7d"
            ],
            [
             0.2,
             "#de77ae"
            ],
            [
             0.3,
             "#f1b6da"
            ],
            [
             0.4,
             "#fde0ef"
            ],
            [
             0.5,
             "#f7f7f7"
            ],
            [
             0.6,
             "#e6f5d0"
            ],
            [
             0.7,
             "#b8e186"
            ],
            [
             0.8,
             "#7fbc41"
            ],
            [
             0.9,
             "#4d9221"
            ],
            [
             1,
             "#276419"
            ]
           ],
           "sequential": [
            [
             0,
             "#0d0887"
            ],
            [
             0.1111111111111111,
             "#46039f"
            ],
            [
             0.2222222222222222,
             "#7201a8"
            ],
            [
             0.3333333333333333,
             "#9c179e"
            ],
            [
             0.4444444444444444,
             "#bd3786"
            ],
            [
             0.5555555555555556,
             "#d8576b"
            ],
            [
             0.6666666666666666,
             "#ed7953"
            ],
            [
             0.7777777777777778,
             "#fb9f3a"
            ],
            [
             0.8888888888888888,
             "#fdca26"
            ],
            [
             1,
             "#f0f921"
            ]
           ],
           "sequentialminus": [
            [
             0,
             "#0d0887"
            ],
            [
             0.1111111111111111,
             "#46039f"
            ],
            [
             0.2222222222222222,
             "#7201a8"
            ],
            [
             0.3333333333333333,
             "#9c179e"
            ],
            [
             0.4444444444444444,
             "#bd3786"
            ],
            [
             0.5555555555555556,
             "#d8576b"
            ],
            [
             0.6666666666666666,
             "#ed7953"
            ],
            [
             0.7777777777777778,
             "#fb9f3a"
            ],
            [
             0.8888888888888888,
             "#fdca26"
            ],
            [
             1,
             "#f0f921"
            ]
           ]
          },
          "colorway": [
           "#636efa",
           "#EF553B",
           "#00cc96",
           "#ab63fa",
           "#FFA15A",
           "#19d3f3",
           "#FF6692",
           "#B6E880",
           "#FF97FF",
           "#FECB52"
          ],
          "font": {
           "color": "#2a3f5f"
          },
          "geo": {
           "bgcolor": "white",
           "lakecolor": "white",
           "landcolor": "#E5ECF6",
           "showlakes": true,
           "showland": true,
           "subunitcolor": "white"
          },
          "hoverlabel": {
           "align": "left"
          },
          "hovermode": "closest",
          "mapbox": {
           "style": "light"
          },
          "paper_bgcolor": "white",
          "plot_bgcolor": "#E5ECF6",
          "polar": {
           "angularaxis": {
            "gridcolor": "white",
            "linecolor": "white",
            "ticks": ""
           },
           "bgcolor": "#E5ECF6",
           "radialaxis": {
            "gridcolor": "white",
            "linecolor": "white",
            "ticks": ""
           }
          },
          "scene": {
           "xaxis": {
            "backgroundcolor": "#E5ECF6",
            "gridcolor": "white",
            "gridwidth": 2,
            "linecolor": "white",
            "showbackground": true,
            "ticks": "",
            "zerolinecolor": "white"
           },
           "yaxis": {
            "backgroundcolor": "#E5ECF6",
            "gridcolor": "white",
            "gridwidth": 2,
            "linecolor": "white",
            "showbackground": true,
            "ticks": "",
            "zerolinecolor": "white"
           },
           "zaxis": {
            "backgroundcolor": "#E5ECF6",
            "gridcolor": "white",
            "gridwidth": 2,
            "linecolor": "white",
            "showbackground": true,
            "ticks": "",
            "zerolinecolor": "white"
           }
          },
          "shapedefaults": {
           "line": {
            "color": "#2a3f5f"
           }
          },
          "ternary": {
           "aaxis": {
            "gridcolor": "white",
            "linecolor": "white",
            "ticks": ""
           },
           "baxis": {
            "gridcolor": "white",
            "linecolor": "white",
            "ticks": ""
           },
           "bgcolor": "#E5ECF6",
           "caxis": {
            "gridcolor": "white",
            "linecolor": "white",
            "ticks": ""
           }
          },
          "title": {
           "x": 0.05
          },
          "xaxis": {
           "automargin": true,
           "gridcolor": "white",
           "linecolor": "white",
           "ticks": "",
           "title": {
            "standoff": 15
           },
           "zerolinecolor": "white",
           "zerolinewidth": 2
          },
          "yaxis": {
           "automargin": true,
           "gridcolor": "white",
           "linecolor": "white",
           "ticks": "",
           "title": {
            "standoff": 15
           },
           "zerolinecolor": "white",
           "zerolinewidth": 2
          }
         }
        },
        "xaxis": {
         "anchor": "y",
         "domain": [
          0,
          0.94
         ],
         "title": {
          "text": "$x [m]$"
         }
        },
        "yaxis": {
         "anchor": "x",
         "domain": [
          0,
          1
         ],
         "exponentformat": "e",
         "range": [
          -1,
          1
         ],
         "showexponent": "all",
         "title": {
          "font": {
           "color": "red"
          },
          "text": "$u [\\mu m]$"
         }
        },
        "yaxis2": {
         "anchor": "x",
         "exponentformat": "e",
         "overlaying": "y",
         "range": [
          -4000,
          4000
         ],
         "showexponent": "all",
         "side": "right",
         "title": {
          "font": {
           "color": "blue"
          },
          "text": "$v [\\mu m / s^2]$"
         }
        }
       }
      }
     },
     "metadata": {},
     "output_type": "display_data"
    }
   ],
   "source": [
    "plot_uv(parameters_1['u'], parameters_1['v'],0, plot_v=True)"
   ]
  },
  {
   "cell_type": "code",
   "execution_count": 4,
   "metadata": {},
   "outputs": [
    {
     "name": "stderr",
     "output_type": "stream",
     "text": [
      "2023-12-01 11:00:42,528 - INFO - Adding solver 1: ode\n",
      "2023-12-01 11:00:42,529 - INFO - Parameters checked for validity.\n",
      "2023-12-01 11:00:42,529 - INFO - Solving for 200 time steps.\n",
      "2023-12-01 11:00:42,530 - INFO - Calculating Transformation and Hamiltonian.\n",
      "2023-12-01 11:00:42,533 - INFO - Calculation completed.\n",
      "2023-12-01 11:00:42,566 - INFO - Medium initialized.\n",
      "2023-12-01 11:00:42,579 - INFO - Initial state forward-transformed.\n",
      "2023-12-01 11:00:42,582 - INFO - Solver 0 added.\n",
      "\n",
      "2023-12-01 11:00:42,586 - INFO - Adding solver 2: exp\n",
      "2023-12-01 11:00:42,592 - INFO - Parameters checked for validity.\n",
      "2023-12-01 11:00:42,612 - INFO - Solving for 200 time steps.\n",
      "2023-12-01 11:00:42,620 - INFO - Calculating Transformation and Hamiltonian.\n",
      "2023-12-01 11:00:42,627 - INFO - Calculation completed.\n",
      "2023-12-01 11:00:42,641 - INFO - Medium initialized.\n",
      "2023-12-01 11:00:42,643 - INFO - Initial state forward-transformed.\n",
      "2023-12-01 11:00:42,643 - INFO - Solver 1 added.\n",
      "\n",
      "2023-12-01 11:00:42,645 - INFO - Adding solver 3: local\n",
      "2023-12-01 11:00:42,646 - INFO - Parameters checked for validity.\n",
      "2023-12-01 11:00:42,646 - INFO - Solving for 200 time steps.\n",
      "2023-12-01 11:00:42,649 - INFO - Calculating Transformation and Hamiltonian.\n",
      "2023-12-01 11:00:42,703 - INFO - Calculation completed.\n",
      "2023-12-01 11:00:42,705 - INFO - Medium initialized.\n",
      "2023-12-01 11:00:42,706 - INFO - Initial state transformed.\n",
      "2023-12-01 11:00:42,709 - INFO - Solver 2 added.\n",
      "\n",
      "2023-12-01 11:00:42,716 - INFO - Running solver 1: ode\n",
      "2023-12-01 11:00:42,718 - INFO - Solving ODE.\n",
      "2023-12-01 11:00:42,722 - INFO - ODE solved.\n",
      "2023-12-01 11:00:42,727 - INFO - States inverse-transformed.\n",
      "2023-12-01 11:00:42,729 - INFO - Saving data.\n",
      "2023-12-01 11:00:42,741 - INFO - Solver 1 completed in 0:00:00.012879.\n",
      "\n",
      "2023-12-01 11:00:42,742 - INFO - Running solver 2: exp\n",
      "2023-12-01 11:00:42,743 - INFO - Solving matrix exponential.\n",
      "2023-12-01 11:00:42,971 - INFO - Matrix exponential solved.\n",
      "2023-12-01 11:00:42,981 - INFO - States inverse-transformed.\n",
      "2023-12-01 11:00:42,990 - INFO - Saving data.\n",
      "2023-12-01 11:00:43,001 - INFO - Solver 2 completed in 0:00:00.248553.\n",
      "\n",
      "2023-12-01 11:00:43,003 - INFO - Running solver 3: local\n",
      "2023-12-01 11:00:43,005 - INFO - Generating circuits.\n",
      "2023-12-01 11:00:43,018 - INFO - Generating circuits for step: 1 | 199.\n",
      "2023-12-01 11:00:43,032 - INFO - Generating circuits for step: 2 | 199.\n",
      "2023-12-01 11:00:43,041 - INFO - Generating circuits for step: 3 | 199.\n",
      "2023-12-01 11:00:43,121 - INFO - Generating circuits for step: 4 | 199.\n",
      "2023-12-01 11:00:43,129 - INFO - Generating circuits for step: 5 | 199.\n",
      "2023-12-01 11:00:43,140 - INFO - Generating circuits for step: 6 | 199.\n",
      "2023-12-01 11:00:43,147 - INFO - Generating circuits for step: 7 | 199.\n",
      "2023-12-01 11:00:43,154 - INFO - Generating circuits for step: 8 | 199.\n",
      "2023-12-01 11:00:43,162 - INFO - Generating circuits for step: 9 | 199.\n",
      "2023-12-01 11:00:43,170 - INFO - Generating circuits for step: 10 | 199.\n",
      "2023-12-01 11:00:43,180 - INFO - Generating circuits for step: 11 | 199.\n",
      "2023-12-01 11:00:43,187 - INFO - Generating circuits for step: 12 | 199.\n",
      "2023-12-01 11:00:43,195 - INFO - Generating circuits for step: 13 | 199.\n",
      "2023-12-01 11:00:43,202 - INFO - Generating circuits for step: 14 | 199.\n",
      "2023-12-01 11:00:43,209 - INFO - Generating circuits for step: 15 | 199.\n",
      "2023-12-01 11:00:43,220 - INFO - Generating circuits for step: 16 | 199.\n",
      "2023-12-01 11:00:43,229 - INFO - Generating circuits for step: 17 | 199.\n",
      "2023-12-01 11:00:43,238 - INFO - Generating circuits for step: 18 | 199.\n",
      "2023-12-01 11:00:43,244 - INFO - Generating circuits for step: 19 | 199.\n",
      "2023-12-01 11:00:43,250 - INFO - Generating circuits for step: 20 | 199.\n",
      "2023-12-01 11:00:43,257 - INFO - Generating circuits for step: 21 | 199.\n",
      "2023-12-01 11:00:43,262 - INFO - Generating circuits for step: 22 | 199.\n",
      "2023-12-01 11:00:43,269 - INFO - Generating circuits for step: 23 | 199.\n",
      "2023-12-01 11:00:43,275 - INFO - Generating circuits for step: 24 | 199.\n",
      "2023-12-01 11:00:43,281 - INFO - Generating circuits for step: 25 | 199.\n",
      "2023-12-01 11:00:43,288 - INFO - Generating circuits for step: 26 | 199.\n",
      "2023-12-01 11:00:43,294 - INFO - Generating circuits for step: 27 | 199.\n",
      "2023-12-01 11:00:43,301 - INFO - Generating circuits for step: 28 | 199.\n",
      "2023-12-01 11:00:43,307 - INFO - Generating circuits for step: 29 | 199.\n",
      "2023-12-01 11:00:43,313 - INFO - Generating circuits for step: 30 | 199.\n",
      "2023-12-01 11:00:43,392 - INFO - Generating circuits for step: 31 | 199.\n",
      "2023-12-01 11:00:43,397 - INFO - Generating circuits for step: 32 | 199.\n",
      "2023-12-01 11:00:43,404 - INFO - Generating circuits for step: 33 | 199.\n",
      "2023-12-01 11:00:43,410 - INFO - Generating circuits for step: 34 | 199.\n",
      "2023-12-01 11:00:43,417 - INFO - Generating circuits for step: 35 | 199.\n",
      "2023-12-01 11:00:43,423 - INFO - Generating circuits for step: 36 | 199.\n",
      "2023-12-01 11:00:43,430 - INFO - Generating circuits for step: 37 | 199.\n",
      "2023-12-01 11:00:43,436 - INFO - Generating circuits for step: 38 | 199.\n",
      "2023-12-01 11:00:43,442 - INFO - Generating circuits for step: 39 | 199.\n",
      "2023-12-01 11:00:43,448 - INFO - Generating circuits for step: 40 | 199.\n",
      "2023-12-01 11:00:43,455 - INFO - Generating circuits for step: 41 | 199.\n",
      "2023-12-01 11:00:43,461 - INFO - Generating circuits for step: 42 | 199.\n",
      "2023-12-01 11:00:43,468 - INFO - Generating circuits for step: 43 | 199.\n",
      "2023-12-01 11:00:43,474 - INFO - Generating circuits for step: 44 | 199.\n",
      "2023-12-01 11:00:43,480 - INFO - Generating circuits for step: 45 | 199.\n",
      "2023-12-01 11:00:43,486 - INFO - Generating circuits for step: 46 | 199.\n",
      "2023-12-01 11:00:43,492 - INFO - Generating circuits for step: 47 | 199.\n",
      "2023-12-01 11:00:43,498 - INFO - Generating circuits for step: 48 | 199.\n",
      "2023-12-01 11:00:43,505 - INFO - Generating circuits for step: 49 | 199.\n",
      "2023-12-01 11:00:43,510 - INFO - Generating circuits for step: 50 | 199.\n",
      "2023-12-01 11:00:43,517 - INFO - Generating circuits for step: 51 | 199.\n",
      "2023-12-01 11:00:43,523 - INFO - Generating circuits for step: 52 | 199.\n",
      "2023-12-01 11:00:43,530 - INFO - Generating circuits for step: 53 | 199.\n",
      "2023-12-01 11:00:43,536 - INFO - Generating circuits for step: 54 | 199.\n",
      "2023-12-01 11:00:43,542 - INFO - Generating circuits for step: 55 | 199.\n",
      "2023-12-01 11:00:43,548 - INFO - Generating circuits for step: 56 | 199.\n",
      "2023-12-01 11:00:43,554 - INFO - Generating circuits for step: 57 | 199.\n",
      "2023-12-01 11:00:43,560 - INFO - Generating circuits for step: 58 | 199.\n",
      "2023-12-01 11:00:43,566 - INFO - Generating circuits for step: 59 | 199.\n",
      "2023-12-01 11:00:43,572 - INFO - Generating circuits for step: 60 | 199.\n",
      "2023-12-01 11:00:43,578 - INFO - Generating circuits for step: 61 | 199.\n",
      "2023-12-01 11:00:43,584 - INFO - Generating circuits for step: 62 | 199.\n",
      "2023-12-01 11:00:43,663 - INFO - Generating circuits for step: 63 | 199.\n",
      "2023-12-01 11:00:43,669 - INFO - Generating circuits for step: 64 | 199.\n",
      "2023-12-01 11:00:43,674 - INFO - Generating circuits for step: 65 | 199.\n",
      "2023-12-01 11:00:43,681 - INFO - Generating circuits for step: 66 | 199.\n",
      "2023-12-01 11:00:43,686 - INFO - Generating circuits for step: 67 | 199.\n",
      "2023-12-01 11:00:43,692 - INFO - Generating circuits for step: 68 | 199.\n",
      "2023-12-01 11:00:43,698 - INFO - Generating circuits for step: 69 | 199.\n",
      "2023-12-01 11:00:43,703 - INFO - Generating circuits for step: 70 | 199.\n",
      "2023-12-01 11:00:43,709 - INFO - Generating circuits for step: 71 | 199.\n",
      "2023-12-01 11:00:43,716 - INFO - Generating circuits for step: 72 | 199.\n",
      "2023-12-01 11:00:43,721 - INFO - Generating circuits for step: 73 | 199.\n",
      "2023-12-01 11:00:43,727 - INFO - Generating circuits for step: 74 | 199.\n",
      "2023-12-01 11:00:43,733 - INFO - Generating circuits for step: 75 | 199.\n",
      "2023-12-01 11:00:43,740 - INFO - Generating circuits for step: 76 | 199.\n",
      "2023-12-01 11:00:43,747 - INFO - Generating circuits for step: 77 | 199.\n",
      "2023-12-01 11:00:43,753 - INFO - Generating circuits for step: 78 | 199.\n",
      "2023-12-01 11:00:43,759 - INFO - Generating circuits for step: 79 | 199.\n",
      "2023-12-01 11:00:43,765 - INFO - Generating circuits for step: 80 | 199.\n",
      "2023-12-01 11:00:43,771 - INFO - Generating circuits for step: 81 | 199.\n",
      "2023-12-01 11:00:43,778 - INFO - Generating circuits for step: 82 | 199.\n",
      "2023-12-01 11:00:43,784 - INFO - Generating circuits for step: 83 | 199.\n",
      "2023-12-01 11:00:43,790 - INFO - Generating circuits for step: 84 | 199.\n",
      "2023-12-01 11:00:43,797 - INFO - Generating circuits for step: 85 | 199.\n",
      "2023-12-01 11:00:43,802 - INFO - Generating circuits for step: 86 | 199.\n",
      "2023-12-01 11:00:43,808 - INFO - Generating circuits for step: 87 | 199.\n",
      "2023-12-01 11:00:43,814 - INFO - Generating circuits for step: 88 | 199.\n",
      "2023-12-01 11:00:43,820 - INFO - Generating circuits for step: 89 | 199.\n",
      "2023-12-01 11:00:43,826 - INFO - Generating circuits for step: 90 | 199.\n",
      "2023-12-01 11:00:43,832 - INFO - Generating circuits for step: 91 | 199.\n",
      "2023-12-01 11:00:43,838 - INFO - Generating circuits for step: 92 | 199.\n",
      "2023-12-01 11:00:43,844 - INFO - Generating circuits for step: 93 | 199.\n",
      "2023-12-01 11:00:43,850 - INFO - Generating circuits for step: 94 | 199.\n",
      "2023-12-01 11:00:43,856 - INFO - Generating circuits for step: 95 | 199.\n",
      "2023-12-01 11:00:43,862 - INFO - Generating circuits for step: 96 | 199.\n",
      "2023-12-01 11:00:43,868 - INFO - Generating circuits for step: 97 | 199.\n",
      "2023-12-01 11:00:43,875 - INFO - Generating circuits for step: 98 | 199.\n",
      "2023-12-01 11:00:43,880 - INFO - Generating circuits for step: 99 | 199.\n",
      "2023-12-01 11:00:43,886 - INFO - Generating circuits for step: 100 | 199.\n",
      "2023-12-01 11:00:43,892 - INFO - Generating circuits for step: 101 | 199.\n",
      "2023-12-01 11:00:43,898 - INFO - Generating circuits for step: 102 | 199.\n",
      "2023-12-01 11:00:43,989 - INFO - Generating circuits for step: 103 | 199.\n",
      "2023-12-01 11:00:43,994 - INFO - Generating circuits for step: 104 | 199.\n",
      "2023-12-01 11:00:44,000 - INFO - Generating circuits for step: 105 | 199.\n",
      "2023-12-01 11:00:44,006 - INFO - Generating circuits for step: 106 | 199.\n",
      "2023-12-01 11:00:44,012 - INFO - Generating circuits for step: 107 | 199.\n",
      "2023-12-01 11:00:44,018 - INFO - Generating circuits for step: 108 | 199.\n",
      "2023-12-01 11:00:44,023 - INFO - Generating circuits for step: 109 | 199.\n",
      "2023-12-01 11:00:44,029 - INFO - Generating circuits for step: 110 | 199.\n",
      "2023-12-01 11:00:44,036 - INFO - Generating circuits for step: 111 | 199.\n",
      "2023-12-01 11:00:44,042 - INFO - Generating circuits for step: 112 | 199.\n",
      "2023-12-01 11:00:44,048 - INFO - Generating circuits for step: 113 | 199.\n",
      "2023-12-01 11:00:44,054 - INFO - Generating circuits for step: 114 | 199.\n",
      "2023-12-01 11:00:44,060 - INFO - Generating circuits for step: 115 | 199.\n",
      "2023-12-01 11:00:44,066 - INFO - Generating circuits for step: 116 | 199.\n",
      "2023-12-01 11:00:44,073 - INFO - Generating circuits for step: 117 | 199.\n",
      "2023-12-01 11:00:44,081 - INFO - Generating circuits for step: 118 | 199.\n",
      "2023-12-01 11:00:44,086 - INFO - Generating circuits for step: 119 | 199.\n",
      "2023-12-01 11:00:44,092 - INFO - Generating circuits for step: 120 | 199.\n",
      "2023-12-01 11:00:44,099 - INFO - Generating circuits for step: 121 | 199.\n",
      "2023-12-01 11:00:44,105 - INFO - Generating circuits for step: 122 | 199.\n",
      "2023-12-01 11:00:44,111 - INFO - Generating circuits for step: 123 | 199.\n",
      "2023-12-01 11:00:44,117 - INFO - Generating circuits for step: 124 | 199.\n",
      "2023-12-01 11:00:44,123 - INFO - Generating circuits for step: 125 | 199.\n",
      "2023-12-01 11:00:44,129 - INFO - Generating circuits for step: 126 | 199.\n",
      "2023-12-01 11:00:44,135 - INFO - Generating circuits for step: 127 | 199.\n",
      "2023-12-01 11:00:44,141 - INFO - Generating circuits for step: 128 | 199.\n",
      "2023-12-01 11:00:44,147 - INFO - Generating circuits for step: 129 | 199.\n",
      "2023-12-01 11:00:44,155 - INFO - Generating circuits for step: 130 | 199.\n",
      "2023-12-01 11:00:44,160 - INFO - Generating circuits for step: 131 | 199.\n",
      "2023-12-01 11:00:44,166 - INFO - Generating circuits for step: 132 | 199.\n",
      "2023-12-01 11:00:44,173 - INFO - Generating circuits for step: 133 | 199.\n",
      "2023-12-01 11:00:44,179 - INFO - Generating circuits for step: 134 | 199.\n",
      "2023-12-01 11:00:44,185 - INFO - Generating circuits for step: 135 | 199.\n",
      "2023-12-01 11:00:44,190 - INFO - Generating circuits for step: 136 | 199.\n",
      "2023-12-01 11:00:44,196 - INFO - Generating circuits for step: 137 | 199.\n",
      "2023-12-01 11:00:44,202 - INFO - Generating circuits for step: 138 | 199.\n",
      "2023-12-01 11:00:44,209 - INFO - Generating circuits for step: 139 | 199.\n",
      "2023-12-01 11:00:44,215 - INFO - Generating circuits for step: 140 | 199.\n",
      "2023-12-01 11:00:44,221 - INFO - Generating circuits for step: 141 | 199.\n",
      "2023-12-01 11:00:44,227 - INFO - Generating circuits for step: 142 | 199.\n",
      "2023-12-01 11:00:44,233 - INFO - Generating circuits for step: 143 | 199.\n",
      "2023-12-01 11:00:44,239 - INFO - Generating circuits for step: 144 | 199.\n",
      "2023-12-01 11:00:44,245 - INFO - Generating circuits for step: 145 | 199.\n",
      "2023-12-01 11:00:44,251 - INFO - Generating circuits for step: 146 | 199.\n",
      "2023-12-01 11:00:44,257 - INFO - Generating circuits for step: 147 | 199.\n",
      "2023-12-01 11:00:44,263 - INFO - Generating circuits for step: 148 | 199.\n",
      "2023-12-01 11:00:44,269 - INFO - Generating circuits for step: 149 | 199.\n",
      "2023-12-01 11:00:44,275 - INFO - Generating circuits for step: 150 | 199.\n",
      "2023-12-01 11:00:44,281 - INFO - Generating circuits for step: 151 | 199.\n",
      "2023-12-01 11:00:44,287 - INFO - Generating circuits for step: 152 | 199.\n",
      "2023-12-01 11:00:44,386 - INFO - Generating circuits for step: 153 | 199.\n",
      "2023-12-01 11:00:44,392 - INFO - Generating circuits for step: 154 | 199.\n",
      "2023-12-01 11:00:44,397 - INFO - Generating circuits for step: 155 | 199.\n",
      "2023-12-01 11:00:44,403 - INFO - Generating circuits for step: 156 | 199.\n",
      "2023-12-01 11:00:44,410 - INFO - Generating circuits for step: 157 | 199.\n",
      "2023-12-01 11:00:44,416 - INFO - Generating circuits for step: 158 | 199.\n",
      "2023-12-01 11:00:44,422 - INFO - Generating circuits for step: 159 | 199.\n",
      "2023-12-01 11:00:44,427 - INFO - Generating circuits for step: 160 | 199.\n",
      "2023-12-01 11:00:44,433 - INFO - Generating circuits for step: 161 | 199.\n",
      "2023-12-01 11:00:44,439 - INFO - Generating circuits for step: 162 | 199.\n",
      "2023-12-01 11:00:44,445 - INFO - Generating circuits for step: 163 | 199.\n",
      "2023-12-01 11:00:44,451 - INFO - Generating circuits for step: 164 | 199.\n",
      "2023-12-01 11:00:44,458 - INFO - Generating circuits for step: 165 | 199.\n",
      "2023-12-01 11:00:44,463 - INFO - Generating circuits for step: 166 | 199.\n",
      "2023-12-01 11:00:44,469 - INFO - Generating circuits for step: 167 | 199.\n",
      "2023-12-01 11:00:44,477 - INFO - Generating circuits for step: 168 | 199.\n",
      "2023-12-01 11:00:44,488 - INFO - Generating circuits for step: 169 | 199.\n",
      "2023-12-01 11:00:44,495 - INFO - Generating circuits for step: 170 | 199.\n",
      "2023-12-01 11:00:44,504 - INFO - Generating circuits for step: 171 | 199.\n",
      "2023-12-01 11:00:44,510 - INFO - Generating circuits for step: 172 | 199.\n",
      "2023-12-01 11:00:44,517 - INFO - Generating circuits for step: 173 | 199.\n",
      "2023-12-01 11:00:44,522 - INFO - Generating circuits for step: 174 | 199.\n",
      "2023-12-01 11:00:44,529 - INFO - Generating circuits for step: 175 | 199.\n",
      "2023-12-01 11:00:44,535 - INFO - Generating circuits for step: 176 | 199.\n",
      "2023-12-01 11:00:44,541 - INFO - Generating circuits for step: 177 | 199.\n",
      "2023-12-01 11:00:44,547 - INFO - Generating circuits for step: 178 | 199.\n",
      "2023-12-01 11:00:44,552 - INFO - Generating circuits for step: 179 | 199.\n",
      "2023-12-01 11:00:44,559 - INFO - Generating circuits for step: 180 | 199.\n",
      "2023-12-01 11:00:44,566 - INFO - Generating circuits for step: 181 | 199.\n",
      "2023-12-01 11:00:44,572 - INFO - Generating circuits for step: 182 | 199.\n",
      "2023-12-01 11:00:44,579 - INFO - Generating circuits for step: 183 | 199.\n",
      "2023-12-01 11:00:44,585 - INFO - Generating circuits for step: 184 | 199.\n",
      "2023-12-01 11:00:44,591 - INFO - Generating circuits for step: 185 | 199.\n",
      "2023-12-01 11:00:44,598 - INFO - Generating circuits for step: 186 | 199.\n",
      "2023-12-01 11:00:44,605 - INFO - Generating circuits for step: 187 | 199.\n",
      "2023-12-01 11:00:44,612 - INFO - Generating circuits for step: 188 | 199.\n",
      "2023-12-01 11:00:44,619 - INFO - Generating circuits for step: 189 | 199.\n",
      "2023-12-01 11:00:44,625 - INFO - Generating circuits for step: 190 | 199.\n",
      "2023-12-01 11:00:44,632 - INFO - Generating circuits for step: 191 | 199.\n",
      "2023-12-01 11:00:44,638 - INFO - Generating circuits for step: 192 | 199.\n",
      "2023-12-01 11:00:44,644 - INFO - Generating circuits for step: 193 | 199.\n",
      "2023-12-01 11:00:44,650 - INFO - Generating circuits for step: 194 | 199.\n",
      "2023-12-01 11:00:44,656 - INFO - Generating circuits for step: 195 | 199.\n",
      "2023-12-01 11:00:44,662 - INFO - Generating circuits for step: 196 | 199.\n",
      "2023-12-01 11:00:44,667 - INFO - Generating circuits for step: 197 | 199.\n",
      "2023-12-01 11:00:44,674 - INFO - Generating circuits for step: 198 | 199.\n",
      "2023-12-01 11:00:44,679 - INFO - Generating circuits for step: 199 | 199.\n",
      "2023-12-01 11:00:44,686 - INFO - Circuits generated: 3184 in 32 groups.\n",
      "2023-12-01 11:00:44,686 - INFO - Initializing backend.\n",
      "2023-12-01 11:00:44,686 - INFO - Setting backend options.\n",
      "2023-12-01 11:00:44,689 - INFO - Initializing sampler backend.\n",
      "2023-12-01 11:00:44,702 - INFO - Backend initialized.\n",
      "2023-12-01 11:00:44,703 - INFO - Calculating circuit depth.\n",
      "2023-12-01 11:00:44,988 - INFO - Circuit depth on backend: 157\n",
      "2023-12-01 11:00:45,000 - INFO - Submitting jobs to backend.\n",
      "2023-12-01 11:00:57,807 - INFO - Jobs submitted.\n",
      "2023-12-01 11:01:13,757 - INFO - Jobs completed: 0 | 32\n",
      "2023-12-01 11:01:26,518 - INFO - Jobs completed: 0 | 32\n",
      "2023-12-01 11:01:39,829 - INFO - Jobs completed: 0 | 32\n",
      "2023-12-01 11:01:53,145 - INFO - Jobs completed: 0 | 32\n",
      "2023-12-01 11:02:05,558 - INFO - Jobs completed: 0 | 32\n",
      "2023-12-01 11:02:18,591 - INFO - Jobs completed: 0 | 32\n",
      "2023-12-01 11:02:30,768 - INFO - Jobs completed: 0 | 32\n",
      "2023-12-01 11:02:42,916 - INFO - Jobs completed: 0 | 32\n",
      "2023-12-01 11:02:55,454 - INFO - Jobs completed: 0 | 32\n",
      "2023-12-01 11:03:08,983 - INFO - Jobs completed: 0 | 32\n",
      "2023-12-01 11:03:22,045 - INFO - Jobs completed: 0 | 32\n",
      "2023-12-01 11:03:35,111 - INFO - Jobs completed: 0 | 32\n",
      "2023-12-01 11:03:49,247 - INFO - Jobs completed: 0 | 32\n",
      "2023-12-01 11:04:01,929 - INFO - Jobs completed: 0 | 32\n",
      "2023-12-01 11:04:15,239 - INFO - Jobs completed: 0 | 32\n",
      "2023-12-01 11:04:30,226 - INFO - Jobs completed: 0 | 32\n",
      "2023-12-01 11:04:40,626 - INFO - Jobs completed: 0 | 32\n",
      "2023-12-01 11:04:53,246 - INFO - Jobs completed: 0 | 32\n",
      "2023-12-01 11:05:04,715 - INFO - Jobs completed: 0 | 32\n",
      "2023-12-01 11:05:15,771 - INFO - Jobs completed: 0 | 32\n",
      "2023-12-01 11:05:27,039 - INFO - Jobs completed: 0 | 32\n",
      "2023-12-01 11:05:41,314 - INFO - Jobs completed: 0 | 32\n",
      "2023-12-01 11:05:52,978 - INFO - Jobs completed: 0 | 32\n",
      "2023-12-01 11:06:05,404 - INFO - Jobs completed: 0 | 32\n",
      "2023-12-01 11:06:17,154 - INFO - Jobs completed: 0 | 32\n",
      "2023-12-01 11:06:29,438 - INFO - Jobs completed: 0 | 32\n",
      "2023-12-01 11:06:43,905 - INFO - Jobs completed: 1 | 32\n",
      "2023-12-01 11:06:55,795 - INFO - Jobs completed: 2 | 32\n",
      "2023-12-01 11:07:06,829 - INFO - Jobs completed: 4 | 32\n",
      "2023-12-01 11:07:20,620 - INFO - Jobs completed: 10 | 32\n",
      "2023-12-01 11:07:32,334 - INFO - Jobs completed: 24 | 32\n",
      "2023-12-01 11:07:42,378 - INFO - Jobs completed: 32 | 32\n",
      "2023-12-01 11:07:42,382 - INFO - Jobs completed.\n",
      "2023-12-01 11:07:42,383 - INFO - Running tomography.\n",
      "2023-12-01 11:07:42,425 - INFO - Tomography step: 1 | 199.\n",
      "2023-12-01 11:07:42,660 - INFO - Tomography step: 2 | 199.\n",
      "2023-12-01 11:07:42,861 - INFO - Tomography step: 3 | 199.\n",
      "2023-12-01 11:07:43,060 - INFO - Tomography step: 4 | 199.\n",
      "2023-12-01 11:07:43,286 - INFO - Tomography step: 5 | 199.\n",
      "2023-12-01 11:07:43,488 - INFO - Tomography step: 6 | 199.\n",
      "2023-12-01 11:07:43,697 - INFO - Tomography step: 7 | 199.\n",
      "2023-12-01 11:07:43,841 - INFO - Tomography step: 8 | 199.\n",
      "2023-12-01 11:07:44,052 - INFO - Tomography step: 9 | 199.\n",
      "2023-12-01 11:07:44,316 - INFO - Tomography step: 10 | 199.\n",
      "2023-12-01 11:07:44,590 - INFO - Tomography step: 11 | 199.\n",
      "2023-12-01 11:07:44,785 - INFO - Tomography step: 12 | 199.\n",
      "2023-12-01 11:07:45,081 - INFO - Tomography step: 13 | 199.\n",
      "2023-12-01 11:07:45,304 - INFO - Tomography step: 14 | 199.\n",
      "2023-12-01 11:07:45,535 - INFO - Tomography step: 15 | 199.\n",
      "2023-12-01 11:07:45,810 - INFO - Tomography step: 16 | 199.\n",
      "2023-12-01 11:07:46,097 - INFO - Tomography step: 17 | 199.\n",
      "2023-12-01 11:07:46,275 - INFO - Tomography step: 18 | 199.\n",
      "2023-12-01 11:07:46,558 - INFO - Tomography step: 19 | 199.\n",
      "2023-12-01 11:07:46,781 - INFO - Tomography step: 20 | 199.\n",
      "2023-12-01 11:07:47,004 - INFO - Tomography step: 21 | 199.\n",
      "2023-12-01 11:07:47,181 - INFO - Tomography step: 22 | 199.\n",
      "2023-12-01 11:07:47,364 - INFO - Tomography step: 23 | 199.\n",
      "2023-12-01 11:07:47,620 - INFO - Tomography step: 24 | 199.\n",
      "2023-12-01 11:07:47,866 - INFO - Tomography step: 25 | 199.\n",
      "2023-12-01 11:07:48,051 - INFO - Tomography step: 26 | 199.\n",
      "2023-12-01 11:07:48,242 - INFO - Tomography step: 27 | 199.\n",
      "2023-12-01 11:07:48,448 - INFO - Tomography step: 28 | 199.\n",
      "2023-12-01 11:07:48,720 - INFO - Tomography step: 29 | 199.\n",
      "2023-12-01 11:07:48,914 - INFO - Tomography step: 30 | 199.\n",
      "2023-12-01 11:07:49,107 - INFO - Tomography step: 31 | 199.\n",
      "2023-12-01 11:07:49,303 - INFO - Tomography step: 32 | 199.\n",
      "2023-12-01 11:07:49,508 - INFO - Tomography step: 33 | 199.\n",
      "2023-12-01 11:07:49,753 - INFO - Tomography step: 34 | 199.\n",
      "2023-12-01 11:07:49,948 - INFO - Tomography step: 35 | 199.\n",
      "2023-12-01 11:07:50,107 - INFO - Tomography step: 36 | 199.\n",
      "2023-12-01 11:07:50,326 - INFO - Tomography step: 37 | 199.\n",
      "2023-12-01 11:07:50,753 - INFO - Tomography step: 38 | 199.\n",
      "2023-12-01 11:07:50,933 - INFO - Tomography step: 39 | 199.\n",
      "2023-12-01 11:07:51,105 - INFO - Tomography step: 40 | 199.\n",
      "2023-12-01 11:07:51,333 - INFO - Tomography step: 41 | 199.\n",
      "2023-12-01 11:07:51,870 - INFO - Tomography step: 42 | 199.\n",
      "2023-12-01 11:07:52,223 - INFO - Tomography step: 43 | 199.\n",
      "2023-12-01 11:07:52,555 - INFO - Tomography step: 44 | 199.\n",
      "2023-12-01 11:07:52,764 - INFO - Tomography step: 45 | 199.\n",
      "2023-12-01 11:07:53,031 - INFO - Tomography step: 46 | 199.\n",
      "2023-12-01 11:07:53,307 - INFO - Tomography step: 47 | 199.\n",
      "2023-12-01 11:07:53,500 - INFO - Tomography step: 48 | 199.\n",
      "2023-12-01 11:07:53,750 - INFO - Tomography step: 49 | 199.\n",
      "2023-12-01 11:07:54,010 - INFO - Tomography step: 50 | 199.\n",
      "2023-12-01 11:07:54,265 - INFO - Tomography step: 51 | 199.\n",
      "2023-12-01 11:07:54,442 - INFO - Tomography step: 52 | 199.\n",
      "2023-12-01 11:07:54,693 - INFO - Tomography step: 53 | 199.\n",
      "2023-12-01 11:07:55,005 - INFO - Tomography step: 54 | 199.\n",
      "2023-12-01 11:07:55,314 - INFO - Tomography step: 55 | 199.\n",
      "2023-12-01 11:07:55,592 - INFO - Tomography step: 56 | 199.\n",
      "2023-12-01 11:07:55,874 - INFO - Tomography step: 57 | 199.\n",
      "2023-12-01 11:07:56,340 - INFO - Tomography step: 58 | 199.\n",
      "2023-12-01 11:07:56,526 - INFO - Tomography step: 59 | 199.\n",
      "2023-12-01 11:07:56,784 - INFO - Tomography step: 60 | 199.\n",
      "2023-12-01 11:07:57,025 - INFO - Tomography step: 61 | 199.\n",
      "2023-12-01 11:07:57,330 - INFO - Tomography step: 62 | 199.\n",
      "2023-12-01 11:07:57,561 - INFO - Tomography step: 63 | 199.\n",
      "2023-12-01 11:07:57,751 - INFO - Tomography step: 64 | 199.\n",
      "2023-12-01 11:07:57,940 - INFO - Tomography step: 65 | 199.\n",
      "2023-12-01 11:07:58,169 - INFO - Tomography step: 66 | 199.\n",
      "2023-12-01 11:07:58,288 - INFO - Tomography step: 67 | 199.\n",
      "2023-12-01 11:07:58,517 - INFO - Tomography step: 68 | 199.\n",
      "2023-12-01 11:07:58,760 - INFO - Tomography step: 69 | 199.\n",
      "2023-12-01 11:07:58,969 - INFO - Tomography step: 70 | 199.\n",
      "2023-12-01 11:07:59,344 - INFO - Tomography step: 71 | 199.\n",
      "2023-12-01 11:07:59,661 - INFO - Tomography step: 72 | 199.\n",
      "2023-12-01 11:07:59,823 - INFO - Tomography step: 73 | 199.\n",
      "2023-12-01 11:08:00,097 - INFO - Tomography step: 74 | 199.\n",
      "2023-12-01 11:08:00,316 - INFO - Tomography step: 75 | 199.\n",
      "2023-12-01 11:08:00,561 - INFO - Tomography step: 76 | 199.\n",
      "2023-12-01 11:08:00,802 - INFO - Tomography step: 77 | 199.\n",
      "2023-12-01 11:08:00,927 - INFO - Tomography step: 78 | 199.\n",
      "2023-12-01 11:08:01,096 - INFO - Tomography step: 79 | 199.\n",
      "2023-12-01 11:08:01,282 - INFO - Tomography step: 80 | 199.\n",
      "2023-12-01 11:08:01,430 - INFO - Tomography step: 81 | 199.\n",
      "2023-12-01 11:08:01,638 - INFO - Tomography step: 82 | 199.\n",
      "2023-12-01 11:08:01,802 - INFO - Tomography step: 83 | 199.\n",
      "2023-12-01 11:08:01,961 - INFO - Tomography step: 84 | 199.\n",
      "2023-12-01 11:08:02,187 - INFO - Tomography step: 85 | 199.\n",
      "2023-12-01 11:08:02,396 - INFO - Tomography step: 86 | 199.\n",
      "2023-12-01 11:08:02,579 - INFO - Tomography step: 87 | 199.\n",
      "2023-12-01 11:08:02,794 - INFO - Tomography step: 88 | 199.\n",
      "2023-12-01 11:08:02,998 - INFO - Tomography step: 89 | 199.\n",
      "2023-12-01 11:08:03,168 - INFO - Tomography step: 90 | 199.\n",
      "2023-12-01 11:08:03,386 - INFO - Tomography step: 91 | 199.\n",
      "2023-12-01 11:08:03,564 - INFO - Tomography step: 92 | 199.\n",
      "2023-12-01 11:08:03,749 - INFO - Tomography step: 93 | 199.\n",
      "2023-12-01 11:08:03,960 - INFO - Tomography step: 94 | 199.\n",
      "2023-12-01 11:08:04,131 - INFO - Tomography step: 95 | 199.\n",
      "2023-12-01 11:08:04,310 - INFO - Tomography step: 96 | 199.\n",
      "2023-12-01 11:08:04,483 - INFO - Tomography step: 97 | 199.\n",
      "2023-12-01 11:08:04,708 - INFO - Tomography step: 98 | 199.\n",
      "2023-12-01 11:08:04,868 - INFO - Tomography step: 99 | 199.\n",
      "2023-12-01 11:08:05,047 - INFO - Tomography step: 100 | 199.\n",
      "2023-12-01 11:08:05,255 - INFO - Tomography step: 101 | 199.\n",
      "2023-12-01 11:08:05,526 - INFO - Tomography step: 102 | 199.\n",
      "2023-12-01 11:08:05,737 - INFO - Tomography step: 103 | 199.\n",
      "2023-12-01 11:08:05,938 - INFO - Tomography step: 104 | 199.\n",
      "2023-12-01 11:08:06,109 - INFO - Tomography step: 105 | 199.\n",
      "2023-12-01 11:08:06,331 - INFO - Tomography step: 106 | 199.\n",
      "2023-12-01 11:08:06,528 - INFO - Tomography step: 107 | 199.\n",
      "2023-12-01 11:08:06,772 - INFO - Tomography step: 108 | 199.\n",
      "2023-12-01 11:08:06,990 - INFO - Tomography step: 109 | 199.\n",
      "2023-12-01 11:08:07,194 - INFO - Tomography step: 110 | 199.\n",
      "2023-12-01 11:08:07,372 - INFO - Tomography step: 111 | 199.\n",
      "2023-12-01 11:08:07,598 - INFO - Tomography step: 112 | 199.\n",
      "2023-12-01 11:08:07,768 - INFO - Tomography step: 113 | 199.\n",
      "2023-12-01 11:08:07,950 - INFO - Tomography step: 114 | 199.\n",
      "2023-12-01 11:08:08,169 - INFO - Tomography step: 115 | 199.\n",
      "2023-12-01 11:08:08,402 - INFO - Tomography step: 116 | 199.\n",
      "2023-12-01 11:08:08,583 - INFO - Tomography step: 117 | 199.\n",
      "2023-12-01 11:08:08,749 - INFO - Tomography step: 118 | 199.\n",
      "2023-12-01 11:08:08,926 - INFO - Tomography step: 119 | 199.\n",
      "2023-12-01 11:08:09,088 - INFO - Tomography step: 120 | 199.\n",
      "2023-12-01 11:08:09,285 - INFO - Tomography step: 121 | 199.\n",
      "2023-12-01 11:08:09,525 - INFO - Tomography step: 122 | 199.\n",
      "2023-12-01 11:08:09,749 - INFO - Tomography step: 123 | 199.\n",
      "2023-12-01 11:08:09,960 - INFO - Tomography step: 124 | 199.\n",
      "2023-12-01 11:08:10,146 - INFO - Tomography step: 125 | 199.\n",
      "2023-12-01 11:08:10,324 - INFO - Tomography step: 126 | 199.\n",
      "2023-12-01 11:08:10,515 - INFO - Tomography step: 127 | 199.\n",
      "2023-12-01 11:08:10,697 - INFO - Tomography step: 128 | 199.\n",
      "2023-12-01 11:08:10,889 - INFO - Tomography step: 129 | 199.\n",
      "2023-12-01 11:08:11,060 - INFO - Tomography step: 130 | 199.\n",
      "2023-12-01 11:08:11,206 - INFO - Tomography step: 131 | 199.\n",
      "2023-12-01 11:08:11,369 - INFO - Tomography step: 132 | 199.\n",
      "2023-12-01 11:08:11,528 - INFO - Tomography step: 133 | 199.\n",
      "2023-12-01 11:08:11,705 - INFO - Tomography step: 134 | 199.\n",
      "2023-12-01 11:08:11,943 - INFO - Tomography step: 135 | 199.\n",
      "2023-12-01 11:08:12,180 - INFO - Tomography step: 136 | 199.\n",
      "2023-12-01 11:08:12,366 - INFO - Tomography step: 137 | 199.\n",
      "2023-12-01 11:08:12,541 - INFO - Tomography step: 138 | 199.\n",
      "2023-12-01 11:08:12,767 - INFO - Tomography step: 139 | 199.\n",
      "2023-12-01 11:08:12,983 - INFO - Tomography step: 140 | 199.\n",
      "2023-12-01 11:08:13,299 - INFO - Tomography step: 141 | 199.\n",
      "2023-12-01 11:08:13,489 - INFO - Tomography step: 142 | 199.\n",
      "2023-12-01 11:08:13,758 - INFO - Tomography step: 143 | 199.\n",
      "2023-12-01 11:08:14,046 - INFO - Tomography step: 144 | 199.\n",
      "2023-12-01 11:08:14,308 - INFO - Tomography step: 145 | 199.\n",
      "2023-12-01 11:08:14,973 - INFO - Tomography step: 146 | 199.\n",
      "2023-12-01 11:08:15,537 - INFO - Tomography step: 147 | 199.\n",
      "2023-12-01 11:08:15,701 - INFO - Tomography step: 148 | 199.\n",
      "2023-12-01 11:08:15,920 - INFO - Tomography step: 149 | 199.\n",
      "2023-12-01 11:08:16,161 - INFO - Tomography step: 150 | 199.\n",
      "2023-12-01 11:08:16,356 - INFO - Tomography step: 151 | 199.\n",
      "2023-12-01 11:08:16,590 - INFO - Tomography step: 152 | 199.\n",
      "2023-12-01 11:08:16,773 - INFO - Tomography step: 153 | 199.\n",
      "2023-12-01 11:08:16,997 - INFO - Tomography step: 154 | 199.\n",
      "2023-12-01 11:08:17,246 - INFO - Tomography step: 155 | 199.\n",
      "2023-12-01 11:08:17,436 - INFO - Tomography step: 156 | 199.\n",
      "2023-12-01 11:08:17,636 - INFO - Tomography step: 157 | 199.\n",
      "2023-12-01 11:08:17,808 - INFO - Tomography step: 158 | 199.\n",
      "2023-12-01 11:08:18,027 - INFO - Tomography step: 159 | 199.\n",
      "2023-12-01 11:08:18,299 - INFO - Tomography step: 160 | 199.\n",
      "2023-12-01 11:08:18,517 - INFO - Tomography step: 161 | 199.\n",
      "2023-12-01 11:08:18,708 - INFO - Tomography step: 162 | 199.\n",
      "2023-12-01 11:08:18,860 - INFO - Tomography step: 163 | 199.\n",
      "2023-12-01 11:08:19,050 - INFO - Tomography step: 164 | 199.\n",
      "2023-12-01 11:08:19,216 - INFO - Tomography step: 165 | 199.\n",
      "2023-12-01 11:08:19,403 - INFO - Tomography step: 166 | 199.\n",
      "2023-12-01 11:08:19,595 - INFO - Tomography step: 167 | 199.\n",
      "2023-12-01 11:08:19,778 - INFO - Tomography step: 168 | 199.\n",
      "2023-12-01 11:08:20,000 - INFO - Tomography step: 169 | 199.\n",
      "2023-12-01 11:08:20,179 - INFO - Tomography step: 170 | 199.\n",
      "2023-12-01 11:08:20,398 - INFO - Tomography step: 171 | 199.\n",
      "2023-12-01 11:08:20,614 - INFO - Tomography step: 172 | 199.\n",
      "2023-12-01 11:08:20,797 - INFO - Tomography step: 173 | 199.\n",
      "2023-12-01 11:08:21,012 - INFO - Tomography step: 174 | 199.\n",
      "2023-12-01 11:08:21,244 - INFO - Tomography step: 175 | 199.\n",
      "2023-12-01 11:08:21,424 - INFO - Tomography step: 176 | 199.\n",
      "2023-12-01 11:08:21,644 - INFO - Tomography step: 177 | 199.\n",
      "2023-12-01 11:08:21,876 - INFO - Tomography step: 178 | 199.\n",
      "2023-12-01 11:08:22,075 - INFO - Tomography step: 179 | 199.\n",
      "2023-12-01 11:08:22,353 - INFO - Tomography step: 180 | 199.\n",
      "2023-12-01 11:08:22,619 - INFO - Tomography step: 181 | 199.\n",
      "2023-12-01 11:08:22,830 - INFO - Tomography step: 182 | 199.\n",
      "2023-12-01 11:08:23,037 - INFO - Tomography step: 183 | 199.\n",
      "2023-12-01 11:08:23,292 - INFO - Tomography step: 184 | 199.\n",
      "2023-12-01 11:08:23,526 - INFO - Tomography step: 185 | 199.\n",
      "2023-12-01 11:08:23,795 - INFO - Tomography step: 186 | 199.\n",
      "2023-12-01 11:08:23,987 - INFO - Tomography step: 187 | 199.\n",
      "2023-12-01 11:08:24,221 - INFO - Tomography step: 188 | 199.\n",
      "2023-12-01 11:08:24,424 - INFO - Tomography step: 189 | 199.\n",
      "2023-12-01 11:08:24,734 - INFO - Tomography step: 190 | 199.\n",
      "2023-12-01 11:08:24,880 - INFO - Tomography step: 191 | 199.\n",
      "2023-12-01 11:08:25,082 - INFO - Tomography step: 192 | 199.\n",
      "2023-12-01 11:08:25,273 - INFO - Tomography step: 193 | 199.\n",
      "2023-12-01 11:08:25,500 - INFO - Tomography step: 194 | 199.\n",
      "2023-12-01 11:08:25,773 - INFO - Tomography step: 195 | 199.\n",
      "2023-12-01 11:08:25,984 - INFO - Tomography step: 196 | 199.\n",
      "2023-12-01 11:08:26,165 - INFO - Tomography step: 197 | 199.\n",
      "2023-12-01 11:08:26,392 - INFO - Tomography step: 198 | 199.\n",
      "2023-12-01 11:08:26,649 - INFO - Tomography step: 199 | 199.\n",
      "2023-12-01 11:08:26,859 - INFO - Tomography completed.\n",
      "2023-12-01 11:08:26,864 - INFO - State polarization corrected.\n",
      "2023-12-01 11:08:26,885 - INFO - States inverse-transformed.\n",
      "2023-12-01 11:08:27,043 - INFO - Saving data.\n",
      "2023-12-01 11:08:27,055 - INFO - Solver 3 completed in 0:07:44.038072.\n",
      "\n"
     ]
    }
   ],
   "source": [
    "experiment.add_solver('ode', **parameters_1)\n",
    "experiment.add_solver('exp', **parameters_1)\n",
    "experiment.add_solver('local', **parameters_1)\n",
    "results = experiment.run()\n"
   ]
  },
  {
   "cell_type": "code",
   "execution_count": 5,
   "metadata": {},
   "outputs": [
    {
     "name": "stderr",
     "output_type": "stream",
     "text": [
      "2023-12-01 09:06:44,703 - INFO - Loading experiment with time stamp: 20231130T165254.\n",
      "\n",
      "2023-12-01 09:06:44,707 - INFO - Loading data for solver 1.\n",
      "2023-12-01 09:06:44,717 - INFO - Loading data for solver 2.\n",
      "2023-12-01 09:06:44,726 - INFO - Data loaded.\n",
      "\n"
     ]
    }
   ],
   "source": [
    "# experiment2 = ForwardExperiment1D(experiment_id='20231130T165254', verbose=2)\n",
    "# results = experiment2.load()\n"
   ]
  },
  {
   "cell_type": "code",
   "execution_count": 5,
   "metadata": {},
   "outputs": [
    {
     "name": "stdout",
     "output_type": "stream",
     "text": [
      "0.0009002296480542796\n",
      "0.017634394892772562\n"
     ]
    },
    {
     "data": {
      "application/vnd.plotly.v1+json": {
       "config": {
        "plotlyServerURL": "https://plot.ly"
       },
       "data": [
        {
         "name": "math",
         "type": "scatter",
         "x": [
          0,
          0.05,
          0.1,
          0.15000000000000002,
          0.2,
          0.25,
          0.30000000000000004,
          0.35000000000000003,
          0.4,
          0.45,
          0.5,
          0.55,
          0.6000000000000001,
          0.65,
          0.7000000000000001,
          0.75,
          0.8,
          0.8500000000000001,
          0.9,
          0.9500000000000001,
          1,
          1.05,
          1.1,
          1.1500000000000001,
          1.2000000000000002,
          1.25,
          1.3,
          1.35,
          1.4000000000000001,
          1.4500000000000002,
          1.5,
          1.55,
          1.6,
          1.6500000000000001,
          1.7000000000000002,
          1.75,
          1.8,
          1.85,
          1.9000000000000001,
          1.9500000000000002,
          2,
          2.0500000000000003,
          2.1,
          2.15,
          2.2,
          2.25,
          2.3000000000000003,
          2.35,
          2.4000000000000004,
          2.45,
          2.5,
          2.5500000000000003,
          2.6,
          2.6500000000000004,
          2.7,
          2.75,
          2.8000000000000003,
          2.85,
          2.9000000000000004,
          2.95,
          3,
          3.0500000000000003,
          3.1,
          3.1500000000000004,
          3.2,
          3.25,
          3.3000000000000003,
          3.35,
          3.4000000000000004,
          3.45,
          3.5,
          3.5500000000000003,
          3.6,
          3.6500000000000004,
          3.7,
          3.75,
          3.8000000000000003,
          3.85,
          3.9000000000000004,
          3.95,
          4,
          4.05,
          4.1000000000000005,
          4.15,
          4.2,
          4.25,
          4.3,
          4.3500000000000005,
          4.4,
          4.45,
          4.5,
          4.55,
          4.6000000000000005,
          4.65,
          4.7,
          4.75,
          4.800000000000001,
          4.8500000000000005,
          4.9,
          4.95,
          5,
          5.050000000000001,
          5.1000000000000005,
          5.15,
          5.2,
          5.25,
          5.300000000000001,
          5.3500000000000005,
          5.4,
          5.45,
          5.5,
          5.550000000000001,
          5.6000000000000005,
          5.65,
          5.7,
          5.75,
          5.800000000000001,
          5.8500000000000005,
          5.9,
          5.95,
          6,
          6.050000000000001,
          6.1000000000000005,
          6.15,
          6.2,
          6.25,
          6.300000000000001,
          6.3500000000000005,
          6.4,
          6.45,
          6.5,
          6.550000000000001,
          6.6000000000000005,
          6.65,
          6.7,
          6.75,
          6.800000000000001,
          6.8500000000000005,
          6.9,
          6.95,
          7,
          7.050000000000001,
          7.1000000000000005,
          7.15,
          7.2,
          7.25,
          7.300000000000001,
          7.3500000000000005,
          7.4,
          7.45,
          7.5,
          7.550000000000001,
          7.6000000000000005,
          7.65,
          7.7,
          7.75,
          7.800000000000001,
          7.8500000000000005,
          7.9,
          7.95,
          8,
          8.05,
          8.1,
          8.15,
          8.200000000000001,
          8.25,
          8.3,
          8.35,
          8.4,
          8.450000000000001,
          8.5,
          8.55,
          8.6,
          8.65,
          8.700000000000001,
          8.75,
          8.8,
          8.85,
          8.9,
          8.950000000000001,
          9,
          9.05,
          9.1,
          9.15,
          9.200000000000001,
          9.25,
          9.3,
          9.35,
          9.4,
          9.450000000000001,
          9.5,
          9.55,
          9.600000000000001,
          9.65,
          9.700000000000001,
          9.75,
          9.8,
          9.850000000000001,
          9.9,
          9.950000000000001
         ],
         "y": [
          3.177068341833221e-16,
          6.527045605073447e-14,
          1.2706629890917282e-7,
          3.8473556182546863e-7,
          6.936663741799061e-8,
          2.520403173315433e-8,
          0.0000018875062970750024,
          0.000005853874677593838,
          0.000010480927657038111,
          0.000013130629972091084,
          0.000010841404496659795,
          0.0000017374505027717824,
          0.000013217057009602577,
          0.000028493517102330315,
          0.00003363960685067053,
          0.000018587356385511424,
          0.0000033971117641856916,
          0.00008956107717934094,
          0.00021275658890319217,
          0.00020869917917870805,
          0.00011849342104704829,
          0.00003892834730941754,
          0.000025295697211415294,
          0.00009264316849932086,
          0.00023096485090343125,
          0.00041498556127861477,
          0.000612884565275688,
          0.0007907172588002801,
          0.0009160837824973636,
          0.0009612053174408898,
          0.0009056132211237407,
          0.0007385571322283762,
          0.00046118810994086275,
          0.00009001009320241782,
          0.00035295880774456866,
          0.0008138024706476054,
          0.0012379567025221738,
          0.00155650605923881,
          0.0016985884018604729,
          0.0016058550517452487,
          0.001257482974115374,
          0.0007113833051976955,
          0.0001714707902697257,
          0.000031135705542680803,
          0.00004836527230459625,
          0.00008710775092480162,
          0.00013328994300695408,
          0.00018840018628538696,
          0.00025564370044353364,
          0.00033664817393694345,
          0.00042929007354597067,
          0.0005260031217959616,
          0.0006146262978076945,
          0.0006822511792852208,
          0.0007195635707953526,
          0.000723141722727318,
          0.0006954814269547331,
          0.0006439001404667076,
          0.0005791253834531351,
          0.0005134280128564249,
          0.00045756730004111135,
          0.00041673861260659256,
          0.00038894261104686505,
          0.00036982365725830564,
          0.00036040456333127446,
          0.00036555729710064554,
          0.00037453974532802994,
          0.00034339454199590515,
          0.0002790955487815206,
          0.00023864139473261416,
          0.00022776410600757415,
          0.00022148602395225867,
          0.00018475663501450816,
          0.00009313061926215394,
          0.0001344658377240183,
          0.00040381533971814546,
          0.0007508645778620403,
          0.0011283443318837647,
          0.0014764287909287486,
          0.0017257502952950808,
          0.0018096894543635637,
          0.0016807177461671651,
          0.0013272864742734536,
          0.0007876937147731596,
          0.00021014734065204836,
          0.0005725917367694413,
          0.0010712944087205916,
          0.0013223707659491836,
          0.0012399757754893144,
          0.0008170052034026238,
          0.00019240651100637147,
          0.0005776570598015791,
          0.0008381303059962846,
          0.0007472141377390813,
          0.0006712229322862823,
          0.0006628807545691991,
          0.0006951135337637728,
          0.0007074514854901472,
          0.0006363446819564428,
          0.0004356257599115248,
          0.0001268546494119012,
          0.0004591961113291026,
          0.0010592849161717478,
          0.0016934927777506438,
          0.002259978164473599,
          0.0026475953754493678,
          0.002749129002376722,
          0.0024827582961482867,
          0.0018180424084306022,
          0.000806908077496816,
          0.0005227388524788781,
          0.0017764556507112712,
          0.0028390402551786804,
          0.0034530076865884837,
          0.0034514044941081454,
          0.0027887460088041947,
          0.001583296206456972,
          0.0002036498454950477,
          0.0009488959271566406,
          0.001088531771574974,
          0.0010569839867316732,
          0.0010491854948289042,
          0.0010662456254999183,
          0.0010809117924067602,
          0.0010611298885880723,
          0.0009832812506708815,
          0.0008387518724370361,
          0.0006367010235291292,
          0.0004071612430735857,
          0.0002235650655665861,
          0.00023284931974148346,
          0.00032390688637726276,
          0.0003351652854749567,
          0.0002548460219738151,
          0.00034221526813123796,
          0.0007704402562264131,
          0.001352841130843726,
          0.0019568227277715075,
          0.002425079601652563,
          0.0025673756321663013,
          0.0022088041856835297,
          0.001301849510133309,
          0.00026832227605554906,
          0.0009516792478039184,
          0.0011213940501031971,
          0.0012140328046158031,
          0.0012924869482867857,
          0.0013577036828399311,
          0.0013965229736578998,
          0.001397533720605035,
          0.0013573946817314112,
          0.0012815878007847337,
          0.0011825753173167783,
          0.001076931867201458,
          0.0009821456032398873,
          0.0009136061384217319,
          0.0008827048612714349,
          0.0008968537622334107,
          0.0009601630963623017,
          0.0010719263431013455,
          0.001222907086082498,
          0.0013926637460344728,
          0.0015497234527136335,
          0.0016542566278886478,
          0.001663394493104047,
          0.001541022106243908,
          0.0012758856066679212,
          0.0009147056974997923,
          0.0006111042162180902,
          0.0004750434866540851,
          0.0003463715556762905,
          0.00028935400292215446,
          0.0004222916561137363,
          0.0007282166398890858,
          0.0011575521487035309,
          0.0016518856788995593,
          0.002093935950078158,
          0.0023664938177465926,
          0.0024467765751710834,
          0.0023880074691388265,
          0.0022509723378056744,
          0.0020781883290696954,
          0.0018974139182819315,
          0.0017285684430703115,
          0.0015871286160065398,
          0.0014843668755281153,
          0.0014253871064138007,
          0.001405148118141359,
          0.0014020540971099778,
          0.0013687985654291417,
          0.0013013313411401055,
          0.0012343740722428331,
          0.0011669535418786677,
          0.0010982457998210597,
          0.0010276729502528056,
          0.0009546345134658754,
          0.0008781396046506044,
          0.0007965925469274555,
          0.0007080498624342888,
          0.0006114342092476332
         ]
        },
        {
         "name": "local",
         "type": "scatter",
         "x": [
          0,
          0.05,
          0.1,
          0.15000000000000002,
          0.2,
          0.25,
          0.30000000000000004,
          0.35000000000000003,
          0.4,
          0.45,
          0.5,
          0.55,
          0.6000000000000001,
          0.65,
          0.7000000000000001,
          0.75,
          0.8,
          0.8500000000000001,
          0.9,
          0.9500000000000001,
          1,
          1.05,
          1.1,
          1.1500000000000001,
          1.2000000000000002,
          1.25,
          1.3,
          1.35,
          1.4000000000000001,
          1.4500000000000002,
          1.5,
          1.55,
          1.6,
          1.6500000000000001,
          1.7000000000000002,
          1.75,
          1.8,
          1.85,
          1.9000000000000001,
          1.9500000000000002,
          2,
          2.0500000000000003,
          2.1,
          2.15,
          2.2,
          2.25,
          2.3000000000000003,
          2.35,
          2.4000000000000004,
          2.45,
          2.5,
          2.5500000000000003,
          2.6,
          2.6500000000000004,
          2.7,
          2.75,
          2.8000000000000003,
          2.85,
          2.9000000000000004,
          2.95,
          3,
          3.0500000000000003,
          3.1,
          3.1500000000000004,
          3.2,
          3.25,
          3.3000000000000003,
          3.35,
          3.4000000000000004,
          3.45,
          3.5,
          3.5500000000000003,
          3.6,
          3.6500000000000004,
          3.7,
          3.75,
          3.8000000000000003,
          3.85,
          3.9000000000000004,
          3.95,
          4,
          4.05,
          4.1000000000000005,
          4.15,
          4.2,
          4.25,
          4.3,
          4.3500000000000005,
          4.4,
          4.45,
          4.5,
          4.55,
          4.6000000000000005,
          4.65,
          4.7,
          4.75,
          4.800000000000001,
          4.8500000000000005,
          4.9,
          4.95,
          5,
          5.050000000000001,
          5.1000000000000005,
          5.15,
          5.2,
          5.25,
          5.300000000000001,
          5.3500000000000005,
          5.4,
          5.45,
          5.5,
          5.550000000000001,
          5.6000000000000005,
          5.65,
          5.7,
          5.75,
          5.800000000000001,
          5.8500000000000005,
          5.9,
          5.95,
          6,
          6.050000000000001,
          6.1000000000000005,
          6.15,
          6.2,
          6.25,
          6.300000000000001,
          6.3500000000000005,
          6.4,
          6.45,
          6.5,
          6.550000000000001,
          6.6000000000000005,
          6.65,
          6.7,
          6.75,
          6.800000000000001,
          6.8500000000000005,
          6.9,
          6.95,
          7,
          7.050000000000001,
          7.1000000000000005,
          7.15,
          7.2,
          7.25,
          7.300000000000001,
          7.3500000000000005,
          7.4,
          7.45,
          7.5,
          7.550000000000001,
          7.6000000000000005,
          7.65,
          7.7,
          7.75,
          7.800000000000001,
          7.8500000000000005,
          7.9,
          7.95,
          8,
          8.05,
          8.1,
          8.15,
          8.200000000000001,
          8.25,
          8.3,
          8.35,
          8.4,
          8.450000000000001,
          8.5,
          8.55,
          8.6,
          8.65,
          8.700000000000001,
          8.75,
          8.8,
          8.85,
          8.9,
          8.950000000000001,
          9,
          9.05,
          9.1,
          9.15,
          9.200000000000001,
          9.25,
          9.3,
          9.35,
          9.4,
          9.450000000000001,
          9.5,
          9.55,
          9.600000000000001,
          9.65,
          9.700000000000001,
          9.75,
          9.8,
          9.850000000000001,
          9.9,
          9.950000000000001
         ],
         "y": [
          6.790934607804905e-17,
          0.007921414105229176,
          0.009249464611633463,
          0.007642902367085465,
          0.007520632342096564,
          0.008297669364496255,
          0.014217333139631477,
          0.02500460153838839,
          0.020754854599792007,
          0.012254821640026697,
          0.01764636817954841,
          0.00973588418890771,
          0.009676816694709777,
          0.052300513202212705,
          0.011514082845918186,
          0.06562523924365585,
          0.029248459314642403,
          0.07525854530420405,
          0.12941587162618265,
          0.039403900209586014,
          0.05115709831223846,
          0.059164676193595694,
          0.01874839442519351,
          0.019313277139871993,
          0.01762800735491715,
          0.010354201233177833,
          0.016598282852067974,
          0.025706735334375553,
          0.008213831434533907,
          0.03583525161956437,
          0.015382625657751071,
          0.013924520060214362,
          0.009129638200644491,
          0.029139136013145068,
          0.020349724219146725,
          0.011811600424856065,
          0.010241348231821304,
          0.013271515794811093,
          0.005227825788105135,
          0.029016698165823196,
          0.019198089109477602,
          0.017282575983371427,
          0.005782681307753139,
          0.008267341710890415,
          0.009711843177258013,
          0.01061057815132325,
          0.010545125163372413,
          0.04130213852825156,
          0.019167213962117034,
          0.004969573969000031,
          0.013590136460400182,
          0.009785519876588478,
          0.012170443993281668,
          0.03862446827611048,
          0.011695535589380265,
          0.019652732954074714,
          0.014019189689280653,
          0.03419870385603206,
          0.009403752977237518,
          0.012484295001015862,
          0.01784408643571483,
          0.040329929902766265,
          0.009796626274764294,
          0.018603867634726066,
          0.02250220264644125,
          0.011518688683956734,
          0.004859518005975333,
          0.014255278450550102,
          0.02175802401311209,
          0.00835730232043512,
          0.011555111250264233,
          0.023643506867650748,
          0.029106252422519678,
          0.006765496879726629,
          0.01555486086212912,
          0.04769939209580913,
          0.013863941618380409,
          0.012691700868334838,
          0.006985055011077253,
          0.00889955668159459,
          0.01627875877619464,
          0.012386448093788596,
          0.03208709752526366,
          0.00996292487351794,
          0.015222248370901552,
          0.015177923410354536,
          0.02324942678541517,
          0.04430229800693081,
          0.011732953062444084,
          0.012634628416918621,
          0.03099238899641311,
          0.02091073942143806,
          0.008003505809172458,
          0.009353482973486864,
          0.010440054214774234,
          0.009638587096215939,
          0.014005263132892439,
          0.009563579026750342,
          0.008839785755537876,
          0.014838259910934166,
          0.003975773100128219,
          0.009115442704775975,
          0.00797094694444593,
          0.015163036823818102,
          0.007799052451491206,
          0.007195543174057552,
          0.011761586132681936,
          0.017688636861409746,
          0.040556381785783586,
          0.015304092374639564,
          0.022545577519150702,
          0.02482325242265186,
          0.016567744327662726,
          0.03674621145682136,
          0.015770580333247294,
          0.011960762976531458,
          0.021818934228111705,
          0.009629136266404173,
          0.018941018020416284,
          0.023608311819768465,
          0.002942792835414414,
          0.011173832215326512,
          0.00451717571202015,
          0.01076367889555978,
          0.008002446225914823,
          0.014379024585314558,
          0.016273055137765325,
          0.013435860416985225,
          0.012416609292792246,
          0.007178237315673041,
          0.010746095433231804,
          0.015987088764089982,
          0.007981950482776173,
          0.017695244837343024,
          0.027998673510833724,
          0.012505465602017315,
          0.005771886381540242,
          0.02906295621475851,
          0.02877790570283653,
          0.024026412029557232,
          0.008537474485339449,
          0.011376909377281377,
          0.008647255850708045,
          0.044347498046814496,
          0.027554282128069325,
          0.03565893002904506,
          0.007184787687494912,
          0.019758321738347753,
          0.009061726330174864,
          0.014590872315685304,
          0.021902615562658,
          0.012251816546855135,
          0.007072116439822905,
          0.00976528124804602,
          0.007803393909927699,
          0.011832207472517845,
          0.02143091117456237,
          0.01346160942303446,
          0.009307988710687568,
          0.006107696161387994,
          0.0052039292919827985,
          0.0036986579052691202,
          0.013585605157654786,
          0.011176012818296378,
          0.009927232191282729,
          0.006123538683899775,
          0.022649594758153868,
          0.00902793631688204,
          0.02080998034779643,
          0.020059625823892743,
          0.008323716575016288,
          0.013280419890627171,
          0.041368697646241265,
          0.011484863972021975,
          0.01764940681927698,
          0.021521391797189402,
          0.01298645086950703,
          0.07346995100575245,
          0.05067661760111677,
          0.016765969641134592,
          0.028574088049378086,
          0.01184313421688671,
          0.007558856390497461,
          0.012166959969604237,
          0.009003468952158998,
          0.009186612353087152,
          0.013522212844914635,
          0.00973141519542458,
          0.005746885459808807,
          0.010470219189471896,
          0.023319467984535068,
          0.006664981429990622,
          0.015672898591885275,
          0.015108103253105336,
          0.014855168050563883,
          0.017349364542285122,
          0.004265762645144598,
          0.008698838053576735,
          0.007169694135045224,
          0.006372684884650764
         ]
        }
       ],
       "layout": {
        "template": {
         "data": {
          "bar": [
           {
            "error_x": {
             "color": "#2a3f5f"
            },
            "error_y": {
             "color": "#2a3f5f"
            },
            "marker": {
             "line": {
              "color": "#E5ECF6",
              "width": 0.5
             },
             "pattern": {
              "fillmode": "overlay",
              "size": 10,
              "solidity": 0.2
             }
            },
            "type": "bar"
           }
          ],
          "barpolar": [
           {
            "marker": {
             "line": {
              "color": "#E5ECF6",
              "width": 0.5
             },
             "pattern": {
              "fillmode": "overlay",
              "size": 10,
              "solidity": 0.2
             }
            },
            "type": "barpolar"
           }
          ],
          "carpet": [
           {
            "aaxis": {
             "endlinecolor": "#2a3f5f",
             "gridcolor": "white",
             "linecolor": "white",
             "minorgridcolor": "white",
             "startlinecolor": "#2a3f5f"
            },
            "baxis": {
             "endlinecolor": "#2a3f5f",
             "gridcolor": "white",
             "linecolor": "white",
             "minorgridcolor": "white",
             "startlinecolor": "#2a3f5f"
            },
            "type": "carpet"
           }
          ],
          "choropleth": [
           {
            "colorbar": {
             "outlinewidth": 0,
             "ticks": ""
            },
            "type": "choropleth"
           }
          ],
          "contour": [
           {
            "colorbar": {
             "outlinewidth": 0,
             "ticks": ""
            },
            "colorscale": [
             [
              0,
              "#0d0887"
             ],
             [
              0.1111111111111111,
              "#46039f"
             ],
             [
              0.2222222222222222,
              "#7201a8"
             ],
             [
              0.3333333333333333,
              "#9c179e"
             ],
             [
              0.4444444444444444,
              "#bd3786"
             ],
             [
              0.5555555555555556,
              "#d8576b"
             ],
             [
              0.6666666666666666,
              "#ed7953"
             ],
             [
              0.7777777777777778,
              "#fb9f3a"
             ],
             [
              0.8888888888888888,
              "#fdca26"
             ],
             [
              1,
              "#f0f921"
             ]
            ],
            "type": "contour"
           }
          ],
          "contourcarpet": [
           {
            "colorbar": {
             "outlinewidth": 0,
             "ticks": ""
            },
            "type": "contourcarpet"
           }
          ],
          "heatmap": [
           {
            "colorbar": {
             "outlinewidth": 0,
             "ticks": ""
            },
            "colorscale": [
             [
              0,
              "#0d0887"
             ],
             [
              0.1111111111111111,
              "#46039f"
             ],
             [
              0.2222222222222222,
              "#7201a8"
             ],
             [
              0.3333333333333333,
              "#9c179e"
             ],
             [
              0.4444444444444444,
              "#bd3786"
             ],
             [
              0.5555555555555556,
              "#d8576b"
             ],
             [
              0.6666666666666666,
              "#ed7953"
             ],
             [
              0.7777777777777778,
              "#fb9f3a"
             ],
             [
              0.8888888888888888,
              "#fdca26"
             ],
             [
              1,
              "#f0f921"
             ]
            ],
            "type": "heatmap"
           }
          ],
          "heatmapgl": [
           {
            "colorbar": {
             "outlinewidth": 0,
             "ticks": ""
            },
            "colorscale": [
             [
              0,
              "#0d0887"
             ],
             [
              0.1111111111111111,
              "#46039f"
             ],
             [
              0.2222222222222222,
              "#7201a8"
             ],
             [
              0.3333333333333333,
              "#9c179e"
             ],
             [
              0.4444444444444444,
              "#bd3786"
             ],
             [
              0.5555555555555556,
              "#d8576b"
             ],
             [
              0.6666666666666666,
              "#ed7953"
             ],
             [
              0.7777777777777778,
              "#fb9f3a"
             ],
             [
              0.8888888888888888,
              "#fdca26"
             ],
             [
              1,
              "#f0f921"
             ]
            ],
            "type": "heatmapgl"
           }
          ],
          "histogram": [
           {
            "marker": {
             "pattern": {
              "fillmode": "overlay",
              "size": 10,
              "solidity": 0.2
             }
            },
            "type": "histogram"
           }
          ],
          "histogram2d": [
           {
            "colorbar": {
             "outlinewidth": 0,
             "ticks": ""
            },
            "colorscale": [
             [
              0,
              "#0d0887"
             ],
             [
              0.1111111111111111,
              "#46039f"
             ],
             [
              0.2222222222222222,
              "#7201a8"
             ],
             [
              0.3333333333333333,
              "#9c179e"
             ],
             [
              0.4444444444444444,
              "#bd3786"
             ],
             [
              0.5555555555555556,
              "#d8576b"
             ],
             [
              0.6666666666666666,
              "#ed7953"
             ],
             [
              0.7777777777777778,
              "#fb9f3a"
             ],
             [
              0.8888888888888888,
              "#fdca26"
             ],
             [
              1,
              "#f0f921"
             ]
            ],
            "type": "histogram2d"
           }
          ],
          "histogram2dcontour": [
           {
            "colorbar": {
             "outlinewidth": 0,
             "ticks": ""
            },
            "colorscale": [
             [
              0,
              "#0d0887"
             ],
             [
              0.1111111111111111,
              "#46039f"
             ],
             [
              0.2222222222222222,
              "#7201a8"
             ],
             [
              0.3333333333333333,
              "#9c179e"
             ],
             [
              0.4444444444444444,
              "#bd3786"
             ],
             [
              0.5555555555555556,
              "#d8576b"
             ],
             [
              0.6666666666666666,
              "#ed7953"
             ],
             [
              0.7777777777777778,
              "#fb9f3a"
             ],
             [
              0.8888888888888888,
              "#fdca26"
             ],
             [
              1,
              "#f0f921"
             ]
            ],
            "type": "histogram2dcontour"
           }
          ],
          "mesh3d": [
           {
            "colorbar": {
             "outlinewidth": 0,
             "ticks": ""
            },
            "type": "mesh3d"
           }
          ],
          "parcoords": [
           {
            "line": {
             "colorbar": {
              "outlinewidth": 0,
              "ticks": ""
             }
            },
            "type": "parcoords"
           }
          ],
          "pie": [
           {
            "automargin": true,
            "type": "pie"
           }
          ],
          "scatter": [
           {
            "fillpattern": {
             "fillmode": "overlay",
             "size": 10,
             "solidity": 0.2
            },
            "type": "scatter"
           }
          ],
          "scatter3d": [
           {
            "line": {
             "colorbar": {
              "outlinewidth": 0,
              "ticks": ""
             }
            },
            "marker": {
             "colorbar": {
              "outlinewidth": 0,
              "ticks": ""
             }
            },
            "type": "scatter3d"
           }
          ],
          "scattercarpet": [
           {
            "marker": {
             "colorbar": {
              "outlinewidth": 0,
              "ticks": ""
             }
            },
            "type": "scattercarpet"
           }
          ],
          "scattergeo": [
           {
            "marker": {
             "colorbar": {
              "outlinewidth": 0,
              "ticks": ""
             }
            },
            "type": "scattergeo"
           }
          ],
          "scattergl": [
           {
            "marker": {
             "colorbar": {
              "outlinewidth": 0,
              "ticks": ""
             }
            },
            "type": "scattergl"
           }
          ],
          "scattermapbox": [
           {
            "marker": {
             "colorbar": {
              "outlinewidth": 0,
              "ticks": ""
             }
            },
            "type": "scattermapbox"
           }
          ],
          "scatterpolar": [
           {
            "marker": {
             "colorbar": {
              "outlinewidth": 0,
              "ticks": ""
             }
            },
            "type": "scatterpolar"
           }
          ],
          "scatterpolargl": [
           {
            "marker": {
             "colorbar": {
              "outlinewidth": 0,
              "ticks": ""
             }
            },
            "type": "scatterpolargl"
           }
          ],
          "scatterternary": [
           {
            "marker": {
             "colorbar": {
              "outlinewidth": 0,
              "ticks": ""
             }
            },
            "type": "scatterternary"
           }
          ],
          "surface": [
           {
            "colorbar": {
             "outlinewidth": 0,
             "ticks": ""
            },
            "colorscale": [
             [
              0,
              "#0d0887"
             ],
             [
              0.1111111111111111,
              "#46039f"
             ],
             [
              0.2222222222222222,
              "#7201a8"
             ],
             [
              0.3333333333333333,
              "#9c179e"
             ],
             [
              0.4444444444444444,
              "#bd3786"
             ],
             [
              0.5555555555555556,
              "#d8576b"
             ],
             [
              0.6666666666666666,
              "#ed7953"
             ],
             [
              0.7777777777777778,
              "#fb9f3a"
             ],
             [
              0.8888888888888888,
              "#fdca26"
             ],
             [
              1,
              "#f0f921"
             ]
            ],
            "type": "surface"
           }
          ],
          "table": [
           {
            "cells": {
             "fill": {
              "color": "#EBF0F8"
             },
             "line": {
              "color": "white"
             }
            },
            "header": {
             "fill": {
              "color": "#C8D4E3"
             },
             "line": {
              "color": "white"
             }
            },
            "type": "table"
           }
          ]
         },
         "layout": {
          "annotationdefaults": {
           "arrowcolor": "#2a3f5f",
           "arrowhead": 0,
           "arrowwidth": 1
          },
          "autotypenumbers": "strict",
          "coloraxis": {
           "colorbar": {
            "outlinewidth": 0,
            "ticks": ""
           }
          },
          "colorscale": {
           "diverging": [
            [
             0,
             "#8e0152"
            ],
            [
             0.1,
             "#c51b7d"
            ],
            [
             0.2,
             "#de77ae"
            ],
            [
             0.3,
             "#f1b6da"
            ],
            [
             0.4,
             "#fde0ef"
            ],
            [
             0.5,
             "#f7f7f7"
            ],
            [
             0.6,
             "#e6f5d0"
            ],
            [
             0.7,
             "#b8e186"
            ],
            [
             0.8,
             "#7fbc41"
            ],
            [
             0.9,
             "#4d9221"
            ],
            [
             1,
             "#276419"
            ]
           ],
           "sequential": [
            [
             0,
             "#0d0887"
            ],
            [
             0.1111111111111111,
             "#46039f"
            ],
            [
             0.2222222222222222,
             "#7201a8"
            ],
            [
             0.3333333333333333,
             "#9c179e"
            ],
            [
             0.4444444444444444,
             "#bd3786"
            ],
            [
             0.5555555555555556,
             "#d8576b"
            ],
            [
             0.6666666666666666,
             "#ed7953"
            ],
            [
             0.7777777777777778,
             "#fb9f3a"
            ],
            [
             0.8888888888888888,
             "#fdca26"
            ],
            [
             1,
             "#f0f921"
            ]
           ],
           "sequentialminus": [
            [
             0,
             "#0d0887"
            ],
            [
             0.1111111111111111,
             "#46039f"
            ],
            [
             0.2222222222222222,
             "#7201a8"
            ],
            [
             0.3333333333333333,
             "#9c179e"
            ],
            [
             0.4444444444444444,
             "#bd3786"
            ],
            [
             0.5555555555555556,
             "#d8576b"
            ],
            [
             0.6666666666666666,
             "#ed7953"
            ],
            [
             0.7777777777777778,
             "#fb9f3a"
            ],
            [
             0.8888888888888888,
             "#fdca26"
            ],
            [
             1,
             "#f0f921"
            ]
           ]
          },
          "colorway": [
           "#636efa",
           "#EF553B",
           "#00cc96",
           "#ab63fa",
           "#FFA15A",
           "#19d3f3",
           "#FF6692",
           "#B6E880",
           "#FF97FF",
           "#FECB52"
          ],
          "font": {
           "color": "#2a3f5f"
          },
          "geo": {
           "bgcolor": "white",
           "lakecolor": "white",
           "landcolor": "#E5ECF6",
           "showlakes": true,
           "showland": true,
           "subunitcolor": "white"
          },
          "hoverlabel": {
           "align": "left"
          },
          "hovermode": "closest",
          "mapbox": {
           "style": "light"
          },
          "paper_bgcolor": "white",
          "plot_bgcolor": "#E5ECF6",
          "polar": {
           "angularaxis": {
            "gridcolor": "white",
            "linecolor": "white",
            "ticks": ""
           },
           "bgcolor": "#E5ECF6",
           "radialaxis": {
            "gridcolor": "white",
            "linecolor": "white",
            "ticks": ""
           }
          },
          "scene": {
           "xaxis": {
            "backgroundcolor": "#E5ECF6",
            "gridcolor": "white",
            "gridwidth": 2,
            "linecolor": "white",
            "showbackground": true,
            "ticks": "",
            "zerolinecolor": "white"
           },
           "yaxis": {
            "backgroundcolor": "#E5ECF6",
            "gridcolor": "white",
            "gridwidth": 2,
            "linecolor": "white",
            "showbackground": true,
            "ticks": "",
            "zerolinecolor": "white"
           },
           "zaxis": {
            "backgroundcolor": "#E5ECF6",
            "gridcolor": "white",
            "gridwidth": 2,
            "linecolor": "white",
            "showbackground": true,
            "ticks": "",
            "zerolinecolor": "white"
           }
          },
          "shapedefaults": {
           "line": {
            "color": "#2a3f5f"
           }
          },
          "ternary": {
           "aaxis": {
            "gridcolor": "white",
            "linecolor": "white",
            "ticks": ""
           },
           "baxis": {
            "gridcolor": "white",
            "linecolor": "white",
            "ticks": ""
           },
           "bgcolor": "#E5ECF6",
           "caxis": {
            "gridcolor": "white",
            "linecolor": "white",
            "ticks": ""
           }
          },
          "title": {
           "x": 0.05
          },
          "xaxis": {
           "automargin": true,
           "gridcolor": "white",
           "linecolor": "white",
           "ticks": "",
           "title": {
            "standoff": 15
           },
           "zerolinecolor": "white",
           "zerolinewidth": 2
          },
          "yaxis": {
           "automargin": true,
           "gridcolor": "white",
           "linecolor": "white",
           "ticks": "",
           "title": {
            "standoff": 15
           },
           "zerolinecolor": "white",
           "zerolinewidth": 2
          }
         }
        },
        "title": {
         "text": "L2 Error"
        },
        "xaxis": {
         "title": {
          "text": "Time"
         }
        },
        "yaxis": {
         "title": {
          "text": "Error"
         }
        }
       }
      }
     },
     "metadata": {},
     "output_type": "display_data"
    }
   ],
   "source": [
    "l2_errors_1 = np.linalg.norm(results[1]['field']['u'] - results[0]['field']['u'], axis=1) / np.linalg.norm(results[0]['field']['u'], axis=1)\n",
    "l2_errors_2 = np.linalg.norm(results[2]['field']['u'] - results[0]['field']['u'], axis=1) / np.linalg.norm(results[0]['field']['u'], axis=1)\n",
    "print(np.mean(l2_errors_1))\n",
    "print(np.mean(l2_errors_2))\n",
    "\n",
    "fig = go.Figure()\n",
    "fig.add_trace(go.Scatter(x=results[0]['times'], y=l2_errors_1, name='math'))\n",
    "fig.add_trace(go.Scatter(x=results[0]['times'], y=l2_errors_2, name='local'))\n",
    "fig.update_layout(title='L2 Error', xaxis_title='Time', yaxis_title='Error')\n",
    "fig.show()"
   ]
  },
  {
   "cell_type": "code",
   "execution_count": 6,
   "metadata": {},
   "outputs": [
    {
     "data": {
      "image/png": "[encoded data removed]",
      "text/plain": [
       "<Figure size 1500x1000 with 6 Axes>"
      ]
     },
     "metadata": {},
     "output_type": "display_data"
    },
    {
     "data": {
      "text/plain": [
       "<matplotlib.animation.FuncAnimation at 0x2b8075cd0>"
      ]
     },
     "execution_count": 6,
     "metadata": {},
     "output_type": "execute_result"
    }
   ],
   "source": [
    "def get_anim(y_values_list, y_axis_list):\n",
    "    fig, axs = plt.subplots(2, 3, figsize=(15, 10))\n",
    "    axs = axs.flatten()\n",
    "\n",
    "    lines = []\n",
    "    for ax, y_values, y_axis in zip(axs, y_values_list, y_axis_list):\n",
    "        line, = ax.plot(y_values[0, :], color='blue')\n",
    "        ax.set_ylim(y_axis)\n",
    "        lines.append(line)\n",
    "\n",
    "    def animate(i):\n",
    "        for line, y_values in zip(lines, y_values_list):\n",
    "            line.set_ydata(y_values[i, :])\n",
    "        return lines\n",
    "\n",
    "    anim = FuncAnimation(fig, animate, frames=len(y_values_list[0]), interval=3000, blit=True)\n",
    "    writer = FFMpegWriter(fps=10, metadata=dict(artist='Malte Schade'), bitrate=1800)\n",
    "    anim.save('wave_field.mp4', writer=writer)\n",
    "    plt.show()\n",
    "\n",
    "    return anim\n",
    "\n",
    "y_values1 = results[0]['field']['u']\n",
    "y_values2 = results[1]['field']['u']\n",
    "y_values3 = results[1]['field']['u'] - results[0]['field']['u']\n",
    "y_values4 = results[0]['field']['v']\n",
    "y_values5 = results[1]['field']['v']\n",
    "y_values6 = results[1]['field']['v'] - results[0]['field']['v']\n",
    "y_axis1 = [-1, 1]\n",
    "y_axis2 = [-1, 1]\n",
    "y_axis3 = [-0.02, 0.02]\n",
    "y_axis4 = [-1, 1]\n",
    "y_axis5 = [-1, 1]\n",
    "y_axis6 = [-0.02, 0.02]\n",
    "y_values = [y_values1, y_values2, y_values3, y_values4, y_values5, y_values6]\n",
    "y_axis = [y_axis1, y_axis2, y_axis3, y_axis4, y_axis5, y_axis6]\n",
    "\n",
    "get_anim(y_values, y_axis)\n"
   ]
  },
  {
   "cell_type": "code",
   "execution_count": 10,
   "metadata": {},
   "outputs": [
    {
     "data": {
      "application/vnd.plotly.v1+json": {
       "config": {
        "plotlyServerURL": "https://plot.ly"
       },
       "data": [
        {
         "line": {
          "color": "blue"
         },
         "mode": "lines",
         "name": "$v [\\mu m / s^2]$",
         "showlegend": false,
         "type": "scatter",
         "x": [
          0,
          1,
          2,
          3,
          4,
          5,
          6
         ],
         "xaxis": "x",
         "y": [
          0.009088814332709366,
          0.4277940082306243,
          -0.4127829195758522,
          0.11827592976717166,
          -0.4127829195758522,
          0.4277940082306243,
          0.009088814332709366
         ],
         "yaxis": "y2"
        },
        {
         "line": {
          "color": "red"
         },
         "mode": "lines",
         "name": "$u [\\mu m]$",
         "showlegend": false,
         "type": "scatter",
         "x": [
          0,
          1,
          2,
          3,
          4,
          5,
          6
         ],
         "xaxis": "x",
         "y": [
          -0.098060393600924,
          0.08995415419549066,
          0.44800092215919496,
          -0.7853437286835896,
          0.44800092215919496,
          0.08995415419549066,
          -0.098060393600924
         ],
         "yaxis": "y"
        }
       ],
       "layout": {
        "annotations": [
         {
          "font": {
           "size": 20
          },
          "showarrow": false,
          "text": "$$Wave \\; Field \\; t = 1.85$$",
          "x": 0.47,
          "xanchor": "center",
          "xref": "paper",
          "y": 1,
          "yanchor": "bottom",
          "yref": "paper",
          "yshift": 10
         }
        ],
        "font": {
         "size": 15
        },
        "template": {
         "data": {
          "bar": [
           {
            "error_x": {
             "color": "#2a3f5f"
            },
            "error_y": {
             "color": "#2a3f5f"
            },
            "marker": {
             "line": {
              "color": "#E5ECF6",
              "width": 0.5
             },
             "pattern": {
              "fillmode": "overlay",
              "size": 10,
              "solidity": 0.2
             }
            },
            "type": "bar"
           }
          ],
          "barpolar": [
           {
            "marker": {
             "line": {
              "color": "#E5ECF6",
              "width": 0.5
             },
             "pattern": {
              "fillmode": "overlay",
              "size": 10,
              "solidity": 0.2
             }
            },
            "type": "barpolar"
           }
          ],
          "carpet": [
           {
            "aaxis": {
             "endlinecolor": "#2a3f5f",
             "gridcolor": "white",
             "linecolor": "white",
             "minorgridcolor": "white",
             "startlinecolor": "#2a3f5f"
            },
            "baxis": {
             "endlinecolor": "#2a3f5f",
             "gridcolor": "white",
             "linecolor": "white",
             "minorgridcolor": "white",
             "startlinecolor": "#2a3f5f"
            },
            "type": "carpet"
           }
          ],
          "choropleth": [
           {
            "colorbar": {
             "outlinewidth": 0,
             "ticks": ""
            },
            "type": "choropleth"
           }
          ],
          "contour": [
           {
            "colorbar": {
             "outlinewidth": 0,
             "ticks": ""
            },
            "colorscale": [
             [
              0,
              "#0d0887"
             ],
             [
              0.1111111111111111,
              "#46039f"
             ],
             [
              0.2222222222222222,
              "#7201a8"
             ],
             [
              0.3333333333333333,
              "#9c179e"
             ],
             [
              0.4444444444444444,
              "#bd3786"
             ],
             [
              0.5555555555555556,
              "#d8576b"
             ],
             [
              0.6666666666666666,
              "#ed7953"
             ],
             [
              0.7777777777777778,
              "#fb9f3a"
             ],
             [
              0.8888888888888888,
              "#fdca26"
             ],
             [
              1,
              "#f0f921"
             ]
            ],
            "type": "contour"
           }
          ],
          "contourcarpet": [
           {
            "colorbar": {
             "outlinewidth": 0,
             "ticks": ""
            },
            "type": "contourcarpet"
           }
          ],
          "heatmap": [
           {
            "colorbar": {
             "outlinewidth": 0,
             "ticks": ""
            },
            "colorscale": [
             [
              0,
              "#0d0887"
             ],
             [
              0.1111111111111111,
              "#46039f"
             ],
             [
              0.2222222222222222,
              "#7201a8"
             ],
             [
              0.3333333333333333,
              "#9c179e"
             ],
             [
              0.4444444444444444,
              "#bd3786"
             ],
             [
              0.5555555555555556,
              "#d8576b"
             ],
             [
              0.6666666666666666,
              "#ed7953"
             ],
             [
              0.7777777777777778,
              "#fb9f3a"
             ],
             [
              0.8888888888888888,
              "#fdca26"
             ],
             [
              1,
              "#f0f921"
             ]
            ],
            "type": "heatmap"
           }
          ],
          "heatmapgl": [
           {
            "colorbar": {
             "outlinewidth": 0,
             "ticks": ""
            },
            "colorscale": [
             [
              0,
              "#0d0887"
             ],
             [
              0.1111111111111111,
              "#46039f"
             ],
             [
              0.2222222222222222,
              "#7201a8"
             ],
             [
              0.3333333333333333,
              "#9c179e"
             ],
             [
              0.4444444444444444,
              "#bd3786"
             ],
             [
              0.5555555555555556,
              "#d8576b"
             ],
             [
              0.6666666666666666,
              "#ed7953"
             ],
             [
              0.7777777777777778,
              "#fb9f3a"
             ],
             [
              0.8888888888888888,
              "#fdca26"
             ],
             [
              1,
              "#f0f921"
             ]
            ],
            "type": "heatmapgl"
           }
          ],
          "histogram": [
           {
            "marker": {
             "pattern": {
              "fillmode": "overlay",
              "size": 10,
              "solidity": 0.2
             }
            },
            "type": "histogram"
           }
          ],
          "histogram2d": [
           {
            "colorbar": {
             "outlinewidth": 0,
             "ticks": ""
            },
            "colorscale": [
             [
              0,
              "#0d0887"
             ],
             [
              0.1111111111111111,
              "#46039f"
             ],
             [
              0.2222222222222222,
              "#7201a8"
             ],
             [
              0.3333333333333333,
              "#9c179e"
             ],
             [
              0.4444444444444444,
              "#bd3786"
             ],
             [
              0.5555555555555556,
              "#d8576b"
             ],
             [
              0.6666666666666666,
              "#ed7953"
             ],
             [
              0.7777777777777778,
              "#fb9f3a"
             ],
             [
              0.8888888888888888,
              "#fdca26"
             ],
             [
              1,
              "#f0f921"
             ]
            ],
            "type": "histogram2d"
           }
          ],
          "histogram2dcontour": [
           {
            "colorbar": {
             "outlinewidth": 0,
             "ticks": ""
            },
            "colorscale": [
             [
              0,
              "#0d0887"
             ],
             [
              0.1111111111111111,
              "#46039f"
             ],
             [
              0.2222222222222222,
              "#7201a8"
             ],
             [
              0.3333333333333333,
              "#9c179e"
             ],
             [
              0.4444444444444444,
              "#bd3786"
             ],
             [
              0.5555555555555556,
              "#d8576b"
             ],
             [
              0.6666666666666666,
              "#ed7953"
             ],
             [
              0.7777777777777778,
              "#fb9f3a"
             ],
             [
              0.8888888888888888,
              "#fdca26"
             ],
             [
              1,
              "#f0f921"
             ]
            ],
            "type": "histogram2dcontour"
           }
          ],
          "mesh3d": [
           {
            "colorbar": {
             "outlinewidth": 0,
             "ticks": ""
            },
            "type": "mesh3d"
           }
          ],
          "parcoords": [
           {
            "line": {
             "colorbar": {
              "outlinewidth": 0,
              "ticks": ""
             }
            },
            "type": "parcoords"
           }
          ],
          "pie": [
           {
            "automargin": true,
            "type": "pie"
           }
          ],
          "scatter": [
           {
            "fillpattern": {
             "fillmode": "overlay",
             "size": 10,
             "solidity": 0.2
            },
            "type": "scatter"
           }
          ],
          "scatter3d": [
           {
            "line": {
             "colorbar": {
              "outlinewidth": 0,
              "ticks": ""
             }
            },
            "marker": {
             "colorbar": {
              "outlinewidth": 0,
              "ticks": ""
             }
            },
            "type": "scatter3d"
           }
          ],
          "scattercarpet": [
           {
            "marker": {
             "colorbar": {
              "outlinewidth": 0,
              "ticks": ""
             }
            },
            "type": "scattercarpet"
           }
          ],
          "scattergeo": [
           {
            "marker": {
             "colorbar": {
              "outlinewidth": 0,
              "ticks": ""
             }
            },
            "type": "scattergeo"
           }
          ],
          "scattergl": [
           {
            "marker": {
             "colorbar": {
              "outlinewidth": 0,
              "ticks": ""
             }
            },
            "type": "scattergl"
           }
          ],
          "scattermapbox": [
           {
            "marker": {
             "colorbar": {
              "outlinewidth": 0,
              "ticks": ""
             }
            },
            "type": "scattermapbox"
           }
          ],
          "scatterpolar": [
           {
            "marker": {
             "colorbar": {
              "outlinewidth": 0,
              "ticks": ""
             }
            },
            "type": "scatterpolar"
           }
          ],
          "scatterpolargl": [
           {
            "marker": {
             "colorbar": {
              "outlinewidth": 0,
              "ticks": ""
             }
            },
            "type": "scatterpolargl"
           }
          ],
          "scatterternary": [
           {
            "marker": {
             "colorbar": {
              "outlinewidth": 0,
              "ticks": ""
             }
            },
            "type": "scatterternary"
           }
          ],
          "surface": [
           {
            "colorbar": {
             "outlinewidth": 0,
             "ticks": ""
            },
            "colorscale": [
             [
              0,
              "#0d0887"
             ],
             [
              0.1111111111111111,
              "#46039f"
             ],
             [
              0.2222222222222222,
              "#7201a8"
             ],
             [
              0.3333333333333333,
              "#9c179e"
             ],
             [
              0.4444444444444444,
              "#bd3786"
             ],
             [
              0.5555555555555556,
              "#d8576b"
             ],
             [
              0.6666666666666666,
              "#ed7953"
             ],
             [
              0.7777777777777778,
              "#fb9f3a"
             ],
             [
              0.8888888888888888,
              "#fdca26"
             ],
             [
              1,
              "#f0f921"
             ]
            ],
            "type": "surface"
           }
          ],
          "table": [
           {
            "cells": {
             "fill": {
              "color": "#EBF0F8"
             },
             "line": {
              "color": "white"
             }
            },
            "header": {
             "fill": {
              "color": "#C8D4E3"
             },
             "line": {
              "color": "white"
             }
            },
            "type": "table"
           }
          ]
         },
         "layout": {
          "annotationdefaults": {
           "arrowcolor": "#2a3f5f",
           "arrowhead": 0,
           "arrowwidth": 1
          },
          "autotypenumbers": "strict",
          "coloraxis": {
           "colorbar": {
            "outlinewidth": 0,
            "ticks": ""
           }
          },
          "colorscale": {
           "diverging": [
            [
             0,
             "#8e0152"
            ],
            [
             0.1,
             "#c51b7d"
            ],
            [
             0.2,
             "#de77ae"
            ],
            [
             0.3,
             "#f1b6da"
            ],
            [
             0.4,
             "#fde0ef"
            ],
            [
             0.5,
             "#f7f7f7"
            ],
            [
             0.6,
             "#e6f5d0"
            ],
            [
             0.7,
             "#b8e186"
            ],
            [
             0.8,
             "#7fbc41"
            ],
            [
             0.9,
             "#4d9221"
            ],
            [
             1,
             "#276419"
            ]
           ],
           "sequential": [
            [
             0,
             "#0d0887"
            ],
            [
             0.1111111111111111,
             "#46039f"
            ],
            [
             0.2222222222222222,
             "#7201a8"
            ],
            [
             0.3333333333333333,
             "#9c179e"
            ],
            [
             0.4444444444444444,
             "#bd3786"
            ],
            [
             0.5555555555555556,
             "#d8576b"
            ],
            [
             0.6666666666666666,
             "#ed7953"
            ],
            [
             0.7777777777777778,
             "#fb9f3a"
            ],
            [
             0.8888888888888888,
             "#fdca26"
            ],
            [
             1,
             "#f0f921"
            ]
           ],
           "sequentialminus": [
            [
             0,
             "#0d0887"
            ],
            [
             0.1111111111111111,
             "#46039f"
            ],
            [
             0.2222222222222222,
             "#7201a8"
            ],
            [
             0.3333333333333333,
             "#9c179e"
            ],
            [
             0.4444444444444444,
             "#bd3786"
            ],
            [
             0.5555555555555556,
             "#d8576b"
            ],
            [
             0.6666666666666666,
             "#ed7953"
            ],
            [
             0.7777777777777778,
             "#fb9f3a"
            ],
            [
             0.8888888888888888,
             "#fdca26"
            ],
            [
             1,
             "#f0f921"
            ]
           ]
          },
          "colorway": [
           "#636efa",
           "#EF553B",
           "#00cc96",
           "#ab63fa",
           "#FFA15A",
           "#19d3f3",
           "#FF6692",
           "#B6E880",
           "#FF97FF",
           "#FECB52"
          ],
          "font": {
           "color": "#2a3f5f"
          },
          "geo": {
           "bgcolor": "white",
           "lakecolor": "white",
           "landcolor": "#E5ECF6",
           "showlakes": true,
           "showland": true,
           "subunitcolor": "white"
          },
          "hoverlabel": {
           "align": "left"
          },
          "hovermode": "closest",
          "mapbox": {
           "style": "light"
          },
          "paper_bgcolor": "white",
          "plot_bgcolor": "#E5ECF6",
          "polar": {
           "angularaxis": {
            "gridcolor": "white",
            "linecolor": "white",
            "ticks": ""
           },
           "bgcolor": "#E5ECF6",
           "radialaxis": {
            "gridcolor": "white",
            "linecolor": "white",
            "ticks": ""
           }
          },
          "scene": {
           "xaxis": {
            "backgroundcolor": "#E5ECF6",
            "gridcolor": "white",
            "gridwidth": 2,
            "linecolor": "white",
            "showbackground": true,
            "ticks": "",
            "zerolinecolor": "white"
           },
           "yaxis": {
            "backgroundcolor": "#E5ECF6",
            "gridcolor": "white",
            "gridwidth": 2,
            "linecolor": "white",
            "showbackground": true,
            "ticks": "",
            "zerolinecolor": "white"
           },
           "zaxis": {
            "backgroundcolor": "#E5ECF6",
            "gridcolor": "white",
            "gridwidth": 2,
            "linecolor": "white",
            "showbackground": true,
            "ticks": "",
            "zerolinecolor": "white"
           }
          },
          "shapedefaults": {
           "line": {
            "color": "#2a3f5f"
           }
          },
          "ternary": {
           "aaxis": {
            "gridcolor": "white",
            "linecolor": "white",
            "ticks": ""
           },
           "baxis": {
            "gridcolor": "white",
            "linecolor": "white",
            "ticks": ""
           },
           "bgcolor": "#E5ECF6",
           "caxis": {
            "gridcolor": "white",
            "linecolor": "white",
            "ticks": ""
           }
          },
          "title": {
           "x": 0.05
          },
          "xaxis": {
           "automargin": true,
           "gridcolor": "white",
           "linecolor": "white",
           "ticks": "",
           "title": {
            "standoff": 15
           },
           "zerolinecolor": "white",
           "zerolinewidth": 2
          },
          "yaxis": {
           "automargin": true,
           "gridcolor": "white",
           "linecolor": "white",
           "ticks": "",
           "title": {
            "standoff": 15
           },
           "zerolinecolor": "white",
           "zerolinewidth": 2
          }
         }
        },
        "xaxis": {
         "anchor": "y",
         "domain": [
          0,
          0.94
         ],
         "title": {
          "text": "$x [m]$"
         }
        },
        "yaxis": {
         "anchor": "x",
         "domain": [
          0,
          1
         ],
         "exponentformat": "e",
         "range": [
          -10,
          10
         ],
         "showexponent": "all",
         "title": {
          "font": {
           "color": "red"
          },
          "text": "$u [\\mu m]$"
         }
        },
        "yaxis2": {
         "anchor": "x",
         "exponentformat": "e",
         "overlaying": "y",
         "range": [
          -4000,
          4000
         ],
         "showexponent": "all",
         "side": "right",
         "title": {
          "font": {
           "color": "blue"
          },
          "text": "$v [\\mu m / s^2]$"
         }
        }
       }
      }
     },
     "metadata": {},
     "output_type": "display_data"
    }
   ],
   "source": [
    "idx = 30\n",
    "u1 = results[0]['field']['u'][idx]\n",
    "u2 = results[1]['field']['u'][idx]\n",
    "v1 = results[0]['field']['v'][idx]\n",
    "v2 = results[1]['field']['v'][idx]\n",
    "t = results[0]['times'][idx]\n",
    "plot_uv(u1, v1, t, plot_v=True, range_u=[-10, 10])"
   ]
  },
  {
   "cell_type": "code",
   "execution_count": 29,
   "metadata": {},
   "outputs": [
    {
     "data": {
      "application/vnd.plotly.v1+json": {
       "config": {
        "plotlyServerURL": "https://plot.ly"
       },
       "data": [
        {
         "line": {
          "color": "blue"
         },
         "mode": "lines",
         "name": "$v [\\mu m / s^2]$",
         "showlegend": false,
         "type": "scatter",
         "x": [
          0,
          1,
          2,
          3,
          4,
          5,
          6,
          7,
          8,
          9,
          10,
          11,
          12,
          13,
          14,
          15,
          16,
          17,
          18,
          19,
          20,
          21,
          22,
          23,
          24,
          25,
          26,
          27,
          28,
          29,
          30,
          31,
          32,
          33,
          34,
          35,
          36,
          37,
          38,
          39,
          40,
          41,
          42,
          43,
          44,
          45,
          46,
          47,
          48,
          49,
          50,
          51,
          52,
          53,
          54,
          55,
          56,
          57,
          58,
          59,
          60,
          61,
          62
         ],
         "xaxis": "x",
         "y": [
          -2.836598311871623,
          -1.9088711449945248,
          -8.661222078687706,
          -6.428003908562577,
          4.008300321024278,
          36.65776335617828,
          89.71810623244434,
          149.33235905055935,
          207.50343873173023,
          218.6474492695366,
          177.07223291390238,
          65.27079527532076,
          -110.75499640194585,
          -291.44991659103505,
          -447.63024221695974,
          -519.5056094120338,
          -499.8867629860064,
          -378.9517390002889,
          -187.1931203224999,
          19.135575870970015,
          214.78407068274169,
          339.48460809716397,
          393.304715489533,
          379.13260257288124,
          305.5150668333661,
          206.7252431889694,
          98.65325263925047,
          4.274242975479208,
          -75.55068386057619,
          -127.92547792253413,
          -158.5700575630205,
          -168.83698158505297,
          -156.28715579924162,
          -129.7384949440971,
          -76.69901853113626,
          1.676649845410003,
          96.02017707560748,
          204.142596871472,
          305.57094402474263,
          374.7916828202524,
          396.0529923015604,
          343.1699636277668,
          213.84084903516506,
          32.680095886242555,
          -189.00709376268097,
          -371.6107786202192,
          -497.6218948681408,
          -523.9240721131483,
          -442.897865188795,
          -296.13831594586134,
          -109.65240596508247,
          57.777661522294196,
          176.6195408692394,
          221.65808451416646,
          204.52230531455368,
          154.90533648448286,
          88.03003748441294,
          34.86080656827575,
          4.766600685118396,
          -8.854440398092558,
          -8.018239842197678,
          -2.0678701500213394,
          -3.561661087424288
         ],
         "yaxis": "y2"
        },
        {
         "line": {
          "color": "red"
         },
         "mode": "lines",
         "name": "$u [\\mu m]$",
         "showlegend": false,
         "type": "scatter",
         "x": [
          0,
          1,
          2,
          3,
          4,
          5,
          6,
          7,
          8,
          9,
          10,
          11,
          12,
          13,
          14,
          15,
          16,
          17,
          18,
          19,
          20,
          21,
          22,
          23,
          24,
          25,
          26,
          27,
          28,
          29,
          30,
          31,
          32,
          33,
          34,
          35,
          36,
          37,
          38,
          39,
          40,
          41,
          42,
          43,
          44,
          45,
          46,
          47,
          48,
          49,
          50,
          51,
          52,
          53,
          54,
          55,
          56,
          57,
          58,
          59,
          60,
          61,
          62
         ],
         "xaxis": "x",
         "y": [
          -0.0003369127391035045,
          0.001155295574702682,
          0.0036771830548238205,
          0.006891750935896206,
          0.008747445222577673,
          0.0024867214235011884,
          -0.01658964952461536,
          -0.05336011327764022,
          -0.11191582513087997,
          -0.1804645404898995,
          -0.2460785123070746,
          -0.2864358833983229,
          -0.27860447483749895,
          -0.2134640315291148,
          -0.09263493057807697,
          0.06379830063087491,
          0.22948454381027017,
          0.3710351232115414,
          0.4603321786584329,
          0.48655353081993397,
          0.4440621465806429,
          0.3523777992405118,
          0.23191253514667975,
          0.10562440278752785,
          -0.007416984233516888,
          -0.09737945614894981,
          -0.15664164208635167,
          -0.19046674480527007,
          -0.20327842239606986,
          -0.20384851365572898,
          -0.2009727300350368,
          -0.1986515051170561,
          -0.2009825094095573,
          -0.20396965361785113,
          -0.20299263349756141,
          -0.19073851064304237,
          -0.15683395451013055,
          -0.09727643436206687,
          -0.006848552711922574,
          0.10766393036741398,
          0.2338838652709201,
          0.3545202644283162,
          0.4445835024013054,
          0.4854192566050559,
          0.4579421692105651,
          0.3674632915784699,
          0.22553604228304716,
          0.05949789141837564,
          -0.09684688611448738,
          -0.21714133448926895,
          -0.2815467417194756,
          -0.2886379676920181,
          -0.24662490623391406,
          -0.18232901848808739,
          -0.11297944277827301,
          -0.054770163688841855,
          -0.017918200893486606,
          -0.00025568450166999716,
          0.0054097004964364604,
          0.004432293923082961,
          0.002237411371291006,
          0.000013073942727098766,
          0.00004705407596450113
         ],
         "yaxis": "y"
        }
       ],
       "layout": {
        "annotations": [
         {
          "font": {
           "size": 20
          },
          "showarrow": false,
          "text": "$$Wave \\; Field \\; t = 0.037$$",
          "x": 0.47,
          "xanchor": "center",
          "xref": "paper",
          "y": 1,
          "yanchor": "bottom",
          "yref": "paper",
          "yshift": 10
         }
        ],
        "font": {
         "size": 15
        },
        "template": {
         "data": {
          "bar": [
           {
            "error_x": {
             "color": "#2a3f5f"
            },
            "error_y": {
             "color": "#2a3f5f"
            },
            "marker": {
             "line": {
              "color": "#E5ECF6",
              "width": 0.5
             },
             "pattern": {
              "fillmode": "overlay",
              "size": 10,
              "solidity": 0.2
             }
            },
            "type": "bar"
           }
          ],
          "barpolar": [
           {
            "marker": {
             "line": {
              "color": "#E5ECF6",
              "width": 0.5
             },
             "pattern": {
              "fillmode": "overlay",
              "size": 10,
              "solidity": 0.2
             }
            },
            "type": "barpolar"
           }
          ],
          "carpet": [
           {
            "aaxis": {
             "endlinecolor": "#2a3f5f",
             "gridcolor": "white",
             "linecolor": "white",
             "minorgridcolor": "white",
             "startlinecolor": "#2a3f5f"
            },
            "baxis": {
             "endlinecolor": "#2a3f5f",
             "gridcolor": "white",
             "linecolor": "white",
             "minorgridcolor": "white",
             "startlinecolor": "#2a3f5f"
            },
            "type": "carpet"
           }
          ],
          "choropleth": [
           {
            "colorbar": {
             "outlinewidth": 0,
             "ticks": ""
            },
            "type": "choropleth"
           }
          ],
          "contour": [
           {
            "colorbar": {
             "outlinewidth": 0,
             "ticks": ""
            },
            "colorscale": [
             [
              0,
              "#0d0887"
             ],
             [
              0.1111111111111111,
              "#46039f"
             ],
             [
              0.2222222222222222,
              "#7201a8"
             ],
             [
              0.3333333333333333,
              "#9c179e"
             ],
             [
              0.4444444444444444,
              "#bd3786"
             ],
             [
              0.5555555555555556,
              "#d8576b"
             ],
             [
              0.6666666666666666,
              "#ed7953"
             ],
             [
              0.7777777777777778,
              "#fb9f3a"
             ],
             [
              0.8888888888888888,
              "#fdca26"
             ],
             [
              1,
              "#f0f921"
             ]
            ],
            "type": "contour"
           }
          ],
          "contourcarpet": [
           {
            "colorbar": {
             "outlinewidth": 0,
             "ticks": ""
            },
            "type": "contourcarpet"
           }
          ],
          "heatmap": [
           {
            "colorbar": {
             "outlinewidth": 0,
             "ticks": ""
            },
            "colorscale": [
             [
              0,
              "#0d0887"
             ],
             [
              0.1111111111111111,
              "#46039f"
             ],
             [
              0.2222222222222222,
              "#7201a8"
             ],
             [
              0.3333333333333333,
              "#9c179e"
             ],
             [
              0.4444444444444444,
              "#bd3786"
             ],
             [
              0.5555555555555556,
              "#d8576b"
             ],
             [
              0.6666666666666666,
              "#ed7953"
             ],
             [
              0.7777777777777778,
              "#fb9f3a"
             ],
             [
              0.8888888888888888,
              "#fdca26"
             ],
             [
              1,
              "#f0f921"
             ]
            ],
            "type": "heatmap"
           }
          ],
          "heatmapgl": [
           {
            "colorbar": {
             "outlinewidth": 0,
             "ticks": ""
            },
            "colorscale": [
             [
              0,
              "#0d0887"
             ],
             [
              0.1111111111111111,
              "#46039f"
             ],
             [
              0.2222222222222222,
              "#7201a8"
             ],
             [
              0.3333333333333333,
              "#9c179e"
             ],
             [
              0.4444444444444444,
              "#bd3786"
             ],
             [
              0.5555555555555556,
              "#d8576b"
             ],
             [
              0.6666666666666666,
              "#ed7953"
             ],
             [
              0.7777777777777778,
              "#fb9f3a"
             ],
             [
              0.8888888888888888,
              "#fdca26"
             ],
             [
              1,
              "#f0f921"
             ]
            ],
            "type": "heatmapgl"
           }
          ],
          "histogram": [
           {
            "marker": {
             "pattern": {
              "fillmode": "overlay",
              "size": 10,
              "solidity": 0.2
             }
            },
            "type": "histogram"
           }
          ],
          "histogram2d": [
           {
            "colorbar": {
             "outlinewidth": 0,
             "ticks": ""
            },
            "colorscale": [
             [
              0,
              "#0d0887"
             ],
             [
              0.1111111111111111,
              "#46039f"
             ],
             [
              0.2222222222222222,
              "#7201a8"
             ],
             [
              0.3333333333333333,
              "#9c179e"
             ],
             [
              0.4444444444444444,
              "#bd3786"
             ],
             [
              0.5555555555555556,
              "#d8576b"
             ],
             [
              0.6666666666666666,
              "#ed7953"
             ],
             [
              0.7777777777777778,
              "#fb9f3a"
             ],
             [
              0.8888888888888888,
              "#fdca26"
             ],
             [
              1,
              "#f0f921"
             ]
            ],
            "type": "histogram2d"
           }
          ],
          "histogram2dcontour": [
           {
            "colorbar": {
             "outlinewidth": 0,
             "ticks": ""
            },
            "colorscale": [
             [
              0,
              "#0d0887"
             ],
             [
              0.1111111111111111,
              "#46039f"
             ],
             [
              0.2222222222222222,
              "#7201a8"
             ],
             [
              0.3333333333333333,
              "#9c179e"
             ],
             [
              0.4444444444444444,
              "#bd3786"
             ],
             [
              0.5555555555555556,
              "#d8576b"
             ],
             [
              0.6666666666666666,
              "#ed7953"
             ],
             [
              0.7777777777777778,
              "#fb9f3a"
             ],
             [
              0.8888888888888888,
              "#fdca26"
             ],
             [
              1,
              "#f0f921"
             ]
            ],
            "type": "histogram2dcontour"
           }
          ],
          "mesh3d": [
           {
            "colorbar": {
             "outlinewidth": 0,
             "ticks": ""
            },
            "type": "mesh3d"
           }
          ],
          "parcoords": [
           {
            "line": {
             "colorbar": {
              "outlinewidth": 0,
              "ticks": ""
             }
            },
            "type": "parcoords"
           }
          ],
          "pie": [
           {
            "automargin": true,
            "type": "pie"
           }
          ],
          "scatter": [
           {
            "fillpattern": {
             "fillmode": "overlay",
             "size": 10,
             "solidity": 0.2
            },
            "type": "scatter"
           }
          ],
          "scatter3d": [
           {
            "line": {
             "colorbar": {
              "outlinewidth": 0,
              "ticks": ""
             }
            },
            "marker": {
             "colorbar": {
              "outlinewidth": 0,
              "ticks": ""
             }
            },
            "type": "scatter3d"
           }
          ],
          "scattercarpet": [
           {
            "marker": {
             "colorbar": {
              "outlinewidth": 0,
              "ticks": ""
             }
            },
            "type": "scattercarpet"
           }
          ],
          "scattergeo": [
           {
            "marker": {
             "colorbar": {
              "outlinewidth": 0,
              "ticks": ""
             }
            },
            "type": "scattergeo"
           }
          ],
          "scattergl": [
           {
            "marker": {
             "colorbar": {
              "outlinewidth": 0,
              "ticks": ""
             }
            },
            "type": "scattergl"
           }
          ],
          "scattermapbox": [
           {
            "marker": {
             "colorbar": {
              "outlinewidth": 0,
              "ticks": ""
             }
            },
            "type": "scattermapbox"
           }
          ],
          "scatterpolar": [
           {
            "marker": {
             "colorbar": {
              "outlinewidth": 0,
              "ticks": ""
             }
            },
            "type": "scatterpolar"
           }
          ],
          "scatterpolargl": [
           {
            "marker": {
             "colorbar": {
              "outlinewidth": 0,
              "ticks": ""
             }
            },
            "type": "scatterpolargl"
           }
          ],
          "scatterternary": [
           {
            "marker": {
             "colorbar": {
              "outlinewidth": 0,
              "ticks": ""
             }
            },
            "type": "scatterternary"
           }
          ],
          "surface": [
           {
            "colorbar": {
             "outlinewidth": 0,
             "ticks": ""
            },
            "colorscale": [
             [
              0,
              "#0d0887"
             ],
             [
              0.1111111111111111,
              "#46039f"
             ],
             [
              0.2222222222222222,
              "#7201a8"
             ],
             [
              0.3333333333333333,
              "#9c179e"
             ],
             [
              0.4444444444444444,
              "#bd3786"
             ],
             [
              0.5555555555555556,
              "#d8576b"
             ],
             [
              0.6666666666666666,
              "#ed7953"
             ],
             [
              0.7777777777777778,
              "#fb9f3a"
             ],
             [
              0.8888888888888888,
              "#fdca26"
             ],
             [
              1,
              "#f0f921"
             ]
            ],
            "type": "surface"
           }
          ],
          "table": [
           {
            "cells": {
             "fill": {
              "color": "#EBF0F8"
             },
             "line": {
              "color": "white"
             }
            },
            "header": {
             "fill": {
              "color": "#C8D4E3"
             },
             "line": {
              "color": "white"
             }
            },
            "type": "table"
           }
          ]
         },
         "layout": {
          "annotationdefaults": {
           "arrowcolor": "#2a3f5f",
           "arrowhead": 0,
           "arrowwidth": 1
          },
          "autotypenumbers": "strict",
          "coloraxis": {
           "colorbar": {
            "outlinewidth": 0,
            "ticks": ""
           }
          },
          "colorscale": {
           "diverging": [
            [
             0,
             "#8e0152"
            ],
            [
             0.1,
             "#c51b7d"
            ],
            [
             0.2,
             "#de77ae"
            ],
            [
             0.3,
             "#f1b6da"
            ],
            [
             0.4,
             "#fde0ef"
            ],
            [
             0.5,
             "#f7f7f7"
            ],
            [
             0.6,
             "#e6f5d0"
            ],
            [
             0.7,
             "#b8e186"
            ],
            [
             0.8,
             "#7fbc41"
            ],
            [
             0.9,
             "#4d9221"
            ],
            [
             1,
             "#276419"
            ]
           ],
           "sequential": [
            [
             0,
             "#0d0887"
            ],
            [
             0.1111111111111111,
             "#46039f"
            ],
            [
             0.2222222222222222,
             "#7201a8"
            ],
            [
             0.3333333333333333,
             "#9c179e"
            ],
            [
             0.4444444444444444,
             "#bd3786"
            ],
            [
             0.5555555555555556,
             "#d8576b"
            ],
            [
             0.6666666666666666,
             "#ed7953"
            ],
            [
             0.7777777777777778,
             "#fb9f3a"
            ],
            [
             0.8888888888888888,
             "#fdca26"
            ],
            [
             1,
             "#f0f921"
            ]
           ],
           "sequentialminus": [
            [
             0,
             "#0d0887"
            ],
            [
             0.1111111111111111,
             "#46039f"
            ],
            [
             0.2222222222222222,
             "#7201a8"
            ],
            [
             0.3333333333333333,
             "#9c179e"
            ],
            [
             0.4444444444444444,
             "#bd3786"
            ],
            [
             0.5555555555555556,
             "#d8576b"
            ],
            [
             0.6666666666666666,
             "#ed7953"
            ],
            [
             0.7777777777777778,
             "#fb9f3a"
            ],
            [
             0.8888888888888888,
             "#fdca26"
            ],
            [
             1,
             "#f0f921"
            ]
           ]
          },
          "colorway": [
           "#636efa",
           "#EF553B",
           "#00cc96",
           "#ab63fa",
           "#FFA15A",
           "#19d3f3",
           "#FF6692",
           "#B6E880",
           "#FF97FF",
           "#FECB52"
          ],
          "font": {
           "color": "#2a3f5f"
          },
          "geo": {
           "bgcolor": "white",
           "lakecolor": "white",
           "landcolor": "#E5ECF6",
           "showlakes": true,
           "showland": true,
           "subunitcolor": "white"
          },
          "hoverlabel": {
           "align": "left"
          },
          "hovermode": "closest",
          "mapbox": {
           "style": "light"
          },
          "paper_bgcolor": "white",
          "plot_bgcolor": "#E5ECF6",
          "polar": {
           "angularaxis": {
            "gridcolor": "white",
            "linecolor": "white",
            "ticks": ""
           },
           "bgcolor": "#E5ECF6",
           "radialaxis": {
            "gridcolor": "white",
            "linecolor": "white",
            "ticks": ""
           }
          },
          "scene": {
           "xaxis": {
            "backgroundcolor": "#E5ECF6",
            "gridcolor": "white",
            "gridwidth": 2,
            "linecolor": "white",
            "showbackground": true,
            "ticks": "",
            "zerolinecolor": "white"
           },
           "yaxis": {
            "backgroundcolor": "#E5ECF6",
            "gridcolor": "white",
            "gridwidth": 2,
            "linecolor": "white",
            "showbackground": true,
            "ticks": "",
            "zerolinecolor": "white"
           },
           "zaxis": {
            "backgroundcolor": "#E5ECF6",
            "gridcolor": "white",
            "gridwidth": 2,
            "linecolor": "white",
            "showbackground": true,
            "ticks": "",
            "zerolinecolor": "white"
           }
          },
          "shapedefaults": {
           "line": {
            "color": "#2a3f5f"
           }
          },
          "ternary": {
           "aaxis": {
            "gridcolor": "white",
            "linecolor": "white",
            "ticks": ""
           },
           "baxis": {
            "gridcolor": "white",
            "linecolor": "white",
            "ticks": ""
           },
           "bgcolor": "#E5ECF6",
           "caxis": {
            "gridcolor": "white",
            "linecolor": "white",
            "ticks": ""
           }
          },
          "title": {
           "x": 0.05
          },
          "xaxis": {
           "automargin": true,
           "gridcolor": "white",
           "linecolor": "white",
           "ticks": "",
           "title": {
            "standoff": 15
           },
           "zerolinecolor": "white",
           "zerolinewidth": 2
          },
          "yaxis": {
           "automargin": true,
           "gridcolor": "white",
           "linecolor": "white",
           "ticks": "",
           "title": {
            "standoff": 15
           },
           "zerolinecolor": "white",
           "zerolinewidth": 2
          }
         }
        },
        "xaxis": {
         "anchor": "y",
         "domain": [
          0,
          0.94
         ],
         "title": {
          "text": "$x [m]$"
         }
        },
        "yaxis": {
         "anchor": "x",
         "domain": [
          0,
          1
         ],
         "exponentformat": "e",
         "range": [
          -10,
          10
         ],
         "showexponent": "all",
         "title": {
          "font": {
           "color": "red"
          },
          "text": "$u [\\mu m]$"
         }
        },
        "yaxis2": {
         "anchor": "x",
         "exponentformat": "e",
         "overlaying": "y",
         "range": [
          -4000,
          4000
         ],
         "showexponent": "all",
         "side": "right",
         "title": {
          "font": {
           "color": "blue"
          },
          "text": "$v [\\mu m / s^2]$"
         }
        }
       }
      }
     },
     "metadata": {},
     "output_type": "display_data"
    }
   ],
   "source": [
    "plot_uv(u2, v2, t, plot_v=True, range_u=[-10, 10])"
   ]
  },
  {
   "cell_type": "code",
   "execution_count": 30,
   "metadata": {},
   "outputs": [
    {
     "data": {
      "application/vnd.plotly.v1+json": {
       "config": {
        "plotlyServerURL": "https://plot.ly"
       },
       "data": [
        {
         "line": {
          "color": "blue"
         },
         "mode": "lines",
         "name": "$v [\\mu m / s^2]$",
         "showlegend": false,
         "type": "scatter",
         "x": [
          0,
          1,
          2,
          3,
          4,
          5,
          6,
          7,
          8,
          9,
          10,
          11,
          12,
          13,
          14,
          15,
          16,
          17,
          18,
          19,
          20,
          21,
          22,
          23,
          24,
          25,
          26,
          27,
          28,
          29,
          30,
          31,
          32,
          33,
          34,
          35,
          36,
          37,
          38,
          39,
          40,
          41,
          42,
          43,
          44,
          45,
          46,
          47,
          48,
          49,
          50,
          51,
          52,
          53,
          54,
          55,
          56,
          57,
          58,
          59,
          60,
          61,
          62
         ],
         "xaxis": "x",
         "y": [
          2.3331810573331713,
          -2.43954625953957,
          3.0622081063011954,
          -2.0187561466195003,
          3.4861335760688856,
          -3.742301364063678,
          1.0482235609215138,
          -3.173936622382115,
          1.2591910028384916,
          -3.5723497032520584,
          4.17478065275742,
          -11.06006275314818,
          8.792379973431764,
          -9.660175614964714,
          7.0323533208210165,
          -10.05992396881527,
          7.8209082826599,
          -1.5321636556105318,
          5.268337081346232,
          3.03462487886976,
          -1.0626925972169374,
          -0.6235543633587213,
          -0.0523561885592585,
          -1.964778995653944,
          -0.8865893098152355,
          1.1158758482883968,
          -1.488901968408598,
          -0.15302173819811937,
          -1.4536144581660722,
          0.716664532785046,
          -3.553436276651013,
          0.12018048611460586,
          -5.836338040429894,
          2.5296815543480307,
          -0.30527978760599694,
          2.4445713918710856,
          1.1441735952343919,
          3.698522165785789,
          -0.9424665011917455,
          2.3761407569749053,
          -2.800633000586629,
          -4.308909893961527,
          -0.11947094964031635,
          -10.509895136402779,
          7.08231052152729,
          -8.873124035680235,
          5.556040164794354,
          -5.64146126770072,
          2.299976292656254,
          -4.9717762601384266,
          7.689789536568384,
          -3.566929000121611,
          4.627472697420416,
          -6.582984947881926,
          4.2403244200150425,
          -8.746914056305627,
          2.736292308952912,
          -1.9453445761611476,
          2.727833211974767,
          0.4076803429104814,
          2.419225869811168,
          -2.280547254512755,
          3.0582438328858363
         ],
         "yaxis": "y2"
        },
        {
         "line": {
          "color": "red"
         },
         "mode": "lines",
         "name": "$u [\\mu m]$",
         "showlegend": false,
         "type": "scatter",
         "x": [
          0,
          1,
          2,
          3,
          4,
          5,
          6,
          7,
          8,
          9,
          10,
          11,
          12,
          13,
          14,
          15,
          16,
          17,
          18,
          19,
          20,
          21,
          22,
          23,
          24,
          25,
          26,
          27,
          28,
          29,
          30,
          31,
          32,
          33,
          34,
          35,
          36,
          37,
          38,
          39,
          40,
          41,
          42,
          43,
          44,
          45,
          46,
          47,
          48,
          49,
          50,
          51,
          52,
          53,
          54,
          55,
          56,
          57,
          58,
          59,
          60,
          61,
          62
         ],
         "xaxis": "x",
         "y": [
          -0.00019987036741216438,
          -0.0009707931426792252,
          -0.0023205984464972056,
          -0.002272895704156971,
          -0.004112817529430745,
          -0.002470805317445225,
          -0.003261149717546808,
          -0.0027830367529795216,
          -0.002288547906507482,
          -0.0017993265922836288,
          -0.002458282086830188,
          -0.0012743720963754868,
          -0.0035935062258060646,
          -0.004450205313436262,
          -0.005754967398550026,
          -0.005337282951969821,
          -0.0048797122117862635,
          -0.005896091975887585,
          -0.003603478912696134,
          -0.006150882036905114,
          -0.0019194628101737998,
          -0.0028138239458582737,
          -0.0014285921666858103,
          -0.003884805014168047,
          -0.004213540626172983,
          -0.005046975564216044,
          -0.0059355703819387595,
          -0.006343053795634046,
          -0.007631385282840936,
          -0.008625720231623751,
          -0.010026373475873401,
          -0.010109071568656064,
          -0.010016594101352888,
          -0.0085045802695016,
          -0.007917174181349379,
          -0.006071287957861743,
          -0.005743257958159886,
          -0.005149997351098987,
          -0.004781972147767297,
          -0.005924332594054171,
          -0.003399922290926144,
          -0.004956289133662639,
          -0.0024408186308362834,
          -0.005016607822027064,
          -0.0012134694648283095,
          -0.0023242603428160757,
          -0.0009312106845632551,
          -0.001036873739470548,
          -0.0015430118621396066,
          -0.0007729023532821178,
          -0.000651239343829435,
          0.0009277121973197411,
          -0.0019118881599907156,
          0.00006515140590426793,
          -0.0012249302591144373,
          -0.0013729863417778834,
          -0.0019325983486755613,
          0.00027160060772596074,
          -0.0007750728032895329,
          0.00018656130865627417,
          -0.0008808267629643915,
          0.00017142848929635804,
          -0.00058383718248017
         ],
         "yaxis": "y"
        }
       ],
       "layout": {
        "annotations": [
         {
          "font": {
           "size": 20
          },
          "showarrow": false,
          "text": "$$Wave \\; Field \\; t = 0.037$$",
          "x": 0.47,
          "xanchor": "center",
          "xref": "paper",
          "y": 1,
          "yanchor": "bottom",
          "yref": "paper",
          "yshift": 10
         }
        ],
        "font": {
         "size": 15
        },
        "template": {
         "data": {
          "bar": [
           {
            "error_x": {
             "color": "#2a3f5f"
            },
            "error_y": {
             "color": "#2a3f5f"
            },
            "marker": {
             "line": {
              "color": "#E5ECF6",
              "width": 0.5
             },
             "pattern": {
              "fillmode": "overlay",
              "size": 10,
              "solidity": 0.2
             }
            },
            "type": "bar"
           }
          ],
          "barpolar": [
           {
            "marker": {
             "line": {
              "color": "#E5ECF6",
              "width": 0.5
             },
             "pattern": {
              "fillmode": "overlay",
              "size": 10,
              "solidity": 0.2
             }
            },
            "type": "barpolar"
           }
          ],
          "carpet": [
           {
            "aaxis": {
             "endlinecolor": "#2a3f5f",
             "gridcolor": "white",
             "linecolor": "white",
             "minorgridcolor": "white",
             "startlinecolor": "#2a3f5f"
            },
            "baxis": {
             "endlinecolor": "#2a3f5f",
             "gridcolor": "white",
             "linecolor": "white",
             "minorgridcolor": "white",
             "startlinecolor": "#2a3f5f"
            },
            "type": "carpet"
           }
          ],
          "choropleth": [
           {
            "colorbar": {
             "outlinewidth": 0,
             "ticks": ""
            },
            "type": "choropleth"
           }
          ],
          "contour": [
           {
            "colorbar": {
             "outlinewidth": 0,
             "ticks": ""
            },
            "colorscale": [
             [
              0,
              "#0d0887"
             ],
             [
              0.1111111111111111,
              "#46039f"
             ],
             [
              0.2222222222222222,
              "#7201a8"
             ],
             [
              0.3333333333333333,
              "#9c179e"
             ],
             [
              0.4444444444444444,
              "#bd3786"
             ],
             [
              0.5555555555555556,
              "#d8576b"
             ],
             [
              0.6666666666666666,
              "#ed7953"
             ],
             [
              0.7777777777777778,
              "#fb9f3a"
             ],
             [
              0.8888888888888888,
              "#fdca26"
             ],
             [
              1,
              "#f0f921"
             ]
            ],
            "type": "contour"
           }
          ],
          "contourcarpet": [
           {
            "colorbar": {
             "outlinewidth": 0,
             "ticks": ""
            },
            "type": "contourcarpet"
           }
          ],
          "heatmap": [
           {
            "colorbar": {
             "outlinewidth": 0,
             "ticks": ""
            },
            "colorscale": [
             [
              0,
              "#0d0887"
             ],
             [
              0.1111111111111111,
              "#46039f"
             ],
             [
              0.2222222222222222,
              "#7201a8"
             ],
             [
              0.3333333333333333,
              "#9c179e"
             ],
             [
              0.4444444444444444,
              "#bd3786"
             ],
             [
              0.5555555555555556,
              "#d8576b"
             ],
             [
              0.6666666666666666,
              "#ed7953"
             ],
             [
              0.7777777777777778,
              "#fb9f3a"
             ],
             [
              0.8888888888888888,
              "#fdca26"
             ],
             [
              1,
              "#f0f921"
             ]
            ],
            "type": "heatmap"
           }
          ],
          "heatmapgl": [
           {
            "colorbar": {
             "outlinewidth": 0,
             "ticks": ""
            },
            "colorscale": [
             [
              0,
              "#0d0887"
             ],
             [
              0.1111111111111111,
              "#46039f"
             ],
             [
              0.2222222222222222,
              "#7201a8"
             ],
             [
              0.3333333333333333,
              "#9c179e"
             ],
             [
              0.4444444444444444,
              "#bd3786"
             ],
             [
              0.5555555555555556,
              "#d8576b"
             ],
             [
              0.6666666666666666,
              "#ed7953"
             ],
             [
              0.7777777777777778,
              "#fb9f3a"
             ],
             [
              0.8888888888888888,
              "#fdca26"
             ],
             [
              1,
              "#f0f921"
             ]
            ],
            "type": "heatmapgl"
           }
          ],
          "histogram": [
           {
            "marker": {
             "pattern": {
              "fillmode": "overlay",
              "size": 10,
              "solidity": 0.2
             }
            },
            "type": "histogram"
           }
          ],
          "histogram2d": [
           {
            "colorbar": {
             "outlinewidth": 0,
             "ticks": ""
            },
            "colorscale": [
             [
              0,
              "#0d0887"
             ],
             [
              0.1111111111111111,
              "#46039f"
             ],
             [
              0.2222222222222222,
              "#7201a8"
             ],
             [
              0.3333333333333333,
              "#9c179e"
             ],
             [
              0.4444444444444444,
              "#bd3786"
             ],
             [
              0.5555555555555556,
              "#d8576b"
             ],
             [
              0.6666666666666666,
              "#ed7953"
             ],
             [
              0.7777777777777778,
              "#fb9f3a"
             ],
             [
              0.8888888888888888,
              "#fdca26"
             ],
             [
              1,
              "#f0f921"
             ]
            ],
            "type": "histogram2d"
           }
          ],
          "histogram2dcontour": [
           {
            "colorbar": {
             "outlinewidth": 0,
             "ticks": ""
            },
            "colorscale": [
             [
              0,
              "#0d0887"
             ],
             [
              0.1111111111111111,
              "#46039f"
             ],
             [
              0.2222222222222222,
              "#7201a8"
             ],
             [
              0.3333333333333333,
              "#9c179e"
             ],
             [
              0.4444444444444444,
              "#bd3786"
             ],
             [
              0.5555555555555556,
              "#d8576b"
             ],
             [
              0.6666666666666666,
              "#ed7953"
             ],
             [
              0.7777777777777778,
              "#fb9f3a"
             ],
             [
              0.8888888888888888,
              "#fdca26"
             ],
             [
              1,
              "#f0f921"
             ]
            ],
            "type": "histogram2dcontour"
           }
          ],
          "mesh3d": [
           {
            "colorbar": {
             "outlinewidth": 0,
             "ticks": ""
            },
            "type": "mesh3d"
           }
          ],
          "parcoords": [
           {
            "line": {
             "colorbar": {
              "outlinewidth": 0,
              "ticks": ""
             }
            },
            "type": "parcoords"
           }
          ],
          "pie": [
           {
            "automargin": true,
            "type": "pie"
           }
          ],
          "scatter": [
           {
            "fillpattern": {
             "fillmode": "overlay",
             "size": 10,
             "solidity": 0.2
            },
            "type": "scatter"
           }
          ],
          "scatter3d": [
           {
            "line": {
             "colorbar": {
              "outlinewidth": 0,
              "ticks": ""
             }
            },
            "marker": {
             "colorbar": {
              "outlinewidth": 0,
              "ticks": ""
             }
            },
            "type": "scatter3d"
           }
          ],
          "scattercarpet": [
           {
            "marker": {
             "colorbar": {
              "outlinewidth": 0,
              "ticks": ""
             }
            },
            "type": "scattercarpet"
           }
          ],
          "scattergeo": [
           {
            "marker": {
             "colorbar": {
              "outlinewidth": 0,
              "ticks": ""
             }
            },
            "type": "scattergeo"
           }
          ],
          "scattergl": [
           {
            "marker": {
             "colorbar": {
              "outlinewidth": 0,
              "ticks": ""
             }
            },
            "type": "scattergl"
           }
          ],
          "scattermapbox": [
           {
            "marker": {
             "colorbar": {
              "outlinewidth": 0,
              "ticks": ""
             }
            },
            "type": "scattermapbox"
           }
          ],
          "scatterpolar": [
           {
            "marker": {
             "colorbar": {
              "outlinewidth": 0,
              "ticks": ""
             }
            },
            "type": "scatterpolar"
           }
          ],
          "scatterpolargl": [
           {
            "marker": {
             "colorbar": {
              "outlinewidth": 0,
              "ticks": ""
             }
            },
            "type": "scatterpolargl"
           }
          ],
          "scatterternary": [
           {
            "marker": {
             "colorbar": {
              "outlinewidth": 0,
              "ticks": ""
             }
            },
            "type": "scatterternary"
           }
          ],
          "surface": [
           {
            "colorbar": {
             "outlinewidth": 0,
             "ticks": ""
            },
            "colorscale": [
             [
              0,
              "#0d0887"
             ],
             [
              0.1111111111111111,
              "#46039f"
             ],
             [
              0.2222222222222222,
              "#7201a8"
             ],
             [
              0.3333333333333333,
              "#9c179e"
             ],
             [
              0.4444444444444444,
              "#bd3786"
             ],
             [
              0.5555555555555556,
              "#d8576b"
             ],
             [
              0.6666666666666666,
              "#ed7953"
             ],
             [
              0.7777777777777778,
              "#fb9f3a"
             ],
             [
              0.8888888888888888,
              "#fdca26"
             ],
             [
              1,
              "#f0f921"
             ]
            ],
            "type": "surface"
           }
          ],
          "table": [
           {
            "cells": {
             "fill": {
              "color": "#EBF0F8"
             },
             "line": {
              "color": "white"
             }
            },
            "header": {
             "fill": {
              "color": "#C8D4E3"
             },
             "line": {
              "color": "white"
             }
            },
            "type": "table"
           }
          ]
         },
         "layout": {
          "annotationdefaults": {
           "arrowcolor": "#2a3f5f",
           "arrowhead": 0,
           "arrowwidth": 1
          },
          "autotypenumbers": "strict",
          "coloraxis": {
           "colorbar": {
            "outlinewidth": 0,
            "ticks": ""
           }
          },
          "colorscale": {
           "diverging": [
            [
             0,
             "#8e0152"
            ],
            [
             0.1,
             "#c51b7d"
            ],
            [
             0.2,
             "#de77ae"
            ],
            [
             0.3,
             "#f1b6da"
            ],
            [
             0.4,
             "#fde0ef"
            ],
            [
             0.5,
             "#f7f7f7"
            ],
            [
             0.6,
             "#e6f5d0"
            ],
            [
             0.7,
             "#b8e186"
            ],
            [
             0.8,
             "#7fbc41"
            ],
            [
             0.9,
             "#4d9221"
            ],
            [
             1,
             "#276419"
            ]
           ],
           "sequential": [
            [
             0,
             "#0d0887"
            ],
            [
             0.1111111111111111,
             "#46039f"
            ],
            [
             0.2222222222222222,
             "#7201a8"
            ],
            [
             0.3333333333333333,
             "#9c179e"
            ],
            [
             0.4444444444444444,
             "#bd3786"
            ],
            [
             0.5555555555555556,
             "#d8576b"
            ],
            [
             0.6666666666666666,
             "#ed7953"
            ],
            [
             0.7777777777777778,
             "#fb9f3a"
            ],
            [
             0.8888888888888888,
             "#fdca26"
            ],
            [
             1,
             "#f0f921"
            ]
           ],
           "sequentialminus": [
            [
             0,
             "#0d0887"
            ],
            [
             0.1111111111111111,
             "#46039f"
            ],
            [
             0.2222222222222222,
             "#7201a8"
            ],
            [
             0.3333333333333333,
             "#9c179e"
            ],
            [
             0.4444444444444444,
             "#bd3786"
            ],
            [
             0.5555555555555556,
             "#d8576b"
            ],
            [
             0.6666666666666666,
             "#ed7953"
            ],
            [
             0.7777777777777778,
             "#fb9f3a"
            ],
            [
             0.8888888888888888,
             "#fdca26"
            ],
            [
             1,
             "#f0f921"
            ]
           ]
          },
          "colorway": [
           "#636efa",
           "#EF553B",
           "#00cc96",
           "#ab63fa",
           "#FFA15A",
           "#19d3f3",
           "#FF6692",
           "#B6E880",
           "#FF97FF",
           "#FECB52"
          ],
          "font": {
           "color": "#2a3f5f"
          },
          "geo": {
           "bgcolor": "white",
           "lakecolor": "white",
           "landcolor": "#E5ECF6",
           "showlakes": true,
           "showland": true,
           "subunitcolor": "white"
          },
          "hoverlabel": {
           "align": "left"
          },
          "hovermode": "closest",
          "mapbox": {
           "style": "light"
          },
          "paper_bgcolor": "white",
          "plot_bgcolor": "#E5ECF6",
          "polar": {
           "angularaxis": {
            "gridcolor": "white",
            "linecolor": "white",
            "ticks": ""
           },
           "bgcolor": "#E5ECF6",
           "radialaxis": {
            "gridcolor": "white",
            "linecolor": "white",
            "ticks": ""
           }
          },
          "scene": {
           "xaxis": {
            "backgroundcolor": "#E5ECF6",
            "gridcolor": "white",
            "gridwidth": 2,
            "linecolor": "white",
            "showbackground": true,
            "ticks": "",
            "zerolinecolor": "white"
           },
           "yaxis": {
            "backgroundcolor": "#E5ECF6",
            "gridcolor": "white",
            "gridwidth": 2,
            "linecolor": "white",
            "showbackground": true,
            "ticks": "",
            "zerolinecolor": "white"
           },
           "zaxis": {
            "backgroundcolor": "#E5ECF6",
            "gridcolor": "white",
            "gridwidth": 2,
            "linecolor": "white",
            "showbackground": true,
            "ticks": "",
            "zerolinecolor": "white"
           }
          },
          "shapedefaults": {
           "line": {
            "color": "#2a3f5f"
           }
          },
          "ternary": {
           "aaxis": {
            "gridcolor": "white",
            "linecolor": "white",
            "ticks": ""
           },
           "baxis": {
            "gridcolor": "white",
            "linecolor": "white",
            "ticks": ""
           },
           "bgcolor": "#E5ECF6",
           "caxis": {
            "gridcolor": "white",
            "linecolor": "white",
            "ticks": ""
           }
          },
          "title": {
           "x": 0.05
          },
          "xaxis": {
           "automargin": true,
           "gridcolor": "white",
           "linecolor": "white",
           "ticks": "",
           "title": {
            "standoff": 15
           },
           "zerolinecolor": "white",
           "zerolinewidth": 2
          },
          "yaxis": {
           "automargin": true,
           "gridcolor": "white",
           "linecolor": "white",
           "ticks": "",
           "title": {
            "standoff": 15
           },
           "zerolinecolor": "white",
           "zerolinewidth": 2
          }
         }
        },
        "xaxis": {
         "anchor": "y",
         "domain": [
          0,
          0.94
         ],
         "title": {
          "text": "$x [m]$"
         }
        },
        "yaxis": {
         "anchor": "x",
         "domain": [
          0,
          1
         ],
         "exponentformat": "e",
         "range": [
          -0.05,
          0.05
         ],
         "showexponent": "all",
         "title": {
          "font": {
           "color": "red"
          },
          "text": "$u [\\mu m]$"
         }
        },
        "yaxis2": {
         "anchor": "x",
         "exponentformat": "e",
         "overlaying": "y",
         "range": [
          -50,
          50
         ],
         "showexponent": "all",
         "side": "right",
         "title": {
          "font": {
           "color": "blue"
          },
          "text": "$v [\\mu m / s^2]$"
         }
        }
       }
      }
     },
     "metadata": {},
     "output_type": "display_data"
    }
   ],
   "source": [
    "plot_uv(u1-u2, v1-v2, t, plot_v=True, range_u=[-0.05, 0.05], range_v=[-50, 50])"
   ]
  },
  {
   "cell_type": "code",
   "execution_count": 52,
   "metadata": {},
   "outputs": [],
   "source": [
    "# Insights\n",
    "# Error independent of Amplitude\n",
    "# Error also for homogeneous / independent of medium\n",
    "# Error for DBC-DBC -> Sinusoidal pattern for both (but more velocities) (ricker)\n",
    "# Error for NBC-DBC -> same, smaller for DBC-NBC?\n",
    "# Error between pos and vel positively correlated \n",
    "# Zig-Zag pattern\n",
    "# Error stays same for high shot number\n",
    "# Error asymmetric! Even for DBC-DBC / symmetric wavelet / homog. medium\n",
    "\n",
    "# Homog. initial cond. -> 8 elements for position, 7 elements for velocity, 1 free value=0  (16 elem) (Quantum)\n",
    "# All vel elements same value, all pos elements=0 apart from first and last (at homog initial)\n",
    "\n",
    "# Homog. initial cond. -> 7 elements for position, 7 elements for velocity (14 elem) (ODE)\n",
    "\n",
    "# Error Gets smaller for higher number of gridpoints!\n",
    "\n",
    "# Guess 1: Numerical implementation error due to very small/very large hamiltonian values\n",
    "# Guess 2: Error due to zero-fields in state having non-zero values -> Bleeding into wave field\n",
    "# Guess 3: Leap-frog scheme creates zig-zag error (n vs n+1 position elements)\n",
    "\n",
    "# Large sim -> symmetrical error for position (sometimes only?)\n",
    "\n",
    "# Many tim sim for equal rho/mu -> Noise looks very random but: Not easily reducable with shot number"
   ]
  },
  {
   "cell_type": "code",
   "execution_count": null,
   "metadata": {},
   "outputs": [],
   "source": []
  }
 ],
 "metadata": {
  "kernelspec": {
   "display_name": "arm_q2",
   "language": "python",
   "name": "python3"
  },
  "language_info": {
   "codemirror_mode": {
    "name": "ipython",
    "version": 3
   },
   "file_extension": ".py",
   "mimetype": "text/x-python",
   "name": "python",
   "nbconvert_exporter": "python",
   "pygments_lexer": "ipython3",
   "version": "3.11.4"
  },
  "orig_nbformat": 4
 },
 "nbformat": 4,
 "nbformat_minor": 2
}
