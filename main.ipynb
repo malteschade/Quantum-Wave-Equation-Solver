{
 "cells": [
  {
   "cell_type": "code",
   "execution_count": 1,
   "metadata": {},
   "outputs": [],
   "source": [
    "# -------- IMPORTS --------\n",
    "import numpy as np\n",
    "import plotly.graph_objs as go\n",
    "from simulation.experiment import ForwardExperiment1D\n",
    "from utility.distributions import spike, ricker, gaussian, raised_cosine, sinc, homogeneous, exponential, polynomial\n",
    "from utility.plotting import plot_uv, plot_state, plot_medium, plot_heatmap"
   ]
  },
  {
   "cell_type": "code",
   "execution_count": 39,
   "metadata": {},
   "outputs": [
    {
     "name": "stderr",
     "output_type": "stream",
     "text": [
<<<<<<< HEAD
      "2023-11-27 16:56:18,532 - INFO - Created experiment with time stamp: 20231127T165618.\n",
=======
      "2023-11-24 15:01:58,007 - INFO - Created experiment with time stamp: 20231124T150158.\n",
      "\n",
      "2023-11-24 15:01:58,008 - INFO - Adding solver 1: ode\n",
      "2023-11-24 15:01:58,009 - INFO - Parameters checked for validity.\n",
      "2023-11-24 15:01:58,009 - INFO - Solving for 15 time steps.\n",
      "2023-11-24 15:01:58,009 - INFO - Calculating Transformation and Hamiltonian.\n",
      "2023-11-24 15:01:58,010 - INFO - Calculation completed.\n",
      "2023-11-24 15:01:58,015 - INFO - Medium initialized.\n",
      "2023-11-24 15:01:58,016 - INFO - Initial state forward-transformed.\n",
      "2023-11-24 15:01:58,036 - INFO - Solver 0 added.\n",
      "\n",
      "2023-11-24 15:01:58,061 - INFO - Adding solver 2: cloud\n",
      "2023-11-24 15:01:58,065 - INFO - Parameters checked for validity.\n",
      "2023-11-24 15:01:58,119 - INFO - Solving for 15 time steps.\n",
      "2023-11-24 15:01:58,159 - INFO - Calculating Transformation and Hamiltonian.\n",
      "2023-11-24 15:01:58,207 - INFO - Calculation completed.\n",
      "2023-11-24 15:01:58,212 - INFO - Medium initialized.\n",
      "2023-11-24 15:01:58,213 - INFO - Initial state transformed.\n",
      "2023-11-24 15:01:58,216 - INFO - Solver 1 added.\n",
      "\n",
      "2023-11-24 15:01:58,222 - INFO - Running solver 1: ode\n",
      "2023-11-24 15:01:58,226 - INFO - Solving ODE.\n",
      "2023-11-24 15:01:58,228 - INFO - ODE solved.\n",
      "2023-11-24 15:01:58,232 - INFO - States inverse-transformed.\n",
      "2023-11-24 15:01:58,234 - INFO - Saving data.\n",
      "2023-11-24 15:01:58,248 - INFO - Solver 1 completed in 0:00:00.012123.\n",
      "\n",
      "2023-11-24 15:01:58,249 - INFO - Running solver 2: cloud\n",
      "2023-11-24 15:01:58,252 - INFO - Generating circuits.\n",
      "2023-11-24 15:01:58,286 - INFO - Generating circuits for step: 1 | 14.\n",
      "2023-11-24 15:01:58,294 - INFO - Generating circuits for step: 2 | 14.\n",
      "2023-11-24 15:01:58,311 - INFO - Generating circuits for step: 3 | 14.\n",
      "2023-11-24 15:01:58,321 - INFO - Generating circuits for step: 4 | 14.\n",
      "2023-11-24 15:01:58,333 - INFO - Generating circuits for step: 5 | 14.\n",
      "2023-11-24 15:01:58,343 - INFO - Generating circuits for step: 6 | 14.\n",
      "2023-11-24 15:01:58,359 - INFO - Generating circuits for step: 7 | 14.\n",
      "2023-11-24 15:01:58,382 - INFO - Generating circuits for step: 8 | 14.\n",
      "2023-11-24 15:01:58,391 - INFO - Generating circuits for step: 9 | 14.\n",
      "2023-11-24 15:01:58,460 - INFO - Generating circuits for step: 10 | 14.\n",
      "2023-11-24 15:01:58,465 - INFO - Generating circuits for step: 11 | 14.\n",
      "2023-11-24 15:01:58,471 - INFO - Generating circuits for step: 12 | 14.\n",
      "2023-11-24 15:01:58,477 - INFO - Generating circuits for step: 13 | 14.\n",
      "2023-11-24 15:01:58,483 - INFO - Generating circuits for step: 14 | 14.\n",
      "2023-11-24 15:01:58,488 - INFO - Circuits generated: 224 in 3 groups.\n",
      "2023-11-24 15:01:58,489 - INFO - Initializing backend.\n",
      "2023-11-24 15:01:58,489 - INFO - Setting backend options.\n",
      "2023-11-24 15:02:11,996 - INFO - Initializing Runtime Service.\n",
      "2023-11-24 15:02:11,996 - INFO - Initializing sampler backend.\n",
      "2023-11-24 15:02:11,998 - INFO - Backend initialized.\n",
      "2023-11-24 15:02:11,999 - INFO - Calculating circuit depth.\n",
      "2023-11-24 15:02:16,864 - INFO - Circuit depth on backend: 333\n",
      "2023-11-24 15:02:16,864 - INFO - Submitting 3 jobs to backend.\n",
      "2023-11-24 15:02:19,343 - INFO - Job 0 submitted with job_id clgapqjemqbg9v79rr4g.\n",
      "2023-11-24 15:02:21,038 - INFO - Job 1 submitted with job_id clgapr34a98d3cqjp7i0.\n",
      "2023-11-24 15:02:30,452 - INFO - Job 2 submitted with job_id clgaptl2gjkgmaso012g.\n",
      "2023-11-24 15:02:30,458 - INFO - Jobs submitted.\n",
      "2023-11-24 15:02:42,481 - INFO - Jobs completed: 1 | 3\n",
      "2023-11-24 15:02:53,811 - INFO - Jobs completed: 1 | 3\n",
      "2023-11-24 15:03:06,017 - INFO - Jobs completed: 2 | 3\n",
      "2023-11-24 15:03:17,138 - INFO - Jobs completed: 3 | 3\n",
      "2023-11-24 15:03:18,941 - INFO - Jobs completed.\n",
      "2023-11-24 15:03:18,942 - INFO - Running tomography.\n",
      "2023-11-24 15:03:18,949 - INFO - Tomography step: 1 | 14.\n",
      "2023-11-24 15:03:19,160 - INFO - Tomography step: 2 | 14.\n",
      "2023-11-24 15:03:19,424 - INFO - Tomography step: 3 | 14.\n",
      "2023-11-24 15:03:19,634 - INFO - Tomography step: 4 | 14.\n",
      "2023-11-24 15:03:19,888 - INFO - Tomography step: 5 | 14.\n",
      "2023-11-24 15:03:20,078 - INFO - Tomography step: 6 | 14.\n",
      "2023-11-24 15:03:20,267 - INFO - Tomography step: 7 | 14.\n",
      "2023-11-24 15:03:20,540 - INFO - Tomography step: 8 | 14.\n",
      "2023-11-24 15:03:20,735 - INFO - Tomography step: 9 | 14.\n",
      "2023-11-24 15:03:21,024 - INFO - Tomography step: 10 | 14.\n",
      "2023-11-24 15:03:21,325 - INFO - Tomography step: 11 | 14.\n",
      "2023-11-24 15:03:21,551 - INFO - Tomography step: 12 | 14.\n",
      "2023-11-24 15:03:21,767 - INFO - Tomography step: 13 | 14.\n",
      "2023-11-24 15:03:21,925 - INFO - Tomography step: 14 | 14.\n",
      "2023-11-24 15:03:22,126 - INFO - Tomography completed.\n",
      "2023-11-24 15:03:22,132 - INFO - State polarization corrected.\n",
      "2023-11-24 15:03:22,137 - INFO - States inverse-transformed.\n",
      "2023-11-24 15:03:22,142 - INFO - Saving data.\n",
      "2023-11-24 15:03:22,164 - INFO - Solver 2 completed in 0:01:23.893365.\n",
>>>>>>> 446b8c68ca2640eaaba66274a88652c662ed8894
      "\n"
     ]
    },
    {
     "data": {
      "application/vnd.plotly.v1+json": {
       "config": {
        "plotlyServerURL": "https://plot.ly"
       },
       "data": [
        {
         "line": {
          "color": "blue"
         },
         "mode": "lines",
         "name": "$\\rho [kg/m^3]$",
         "showlegend": false,
         "type": "scatter",
         "x": [
          0,
          1,
          2,
          3,
          4,
          5,
          6,
          7,
          8,
          9,
          10,
          11,
          12,
          13,
          14,
          15
         ],
         "xaxis": "x",
         "y": [
          3000,
          3000,
          3000,
          3000,
          3000,
          3000,
          3000,
          3000,
          3000,
          3000,
          3000,
          3000,
          3000,
          3000,
          3000
         ],
         "yaxis": "y2"
        },
        {
         "line": {
          "color": "red"
         },
         "mode": "lines",
         "name": "$\\mu [Pa]$",
         "showlegend": false,
         "type": "scatter",
         "x": [
          0,
          1,
          2,
          3,
          4,
          5,
          6,
          7,
          8,
          9,
          10,
          11,
          12,
          13,
          14,
          15
         ],
         "xaxis": "x",
         "y": [
          30000000000,
          30000000000,
          30000000000,
          30000000000,
          30000000000,
          30000000000,
          30000000000,
          30000000000,
          30000000000,
          30000000000,
          30000000000,
          30000000000,
          30000000000,
          30000000000,
          30000000000,
          30000000000
         ],
         "yaxis": "y"
        }
       ],
       "layout": {
        "annotations": [
         {
          "font": {
           "size": 20
          },
          "showarrow": false,
          "text": "$Medium \\; Parameters$",
          "x": 0.47,
          "xanchor": "center",
          "xref": "paper",
          "y": 1,
          "yanchor": "bottom",
          "yref": "paper",
          "yshift": 10
         }
        ],
        "font": {
         "size": 15
        },
        "template": {
         "data": {
          "bar": [
           {
            "error_x": {
             "color": "#2a3f5f"
            },
            "error_y": {
             "color": "#2a3f5f"
            },
            "marker": {
             "line": {
              "color": "#E5ECF6",
              "width": 0.5
             },
             "pattern": {
              "fillmode": "overlay",
              "size": 10,
              "solidity": 0.2
             }
            },
            "type": "bar"
           }
          ],
          "barpolar": [
           {
            "marker": {
             "line": {
              "color": "#E5ECF6",
              "width": 0.5
             },
             "pattern": {
              "fillmode": "overlay",
              "size": 10,
              "solidity": 0.2
             }
            },
            "type": "barpolar"
           }
          ],
          "carpet": [
           {
            "aaxis": {
             "endlinecolor": "#2a3f5f",
             "gridcolor": "white",
             "linecolor": "white",
             "minorgridcolor": "white",
             "startlinecolor": "#2a3f5f"
            },
            "baxis": {
             "endlinecolor": "#2a3f5f",
             "gridcolor": "white",
             "linecolor": "white",
             "minorgridcolor": "white",
             "startlinecolor": "#2a3f5f"
            },
            "type": "carpet"
           }
          ],
          "choropleth": [
           {
            "colorbar": {
             "outlinewidth": 0,
             "ticks": ""
            },
            "type": "choropleth"
           }
          ],
          "contour": [
           {
            "colorbar": {
             "outlinewidth": 0,
             "ticks": ""
            },
            "colorscale": [
             [
              0,
              "#0d0887"
             ],
             [
              0.1111111111111111,
              "#46039f"
             ],
             [
              0.2222222222222222,
              "#7201a8"
             ],
             [
              0.3333333333333333,
              "#9c179e"
             ],
             [
              0.4444444444444444,
              "#bd3786"
             ],
             [
              0.5555555555555556,
              "#d8576b"
             ],
             [
              0.6666666666666666,
              "#ed7953"
             ],
             [
              0.7777777777777778,
              "#fb9f3a"
             ],
             [
              0.8888888888888888,
              "#fdca26"
             ],
             [
              1,
              "#f0f921"
             ]
            ],
            "type": "contour"
           }
          ],
          "contourcarpet": [
           {
            "colorbar": {
             "outlinewidth": 0,
             "ticks": ""
            },
            "type": "contourcarpet"
           }
          ],
          "heatmap": [
           {
            "colorbar": {
             "outlinewidth": 0,
             "ticks": ""
            },
            "colorscale": [
             [
              0,
              "#0d0887"
             ],
             [
              0.1111111111111111,
              "#46039f"
             ],
             [
              0.2222222222222222,
              "#7201a8"
             ],
             [
              0.3333333333333333,
              "#9c179e"
             ],
             [
              0.4444444444444444,
              "#bd3786"
             ],
             [
              0.5555555555555556,
              "#d8576b"
             ],
             [
              0.6666666666666666,
              "#ed7953"
             ],
             [
              0.7777777777777778,
              "#fb9f3a"
             ],
             [
              0.8888888888888888,
              "#fdca26"
             ],
             [
              1,
              "#f0f921"
             ]
            ],
            "type": "heatmap"
           }
          ],
          "heatmapgl": [
           {
            "colorbar": {
             "outlinewidth": 0,
             "ticks": ""
            },
            "colorscale": [
             [
              0,
              "#0d0887"
             ],
             [
              0.1111111111111111,
              "#46039f"
             ],
             [
              0.2222222222222222,
              "#7201a8"
             ],
             [
              0.3333333333333333,
              "#9c179e"
             ],
             [
              0.4444444444444444,
              "#bd3786"
             ],
             [
              0.5555555555555556,
              "#d8576b"
             ],
             [
              0.6666666666666666,
              "#ed7953"
             ],
             [
              0.7777777777777778,
              "#fb9f3a"
             ],
             [
              0.8888888888888888,
              "#fdca26"
             ],
             [
              1,
              "#f0f921"
             ]
            ],
            "type": "heatmapgl"
           }
          ],
          "histogram": [
           {
            "marker": {
             "pattern": {
              "fillmode": "overlay",
              "size": 10,
              "solidity": 0.2
             }
            },
            "type": "histogram"
           }
          ],
          "histogram2d": [
           {
            "colorbar": {
             "outlinewidth": 0,
             "ticks": ""
            },
            "colorscale": [
             [
              0,
              "#0d0887"
             ],
             [
              0.1111111111111111,
              "#46039f"
             ],
             [
              0.2222222222222222,
              "#7201a8"
             ],
             [
              0.3333333333333333,
              "#9c179e"
             ],
             [
              0.4444444444444444,
              "#bd3786"
             ],
             [
              0.5555555555555556,
              "#d8576b"
             ],
             [
              0.6666666666666666,
              "#ed7953"
             ],
             [
              0.7777777777777778,
              "#fb9f3a"
             ],
             [
              0.8888888888888888,
              "#fdca26"
             ],
             [
              1,
              "#f0f921"
             ]
            ],
            "type": "histogram2d"
           }
          ],
          "histogram2dcontour": [
           {
            "colorbar": {
             "outlinewidth": 0,
             "ticks": ""
            },
            "colorscale": [
             [
              0,
              "#0d0887"
             ],
             [
              0.1111111111111111,
              "#46039f"
             ],
             [
              0.2222222222222222,
              "#7201a8"
             ],
             [
              0.3333333333333333,
              "#9c179e"
             ],
             [
              0.4444444444444444,
              "#bd3786"
             ],
             [
              0.5555555555555556,
              "#d8576b"
             ],
             [
              0.6666666666666666,
              "#ed7953"
             ],
             [
              0.7777777777777778,
              "#fb9f3a"
             ],
             [
              0.8888888888888888,
              "#fdca26"
             ],
             [
              1,
              "#f0f921"
             ]
            ],
            "type": "histogram2dcontour"
           }
          ],
          "mesh3d": [
           {
            "colorbar": {
             "outlinewidth": 0,
             "ticks": ""
            },
            "type": "mesh3d"
           }
          ],
          "parcoords": [
           {
            "line": {
             "colorbar": {
              "outlinewidth": 0,
              "ticks": ""
             }
            },
            "type": "parcoords"
           }
          ],
          "pie": [
           {
            "automargin": true,
            "type": "pie"
           }
          ],
          "scatter": [
           {
            "fillpattern": {
             "fillmode": "overlay",
             "size": 10,
             "solidity": 0.2
            },
            "type": "scatter"
           }
          ],
          "scatter3d": [
           {
            "line": {
             "colorbar": {
              "outlinewidth": 0,
              "ticks": ""
             }
            },
            "marker": {
             "colorbar": {
              "outlinewidth": 0,
              "ticks": ""
             }
            },
            "type": "scatter3d"
           }
          ],
          "scattercarpet": [
           {
            "marker": {
             "colorbar": {
              "outlinewidth": 0,
              "ticks": ""
             }
            },
            "type": "scattercarpet"
           }
          ],
          "scattergeo": [
           {
            "marker": {
             "colorbar": {
              "outlinewidth": 0,
              "ticks": ""
             }
            },
            "type": "scattergeo"
           }
          ],
          "scattergl": [
           {
            "marker": {
             "colorbar": {
              "outlinewidth": 0,
              "ticks": ""
             }
            },
            "type": "scattergl"
           }
          ],
          "scattermapbox": [
           {
            "marker": {
             "colorbar": {
              "outlinewidth": 0,
              "ticks": ""
             }
            },
            "type": "scattermapbox"
           }
          ],
          "scatterpolar": [
           {
            "marker": {
             "colorbar": {
              "outlinewidth": 0,
              "ticks": ""
             }
            },
            "type": "scatterpolar"
           }
          ],
          "scatterpolargl": [
           {
            "marker": {
             "colorbar": {
              "outlinewidth": 0,
              "ticks": ""
             }
            },
            "type": "scatterpolargl"
           }
          ],
          "scatterternary": [
           {
            "marker": {
             "colorbar": {
              "outlinewidth": 0,
              "ticks": ""
             }
            },
            "type": "scatterternary"
           }
          ],
          "surface": [
           {
            "colorbar": {
             "outlinewidth": 0,
             "ticks": ""
            },
            "colorscale": [
             [
              0,
              "#0d0887"
             ],
             [
              0.1111111111111111,
              "#46039f"
             ],
             [
              0.2222222222222222,
              "#7201a8"
             ],
             [
              0.3333333333333333,
              "#9c179e"
             ],
             [
              0.4444444444444444,
              "#bd3786"
             ],
             [
              0.5555555555555556,
              "#d8576b"
             ],
             [
              0.6666666666666666,
              "#ed7953"
             ],
             [
              0.7777777777777778,
              "#fb9f3a"
             ],
             [
              0.8888888888888888,
              "#fdca26"
             ],
             [
              1,
              "#f0f921"
             ]
            ],
            "type": "surface"
           }
          ],
          "table": [
           {
            "cells": {
             "fill": {
              "color": "#EBF0F8"
             },
             "line": {
              "color": "white"
             }
            },
            "header": {
             "fill": {
              "color": "#C8D4E3"
             },
             "line": {
              "color": "white"
             }
            },
            "type": "table"
           }
          ]
         },
         "layout": {
          "annotationdefaults": {
           "arrowcolor": "#2a3f5f",
           "arrowhead": 0,
           "arrowwidth": 1
          },
          "autotypenumbers": "strict",
          "coloraxis": {
           "colorbar": {
            "outlinewidth": 0,
            "ticks": ""
           }
          },
          "colorscale": {
           "diverging": [
            [
             0,
             "#8e0152"
            ],
            [
             0.1,
             "#c51b7d"
            ],
            [
             0.2,
             "#de77ae"
            ],
            [
             0.3,
             "#f1b6da"
            ],
            [
             0.4,
             "#fde0ef"
            ],
            [
             0.5,
             "#f7f7f7"
            ],
            [
             0.6,
             "#e6f5d0"
            ],
            [
             0.7,
             "#b8e186"
            ],
            [
             0.8,
             "#7fbc41"
            ],
            [
             0.9,
             "#4d9221"
            ],
            [
             1,
             "#276419"
            ]
           ],
           "sequential": [
            [
             0,
             "#0d0887"
            ],
            [
             0.1111111111111111,
             "#46039f"
            ],
            [
             0.2222222222222222,
             "#7201a8"
            ],
            [
             0.3333333333333333,
             "#9c179e"
            ],
            [
             0.4444444444444444,
             "#bd3786"
            ],
            [
             0.5555555555555556,
             "#d8576b"
            ],
            [
             0.6666666666666666,
             "#ed7953"
            ],
            [
             0.7777777777777778,
             "#fb9f3a"
            ],
            [
             0.8888888888888888,
             "#fdca26"
            ],
            [
             1,
             "#f0f921"
            ]
           ],
           "sequentialminus": [
            [
             0,
             "#0d0887"
            ],
            [
             0.1111111111111111,
             "#46039f"
            ],
            [
             0.2222222222222222,
             "#7201a8"
            ],
            [
             0.3333333333333333,
             "#9c179e"
            ],
            [
             0.4444444444444444,
             "#bd3786"
            ],
            [
             0.5555555555555556,
             "#d8576b"
            ],
            [
             0.6666666666666666,
             "#ed7953"
            ],
            [
             0.7777777777777778,
             "#fb9f3a"
            ],
            [
             0.8888888888888888,
             "#fdca26"
            ],
            [
             1,
             "#f0f921"
            ]
           ]
          },
          "colorway": [
           "#636efa",
           "#EF553B",
           "#00cc96",
           "#ab63fa",
           "#FFA15A",
           "#19d3f3",
           "#FF6692",
           "#B6E880",
           "#FF97FF",
           "#FECB52"
          ],
          "font": {
           "color": "#2a3f5f"
          },
          "geo": {
           "bgcolor": "white",
           "lakecolor": "white",
           "landcolor": "#E5ECF6",
           "showlakes": true,
           "showland": true,
           "subunitcolor": "white"
          },
          "hoverlabel": {
           "align": "left"
          },
          "hovermode": "closest",
          "mapbox": {
           "style": "light"
          },
          "paper_bgcolor": "white",
          "plot_bgcolor": "#E5ECF6",
          "polar": {
           "angularaxis": {
            "gridcolor": "white",
            "linecolor": "white",
            "ticks": ""
           },
           "bgcolor": "#E5ECF6",
           "radialaxis": {
            "gridcolor": "white",
            "linecolor": "white",
            "ticks": ""
           }
          },
          "scene": {
           "xaxis": {
            "backgroundcolor": "#E5ECF6",
            "gridcolor": "white",
            "gridwidth": 2,
            "linecolor": "white",
            "showbackground": true,
            "ticks": "",
            "zerolinecolor": "white"
           },
           "yaxis": {
            "backgroundcolor": "#E5ECF6",
            "gridcolor": "white",
            "gridwidth": 2,
            "linecolor": "white",
            "showbackground": true,
            "ticks": "",
            "zerolinecolor": "white"
           },
           "zaxis": {
            "backgroundcolor": "#E5ECF6",
            "gridcolor": "white",
            "gridwidth": 2,
            "linecolor": "white",
            "showbackground": true,
            "ticks": "",
            "zerolinecolor": "white"
           }
          },
          "shapedefaults": {
           "line": {
            "color": "#2a3f5f"
           }
          },
          "ternary": {
           "aaxis": {
            "gridcolor": "white",
            "linecolor": "white",
            "ticks": ""
           },
           "baxis": {
            "gridcolor": "white",
            "linecolor": "white",
            "ticks": ""
           },
           "bgcolor": "#E5ECF6",
           "caxis": {
            "gridcolor": "white",
            "linecolor": "white",
            "ticks": ""
           }
          },
          "title": {
           "x": 0.05
          },
          "xaxis": {
           "automargin": true,
           "gridcolor": "white",
           "linecolor": "white",
           "ticks": "",
           "title": {
            "standoff": 15
           },
           "zerolinecolor": "white",
           "zerolinewidth": 2
          },
          "yaxis": {
           "automargin": true,
           "gridcolor": "white",
           "linecolor": "white",
           "ticks": "",
           "title": {
            "standoff": 15
           },
           "zerolinecolor": "white",
           "zerolinewidth": 2
          }
         }
        },
        "xaxis": {
         "anchor": "y",
         "domain": [
          0,
          0.94
         ],
         "title": {
          "text": "$x [m]$"
         }
        },
        "yaxis": {
         "anchor": "x",
         "domain": [
          0,
          1
         ],
         "exponentformat": "e",
         "range": [
          0,
          50000000000
         ],
         "showexponent": "all",
         "title": {
          "font": {
           "color": "red"
          },
          "text": "$\\mu [Pa]$"
         }
        },
        "yaxis2": {
         "anchor": "x",
         "exponentformat": "e",
         "overlaying": "y",
         "range": [
          0,
          5000
         ],
         "showexponent": "all",
         "side": "right",
         "title": {
          "font": {
           "color": "blue"
          },
          "text": "$\\rho [kg/m^3]$"
         }
        }
       }
      }
     },
     "metadata": {},
     "output_type": "display_data"
    }
   ],
   "source": [
    "# Create experiment\n",
    "experiment = ForwardExperiment1D(verbose=2)\n",
    "\n",
    "# Define parameters\n",
    "nx = 15\n",
    "parameters_1 = {\n",
    "    'dx': 1,\n",
    "    'nx': nx, \n",
    "    'dt': 0.001,\n",
    "    'nt': 30,\n",
    "    'order': 1,\n",
    "    'bcs': {'left': 'NBC', 'right': 'DBC'},\n",
    "    'mu': homogeneous(3e10, nx+1),\n",
    "    # 'mu': [raised_cosine(3e10, nx+1, nx//2, 5, 1e10)],\n",
    "    'rho': homogeneous(3000, nx),\n",
    "    #'rho': raised_cosine(2e3, nx, nx//2, 5, 2e3),\n",
    "    'u': np.concatenate([ricker(1, nx, int(nx/2), sigma=3)]),\n",
    "    'v': np.concatenate([homogeneous(0, nx)]),\n",
    "    'backend': {}\n",
    "    }\n",
    "\n",
<<<<<<< HEAD
    "# Plot medium\n",
    "plot_medium(parameters_1['mu'], parameters_1['rho'])"
=======
    "experiment.add_solver('ode', **parameters_1)\n",
    "experiment.add_solver('cloud', **parameters_1)\n",
    "results = experiment.run()"
>>>>>>> 446b8c68ca2640eaaba66274a88652c662ed8894
   ]
  },
  {
   "cell_type": "code",
   "execution_count": 40,
   "metadata": {},
   "outputs": [
    {
     "name": "stderr",
     "output_type": "stream",
     "text": [
<<<<<<< HEAD
      "2023-11-27 16:56:18,832 - INFO - Adding solver 1: ode\n",
      "2023-11-27 16:56:18,835 - INFO - Parameters checked for validity.\n",
      "2023-11-27 16:56:18,839 - INFO - Solving for 30 time steps.\n",
      "2023-11-27 16:56:18,840 - INFO - Calculating Transformation and Hamiltonian.\n",
      "2023-11-27 16:56:18,862 - INFO - Calculation completed.\n",
      "2023-11-27 16:56:18,878 - INFO - Medium initialized.\n",
      "2023-11-27 16:56:18,885 - INFO - Initial state forward-transformed.\n",
      "2023-11-27 16:56:18,899 - INFO - Solver 0 added.\n",
      "\n",
      "2023-11-27 16:56:18,923 - INFO - Adding solver 2: local\n",
      "2023-11-27 16:56:18,924 - INFO - Parameters checked for validity.\n",
      "2023-11-27 16:56:18,926 - INFO - Solving for 30 time steps.\n",
      "2023-11-27 16:56:18,927 - INFO - Calculating Transformation and Hamiltonian.\n",
      "2023-11-27 16:56:18,932 - INFO - Calculation completed.\n",
      "2023-11-27 16:56:18,933 - INFO - Medium initialized.\n",
      "2023-11-27 16:56:18,934 - INFO - Initial state transformed.\n",
      "2023-11-27 16:56:18,935 - INFO - Solver 1 added.\n",
      "\n",
      "2023-11-27 16:56:18,937 - INFO - Running solver 1: ode\n",
      "2023-11-27 16:56:18,938 - INFO - Solving ODE.\n",
      "2023-11-27 16:56:18,966 - INFO - ODE solved.\n",
      "2023-11-27 16:56:18,969 - INFO - States inverse-transformed.\n",
      "2023-11-27 16:56:18,970 - INFO - Saving data.\n",
      "2023-11-27 16:56:18,982 - INFO - Solver 1 completed in 0:00:00.032591.\n",
      "\n",
      "2023-11-27 16:56:18,984 - INFO - Running solver 2: local\n",
      "2023-11-27 16:56:18,986 - INFO - Generating circuits.\n",
      "2023-11-27 16:56:19,067 - INFO - Generating circuits for step: 1 | 29.\n",
      "2023-11-27 16:56:19,101 - INFO - Generating circuits for step: 2 | 29.\n",
      "2023-11-27 16:56:19,151 - INFO - Generating circuits for step: 3 | 29.\n",
      "2023-11-27 16:56:19,167 - INFO - Generating circuits for step: 4 | 29.\n",
      "2023-11-27 16:56:19,181 - INFO - Generating circuits for step: 5 | 29.\n",
      "2023-11-27 16:56:19,202 - INFO - Generating circuits for step: 6 | 29.\n",
      "2023-11-27 16:56:19,213 - INFO - Generating circuits for step: 7 | 29.\n",
      "2023-11-27 16:56:19,225 - INFO - Generating circuits for step: 8 | 29.\n",
      "2023-11-27 16:56:19,238 - INFO - Generating circuits for step: 9 | 29.\n",
      "2023-11-27 16:56:19,249 - INFO - Generating circuits for step: 10 | 29.\n",
      "2023-11-27 16:56:19,261 - INFO - Generating circuits for step: 11 | 29.\n",
      "2023-11-27 16:56:19,273 - INFO - Generating circuits for step: 12 | 29.\n",
      "2023-11-27 16:56:19,284 - INFO - Generating circuits for step: 13 | 29.\n",
      "2023-11-27 16:56:19,295 - INFO - Generating circuits for step: 14 | 29.\n",
      "2023-11-27 16:56:19,307 - INFO - Generating circuits for step: 15 | 29.\n",
      "2023-11-27 16:56:19,318 - INFO - Generating circuits for step: 16 | 29.\n",
      "2023-11-27 16:56:19,329 - INFO - Generating circuits for step: 17 | 29.\n",
      "2023-11-27 16:56:19,341 - INFO - Generating circuits for step: 18 | 29.\n",
      "2023-11-27 16:56:19,352 - INFO - Generating circuits for step: 19 | 29.\n",
      "2023-11-27 16:56:19,363 - INFO - Generating circuits for step: 20 | 29.\n",
      "2023-11-27 16:56:19,374 - INFO - Generating circuits for step: 21 | 29.\n",
      "2023-11-27 16:56:19,484 - INFO - Generating circuits for step: 22 | 29.\n",
      "2023-11-27 16:56:19,496 - INFO - Generating circuits for step: 23 | 29.\n",
      "2023-11-27 16:56:19,507 - INFO - Generating circuits for step: 24 | 29.\n",
      "2023-11-27 16:56:19,519 - INFO - Generating circuits for step: 25 | 29.\n",
      "2023-11-27 16:56:19,530 - INFO - Generating circuits for step: 26 | 29.\n",
      "2023-11-27 16:56:19,541 - INFO - Generating circuits for step: 27 | 29.\n",
      "2023-11-27 16:56:19,553 - INFO - Generating circuits for step: 28 | 29.\n",
      "2023-11-27 16:56:19,564 - INFO - Generating circuits for step: 29 | 29.\n",
      "2023-11-27 16:56:19,575 - INFO - Circuits generated: 928 in 10 groups.\n",
      "2023-11-27 16:56:19,576 - INFO - Initializing backend.\n",
      "2023-11-27 16:56:19,576 - INFO - Setting backend options.\n",
      "2023-11-27 16:56:19,578 - INFO - Initializing sampler backend.\n",
      "2023-11-27 16:56:19,579 - INFO - Backend initialized.\n",
      "2023-11-27 16:56:19,579 - INFO - Calculating circuit depth.\n",
      "2023-11-27 16:56:20,436 - WARNING - divide by zero encountered in det\n",
      "2023-11-27 16:56:20,437 - WARNING - invalid value encountered in det\n",
      "2023-11-27 16:56:20,438 - INFO - Circuit depth on backend: 662\n",
      "2023-11-27 16:56:20,438 - INFO - Submitting jobs to backend.\n",
      "2023-11-27 16:56:21,563 - INFO - Jobs submitted.\n",
      "2023-11-27 16:56:22,723 - INFO - Jobs completed: 0 | 10\n",
      "2023-11-27 16:56:33,642 - INFO - Jobs completed: 0 | 10\n",
      "2023-11-27 16:56:44,140 - INFO - Jobs completed: 0 | 10\n",
      "2023-11-27 16:56:54,766 - INFO - Jobs completed: 0 | 10\n",
      "2023-11-27 16:57:05,215 - INFO - Jobs completed: 0 | 10\n",
      "2023-11-27 16:57:15,990 - INFO - Jobs completed: 0 | 10\n",
      "2023-11-27 16:57:26,893 - INFO - Jobs completed: 0 | 10\n",
      "2023-11-27 16:57:37,694 - INFO - Jobs completed: 1 | 10\n",
      "2023-11-27 16:57:47,889 - INFO - Jobs completed: 1 | 10\n",
      "2023-11-27 16:57:59,302 - INFO - Jobs completed: 1 | 10\n",
      "2023-11-27 16:58:09,884 - INFO - Jobs completed: 1 | 10\n",
      "2023-11-27 16:58:20,307 - INFO - Jobs completed: 1 | 10\n",
      "2023-11-27 16:58:31,086 - INFO - Jobs completed: 1 | 10\n",
      "2023-11-27 16:58:41,674 - INFO - Jobs completed: 1 | 10\n",
      "2023-11-27 16:58:52,188 - INFO - Jobs completed: 1 | 10\n",
      "2023-11-27 16:59:02,807 - INFO - Jobs completed: 1 | 10\n",
      "2023-11-27 16:59:13,175 - INFO - Jobs completed: 1 | 10\n",
      "2023-11-27 16:59:24,030 - INFO - Jobs completed: 1 | 10\n",
      "2023-11-27 16:59:34,689 - INFO - Jobs completed: 1 | 10\n",
      "2023-11-27 16:59:45,476 - INFO - Jobs completed: 1 | 10\n"
=======
      "2023-11-24 15:03:22,220 - INFO - Loading experiment with time stamp: 20231124T145834.\n",
      "\n",
      "2023-11-24 15:03:22,230 - INFO - Loading data for solver 1.\n",
      "2023-11-24 15:03:22,247 - INFO - Loading data for solver 2.\n",
      "2023-11-24 15:03:22,255 - INFO - Data loaded.\n",
      "\n"
>>>>>>> 446b8c68ca2640eaaba66274a88652c662ed8894
     ]
    }
   ],
   "source": [
<<<<<<< HEAD
    "experiment.add_solver('ode', **parameters_1)\n",
    "experiment.add_solver('local', **parameters_1)\n",
    "results = experiment.run()\n"
=======
    "experiment2 = ForwardExperiment1D(experiment_id='20231124T145834', verbose=2)\n",
    "results = experiment2.load()"
>>>>>>> 446b8c68ca2640eaaba66274a88652c662ed8894
   ]
  },
  {
   "cell_type": "code",
   "execution_count": 4,
<<<<<<< HEAD
   "metadata": {},
   "outputs": [],
   "source": [
    "# experiment2 = ForwardExperiment1D(experiment_id='20231125T213404', verbose=2)\n",
    "# results = experiment2.load()"
   ]
  },
  {
   "cell_type": "code",
   "execution_count": 11,
   "metadata": {},
   "outputs": [
    {
     "data": {
      "application/vnd.plotly.v1+json": {
       "config": {
        "plotlyServerURL": "https://plot.ly"
       },
       "data": [
        {
         "mode": "lines",
         "type": "scatter",
         "x": [
          0,
          1,
          2,
          3,
          4,
          5,
          6,
          7,
          8,
          9,
          10,
          11,
          12,
          13,
          14,
          15,
          16,
          17,
          18,
          19,
          20,
          21,
          22,
          23,
          24,
          25,
          26,
          27,
          28,
          29
         ],
         "y": [
          0,
          0,
          0,
          0,
          0,
          0,
          0,
          0,
          0,
          0,
          0,
          0,
          0,
          0,
          0
         ]
        }
       ],
       "frames": [
        {
         "data": [
          {
           "type": "scatter",
           "y": [
            0,
            0,
            0,
            0,
            0,
            0,
            0,
            0,
            0,
            0,
            0,
            0,
            0,
            0,
            0
           ]
          }
         ]
        },
        {
         "data": [
          {
           "type": "scatter",
           "y": [
            9.525957312488622,
            -3.4103165328267195,
            10.47200246202874,
            -4.221833679731674,
            -13.146164382400798,
            -1.9654732456015154,
            42.083281960965564,
            -9.72358653400488,
            8.083888729402247,
            13.829595471715038,
            21.194317069697377,
            -3.2530085101502095,
            3.3321501442107433,
            1.0374404101672212,
            8.926319876350467
           ]
          }
         ]
        },
        {
         "data": [
          {
           "type": "scatter",
           "y": [
            3.324140128201151,
            1.846692987193137,
            -1.908827961331724,
            -3.19062752225841,
            -2.8402878731949386,
            8.86715784188042,
            -1.934165547573457,
            -0.5763364618694595,
            -1.0778033611743467,
            0.10538262356180539,
            2.673748822838661,
            6.509537060143657,
            -0.97948958626489,
            1.8014170720167613,
            0.48113128942162575
           ]
          }
         ]
        },
        {
         "data": [
          {
           "type": "scatter",
           "y": [
            -2.679804151266808,
            -1.0601847223047969,
            -1.2437435894012197,
            2.644308700122565,
            -0.7989518193793401,
            5.126157913810459,
            -12.159765922110864,
            6.690846571143766,
            -4.67610651499831,
            6.1080790657813395,
            -0.9194309977164039,
            -1.8519228371071677,
            -3.2173410764817163,
            4.410586605006813,
            -0.9203476974237219
           ]
          }
         ]
        },
        {
         "data": [
          {
           "type": "scatter",
           "y": [
            2.0575125698148327,
            1.0086582982510777,
            -3.8483985397997458,
            0.6283665464181922,
            -3.774652764964813,
            0.7676847375510079,
            2.914840135200734,
            2.003589899738813,
            -0.3661779925132578,
            2.5606652346648957,
            -3.0342019718568807,
            0.9947100794909147,
            0.8671090055452169,
            -0.7302037542740436,
            -3.510375140265012
           ]
          }
         ]
        },
        {
         "data": [
          {
           "type": "scatter",
           "y": [
            0.543305842556947,
            3.975728733638107,
            -2.9151230637951926,
            9.226642809422003,
            -3.514144790425348,
            4.090871424204693,
            -9.955471909191601,
            3.090919615884104,
            -6.551793638621575,
            2.3311997694912634,
            -5.186555170243764,
            6.298748940869416,
            -5.852838850723629,
            -0.5905100869854323,
            -0.9891069766283636
           ]
          }
         ]
        },
        {
         "data": [
          {
           "type": "scatter",
           "y": [
            -1.79106799793567,
            7.596689861144114,
            -2.0605968587649386,
            5.244284660928656,
            -0.6181459688693849,
            14.156812658099739,
            -6.833440096047013,
            -0.8032527623010992,
            -9.116331447659036,
            6.647984486626683,
            -7.860518202687217,
            9.033495140092668,
            -5.850047900840309,
            21.710695214399948,
            -4.548215685064633
           ]
          }
         ]
        },
        {
         "data": [
          {
           "type": "scatter",
           "y": [
            -4.316293890776478,
            -0.3648631550522623,
            -6.246632197755844,
            0.9860711894297083,
            4.952980409339716,
            -0.3637714574651909,
            5.524616069004196,
            -2.084490511466356,
            -2.5436222188518514,
            -1.9237088349375426,
            2.487761542295061,
            7.436667989788191,
            -8.323142419023043,
            0.3328509085108635,
            4.361155602930921
           ]
          }
         ]
        },
        {
         "data": [
          {
           "type": "scatter",
           "y": [
            -5.6622380893273885,
            9.118727776361084,
            -6.339876267420323,
            8.746164341352596,
            -3.402894859805997,
            4.271537089521416,
            -2.1128437173310317,
            1.2925052992744668,
            2.4153384671136564,
            3.7427997664099166,
            -3.6412565966795682,
            2.262698795607548,
            -6.9049951809267895,
            6.8566616231735225,
            4.208726414631542
           ]
          }
         ]
        },
        {
         "data": [
          {
           "type": "scatter",
           "y": [
            -25.45515351766727,
            5.7328169389959385,
            0.8140585084154282,
            7.85307729192715,
            8.781956127706508,
            -11.705778839350288,
            -15.012740037236767,
            1.732219068041104,
            -6.8766866481623765,
            2.0558259753557735,
            21.162708183133873,
            -9.583792987868492,
            -3.4575436899401666,
            24.8488841048204,
            -19.93485778367139
           ]
          }
         ]
        },
        {
         "data": [
          {
           "type": "scatter",
           "y": [
            -5.766645742485025,
            6.309488209958062,
            -20.899949114646432,
            17.62260683465979,
            -12.772652407211808,
            4.531570482622556,
            -5.535812728985547,
            0.843342319437852,
            -6.531995246097722,
            14.527888605135558,
            -7.8248435223013075,
            3.7084312780302753,
            -15.49507914733762,
            9.88804312619439,
            -15.789347486017505
           ]
          }
         ]
        },
        {
         "data": [
          {
           "type": "scatter",
           "y": [
            -6.017263196312058,
            -2.4093689765070536,
            -10.039318160495782,
            7.983997009898985,
            -9.366076382747679,
            11.0585963372273,
            -3.3194976459162717,
            -6.677177803823724,
            4.393920425662145,
            5.65471624888346,
            -7.123169319356975,
            11.351640211075846,
            -10.337703674343715,
            9.698912701792878,
            -4.002087583753735
           ]
          }
         ]
        },
        {
         "data": [
          {
           "type": "scatter",
           "y": [
            -18.053529677359393,
            17.156257569535796,
            -17.054583461905167,
            23.13238053778923,
            -18.3183532154232,
            12.3036701202181,
            11.501796753829524,
            -8.78718515046944,
            8.967905438939056,
            2.64292247440477,
            -17.36414538406038,
            9.664393738972649,
            -5.533367075023534,
            2.0727372639239547,
            -10.18487902986908
           ]
          }
         ]
        },
        {
         "data": [
          {
           "type": "scatter",
           "y": [
            -0.05809662003224503,
            4.580018709557322,
            -11.54769238558211,
            7.706627125416162,
            -4.231092584334874,
            9.347917828829054,
            4.5796691640015865,
            -4.208554920013285,
            -0.4305394130945217,
            3.9097783246443214,
            -8.035388514239003,
            9.501034587098047,
            -14.93859987562712,
            2.519602626664721,
            -2.7348372936301644
           ]
          }
         ]
        },
        {
         "data": [
          {
           "type": "scatter",
           "y": [
            8.017983722666486,
            13.001491317049158,
            -3.246356999776367,
            -5.63866115619021,
            12.095165704706687,
            22.233219190120053,
            -6.26863366005,
            1.5190529473770624,
            2.465209947050994,
            4.796056739920687,
            -19.99579950145261,
            -7.054107206516051,
            5.018494537283104,
            23.167408404941455,
            -2.0833475343829377
           ]
          }
         ]
        },
        {
         "data": [
          {
           "type": "scatter",
           "y": [
            -5.868905728372852,
            11.898676288011757,
            -7.8820794405222045,
            19.029719894779646,
            -6.8441617315078815,
            11.3620328218949,
            -18.57580216773499,
            16.983097119000035,
            -10.394874871878756,
            23.547305128567245,
            -3.1895201138215725,
            24.98841795603539,
            -22.728278192633184,
            12.370183925705533,
            4.155095406920623
           ]
          }
         ]
        },
        {
         "data": [
          {
           "type": "scatter",
           "y": [
            -8.45875894342646,
            7.376491901732024,
            -4.804288102032956,
            9.770965136721145,
            -1.7271762165688642,
            12.72709749638318,
            -10.340888675455744,
            11.87175650463314,
            -12.480941099221127,
            12.061636465137212,
            -2.9787023159396995,
            0.49791796529910926,
            -4.252744660004282,
            4.091475917227996,
            -5.69421661544186
           ]
          }
         ]
        },
        {
         "data": [
          {
           "type": "scatter",
           "y": [
            -3.6450454851983523,
            13.246488442136013,
            -9.519192625915025,
            5.848547098139079,
            -4.25630921308607,
            0.08879931632647242,
            -3.065290747547806,
            20.859738873876722,
            -16.653993761136235,
            8.532186821925578,
            -4.915793846078941,
            -2.942714661469722,
            -4.505163781076874,
            4.7409676458503895,
            -10.956307534841926
           ]
          }
         ]
        },
        {
         "data": [
          {
           "type": "scatter",
           "y": [
            6.461305961138692,
            6.611043662978318,
            -6.091250234319318,
            -0.8363286278016062,
            -2.2827242376248904,
            3.195376649749619,
            -7.5358831619168996,
            15.526694097965901,
            -22.38593777529013,
            16.11788478284825,
            -6.680610278019472,
            -0.42505656137171854,
            -1.9718520649256561,
            -1.9000589047218455,
            -0.5804474032491953
           ]
          }
         ]
        },
        {
         "data": [
          {
           "type": "scatter",
           "y": [
            8.179069597601597,
            -11.409889531806584,
            -3.3815398341694163,
            1.9975590763229434,
            -17.87726666250751,
            41.527786713958676,
            3.736754513376468,
            25.65325247249862,
            -31.311340451999058,
            32.21840643854421,
            -40.80949653167727,
            21.254867432730634,
            4.489683710298323,
            -11.61106482934133,
            -5.226471745762808
           ]
          }
         ]
        },
        {
         "data": [
          {
           "type": "scatter",
           "y": [
            2.6573416540456947,
            -7.440325178192552,
            4.852829885335723,
            12.200847898232496,
            -13.566724477325693,
            12.57959952085639,
            -13.519834164626104,
            22.06145849293722,
            -20.83565378693561,
            19.301721509347544,
            -13.462706329437196,
            8.79376692509095,
            9.61344229515862,
            -8.981188480332094,
            -0.4938403722489966
           ]
          }
         ]
        },
        {
         "data": [
          {
           "type": "scatter",
           "y": [
            -20.451033773979816,
            -37.98453714078778,
            -38.40869546685633,
            15.783216013773995,
            -41.39914343142016,
            13.483277186195352,
            -42.562564998117296,
            7.237582402055978,
            -14.545474497647774,
            8.332517766468811,
            -18.781703191457495,
            19.293302152305728,
            -9.500460900600956,
            -10.585746649075645,
            -27.060197136163424
           ]
          }
         ]
        },
        {
         "data": [
          {
           "type": "scatter",
           "y": [
            5.225521364994847,
            -11.992471602975911,
            0.6433944559867086,
            6.949287863200102,
            -2.261851676365424,
            16.61221159854024,
            -24.75738414266243,
            26.975161995145072,
            -17.91467823956009,
            6.48750003349474,
            -11.721533863271588,
            4.548460340644738,
            -0.44232303732985656,
            -9.455677243855916,
            7.619595984197986
           ]
          }
         ]
        },
        {
         "data": [
          {
           "type": "scatter",
           "y": [
            21.28094023940281,
            -16.258795580155613,
            3.497236407416949,
            -3.1320130487265487,
            6.336040321166479,
            16.864972432944796,
            -17.63071628341595,
            22.79075814720727,
            -28.07677248901382,
            9.22043800316169,
            0.5270702230640154,
            -12.206894742542318,
            25.13405312366217,
            -14.86318186227312,
            5.668137064981252
           ]
          }
         ]
        },
        {
         "data": [
          {
           "type": "scatter",
           "y": [
            2.4485720293387203,
            -7.741497911543206,
            5.150253033387571,
            3.298585617362278,
            -6.040331943066278,
            21.32799935897026,
            -33.51230417232796,
            32.754266691116754,
            -26.137414111078442,
            17.99843548905386,
            -2.0029768342514203,
            -4.501649503493809,
            -2.9986316140632425,
            -2.890396371590782,
            -0.9885146963379157
           ]
          }
         ]
        },
        {
         "data": [
          {
           "type": "scatter",
           "y": [
            11.549836458017296,
            1.997835092987259,
            8.538228386101935,
            -3.788685988708835,
            -6.481517024565619,
            3.1547850580964365,
            -25.98574690290411,
            29.813064864599028,
            -31.420351266702937,
            19.539535750612657,
            -6.981134177975719,
            -10.383260134187367,
            20.09800021653237,
            -11.196338673924572,
            -10.12534018888391
           ]
          }
         ]
        },
        {
         "data": [
          {
           "type": "scatter",
           "y": [
            -0.45163958319687936,
            -2.4860924576401544,
            6.734397281462975,
            9.322109455873203,
            -2.0041174413541967,
            2.940500398194672,
            -23.448541347529726,
            42.267971740638586,
            -26.318599267511217,
            17.054069034857605,
            -7.270641531833121,
            11.900014451847412,
            7.538450478962545,
            1.750806642284033,
            -2.923042915241581
           ]
          }
         ]
        },
        {
         "data": [
          {
           "type": "scatter",
           "y": [
            -1.1758080977026566,
            -2.7883008715496658,
            -1.8572632994245168,
            7.926497125401056,
            -1.3890360752076276,
            14.817175913601032,
            -28.264587128949643,
            30.005702691078397,
            -26.627464241317,
            14.961821517838667,
            -9.884766115434331,
            -0.6781944470116059,
            -3.387888002785928,
            -1.9336509415476257,
            3.177145742128914
           ]
          }
         ]
        },
        {
         "data": [
          {
           "type": "scatter",
           "y": [
            5.709158871408761,
            0.749230053669379,
            6.024655484830305,
            10.819720554918588,
            -18.91498582314489,
            14.292479019490202,
            -22.798845194101318,
            21.26544091035339,
            -22.870292824307512,
            18.315230298185952,
            -3.4399994357579544,
            3.183746000742854,
            0.5586085705452035,
            -2.209615316549133,
            9.945661536673725
           ]
          }
         ]
        },
        {
         "data": [
          {
           "type": "scatter",
           "y": [
            2.413241594728021,
            1.065668442124263,
            -4.619413776283864,
            14.966577337852414,
            -18.32894707056107,
            23.925306668211192,
            -15.582347407607926,
            9.270821362842753,
            -20.266466528440446,
            20.38171197358099,
            -19.383009297952185,
            15.480236227331034,
            -8.749517165909538,
            0.5164936476206208,
            -0.7025365290236039
           ]
          }
         ]
        }
       ],
       "layout": {
        "template": {
         "data": {
          "bar": [
           {
            "error_x": {
             "color": "#2a3f5f"
            },
            "error_y": {
             "color": "#2a3f5f"
            },
            "marker": {
             "line": {
              "color": "#E5ECF6",
              "width": 0.5
             },
             "pattern": {
              "fillmode": "overlay",
              "size": 10,
              "solidity": 0.2
             }
            },
            "type": "bar"
           }
          ],
          "barpolar": [
           {
            "marker": {
             "line": {
              "color": "#E5ECF6",
              "width": 0.5
             },
             "pattern": {
              "fillmode": "overlay",
              "size": 10,
              "solidity": 0.2
             }
            },
            "type": "barpolar"
           }
          ],
          "carpet": [
           {
            "aaxis": {
             "endlinecolor": "#2a3f5f",
             "gridcolor": "white",
             "linecolor": "white",
             "minorgridcolor": "white",
             "startlinecolor": "#2a3f5f"
            },
            "baxis": {
             "endlinecolor": "#2a3f5f",
             "gridcolor": "white",
             "linecolor": "white",
             "minorgridcolor": "white",
             "startlinecolor": "#2a3f5f"
            },
            "type": "carpet"
           }
          ],
          "choropleth": [
           {
            "colorbar": {
             "outlinewidth": 0,
             "ticks": ""
            },
            "type": "choropleth"
           }
          ],
          "contour": [
           {
            "colorbar": {
             "outlinewidth": 0,
             "ticks": ""
            },
            "colorscale": [
             [
              0,
              "#0d0887"
             ],
             [
              0.1111111111111111,
              "#46039f"
             ],
             [
              0.2222222222222222,
              "#7201a8"
             ],
             [
              0.3333333333333333,
              "#9c179e"
             ],
             [
              0.4444444444444444,
              "#bd3786"
             ],
             [
              0.5555555555555556,
              "#d8576b"
             ],
             [
              0.6666666666666666,
              "#ed7953"
             ],
             [
              0.7777777777777778,
              "#fb9f3a"
             ],
             [
              0.8888888888888888,
              "#fdca26"
             ],
             [
              1,
              "#f0f921"
             ]
            ],
            "type": "contour"
           }
          ],
          "contourcarpet": [
           {
            "colorbar": {
             "outlinewidth": 0,
             "ticks": ""
            },
            "type": "contourcarpet"
           }
          ],
          "heatmap": [
           {
            "colorbar": {
             "outlinewidth": 0,
             "ticks": ""
            },
            "colorscale": [
             [
              0,
              "#0d0887"
             ],
             [
              0.1111111111111111,
              "#46039f"
             ],
             [
              0.2222222222222222,
              "#7201a8"
             ],
             [
              0.3333333333333333,
              "#9c179e"
             ],
             [
              0.4444444444444444,
              "#bd3786"
             ],
             [
              0.5555555555555556,
              "#d8576b"
             ],
             [
              0.6666666666666666,
              "#ed7953"
             ],
             [
              0.7777777777777778,
              "#fb9f3a"
             ],
             [
              0.8888888888888888,
              "#fdca26"
             ],
             [
              1,
              "#f0f921"
             ]
            ],
            "type": "heatmap"
           }
          ],
          "heatmapgl": [
           {
            "colorbar": {
             "outlinewidth": 0,
             "ticks": ""
            },
            "colorscale": [
             [
              0,
              "#0d0887"
             ],
             [
              0.1111111111111111,
              "#46039f"
             ],
             [
              0.2222222222222222,
              "#7201a8"
             ],
             [
              0.3333333333333333,
              "#9c179e"
             ],
             [
              0.4444444444444444,
              "#bd3786"
             ],
             [
              0.5555555555555556,
              "#d8576b"
             ],
             [
              0.6666666666666666,
              "#ed7953"
             ],
             [
              0.7777777777777778,
              "#fb9f3a"
             ],
             [
              0.8888888888888888,
              "#fdca26"
             ],
             [
              1,
              "#f0f921"
             ]
            ],
            "type": "heatmapgl"
           }
          ],
          "histogram": [
           {
            "marker": {
             "pattern": {
              "fillmode": "overlay",
              "size": 10,
              "solidity": 0.2
             }
            },
            "type": "histogram"
           }
          ],
          "histogram2d": [
           {
            "colorbar": {
             "outlinewidth": 0,
             "ticks": ""
            },
            "colorscale": [
             [
              0,
              "#0d0887"
             ],
             [
              0.1111111111111111,
              "#46039f"
             ],
             [
              0.2222222222222222,
              "#7201a8"
             ],
             [
              0.3333333333333333,
              "#9c179e"
             ],
             [
              0.4444444444444444,
              "#bd3786"
             ],
             [
              0.5555555555555556,
              "#d8576b"
             ],
             [
              0.6666666666666666,
              "#ed7953"
             ],
             [
              0.7777777777777778,
              "#fb9f3a"
             ],
             [
              0.8888888888888888,
              "#fdca26"
             ],
             [
              1,
              "#f0f921"
             ]
            ],
            "type": "histogram2d"
           }
          ],
          "histogram2dcontour": [
           {
            "colorbar": {
             "outlinewidth": 0,
             "ticks": ""
            },
            "colorscale": [
             [
              0,
              "#0d0887"
             ],
             [
              0.1111111111111111,
              "#46039f"
             ],
             [
              0.2222222222222222,
              "#7201a8"
             ],
             [
              0.3333333333333333,
              "#9c179e"
             ],
             [
              0.4444444444444444,
              "#bd3786"
             ],
             [
              0.5555555555555556,
              "#d8576b"
             ],
             [
              0.6666666666666666,
              "#ed7953"
             ],
             [
              0.7777777777777778,
              "#fb9f3a"
             ],
             [
              0.8888888888888888,
              "#fdca26"
             ],
             [
              1,
              "#f0f921"
             ]
            ],
            "type": "histogram2dcontour"
           }
          ],
          "mesh3d": [
           {
            "colorbar": {
             "outlinewidth": 0,
             "ticks": ""
            },
            "type": "mesh3d"
           }
          ],
          "parcoords": [
           {
            "line": {
             "colorbar": {
              "outlinewidth": 0,
              "ticks": ""
             }
            },
            "type": "parcoords"
           }
          ],
          "pie": [
           {
            "automargin": true,
            "type": "pie"
           }
          ],
          "scatter": [
           {
            "fillpattern": {
             "fillmode": "overlay",
             "size": 10,
             "solidity": 0.2
            },
            "type": "scatter"
           }
          ],
          "scatter3d": [
           {
            "line": {
             "colorbar": {
              "outlinewidth": 0,
              "ticks": ""
             }
            },
            "marker": {
             "colorbar": {
              "outlinewidth": 0,
              "ticks": ""
             }
            },
            "type": "scatter3d"
           }
          ],
          "scattercarpet": [
           {
            "marker": {
             "colorbar": {
              "outlinewidth": 0,
              "ticks": ""
             }
            },
            "type": "scattercarpet"
           }
          ],
          "scattergeo": [
           {
            "marker": {
             "colorbar": {
              "outlinewidth": 0,
              "ticks": ""
             }
            },
            "type": "scattergeo"
           }
          ],
          "scattergl": [
           {
            "marker": {
             "colorbar": {
              "outlinewidth": 0,
              "ticks": ""
             }
            },
            "type": "scattergl"
           }
          ],
          "scattermapbox": [
           {
            "marker": {
             "colorbar": {
              "outlinewidth": 0,
              "ticks": ""
             }
            },
            "type": "scattermapbox"
           }
          ],
          "scatterpolar": [
           {
            "marker": {
             "colorbar": {
              "outlinewidth": 0,
              "ticks": ""
             }
            },
            "type": "scatterpolar"
           }
          ],
          "scatterpolargl": [
           {
            "marker": {
             "colorbar": {
              "outlinewidth": 0,
              "ticks": ""
             }
            },
            "type": "scatterpolargl"
           }
          ],
          "scatterternary": [
           {
            "marker": {
             "colorbar": {
              "outlinewidth": 0,
              "ticks": ""
             }
            },
            "type": "scatterternary"
           }
          ],
          "surface": [
           {
            "colorbar": {
             "outlinewidth": 0,
             "ticks": ""
            },
            "colorscale": [
             [
              0,
              "#0d0887"
             ],
             [
              0.1111111111111111,
              "#46039f"
             ],
             [
              0.2222222222222222,
              "#7201a8"
             ],
             [
              0.3333333333333333,
              "#9c179e"
             ],
             [
              0.4444444444444444,
              "#bd3786"
             ],
             [
              0.5555555555555556,
              "#d8576b"
             ],
             [
              0.6666666666666666,
              "#ed7953"
             ],
             [
              0.7777777777777778,
              "#fb9f3a"
             ],
             [
              0.8888888888888888,
              "#fdca26"
             ],
             [
              1,
              "#f0f921"
             ]
            ],
            "type": "surface"
           }
          ],
          "table": [
           {
            "cells": {
             "fill": {
              "color": "#EBF0F8"
             },
             "line": {
              "color": "white"
             }
            },
            "header": {
             "fill": {
              "color": "#C8D4E3"
             },
             "line": {
              "color": "white"
             }
            },
            "type": "table"
           }
          ]
         },
         "layout": {
          "annotationdefaults": {
           "arrowcolor": "#2a3f5f",
           "arrowhead": 0,
           "arrowwidth": 1
          },
          "autotypenumbers": "strict",
          "coloraxis": {
           "colorbar": {
            "outlinewidth": 0,
            "ticks": ""
           }
          },
          "colorscale": {
           "diverging": [
            [
             0,
             "#8e0152"
            ],
            [
             0.1,
             "#c51b7d"
            ],
            [
             0.2,
             "#de77ae"
            ],
            [
             0.3,
             "#f1b6da"
            ],
            [
             0.4,
             "#fde0ef"
            ],
            [
             0.5,
             "#f7f7f7"
            ],
            [
             0.6,
             "#e6f5d0"
            ],
            [
             0.7,
             "#b8e186"
            ],
            [
             0.8,
             "#7fbc41"
            ],
            [
             0.9,
             "#4d9221"
            ],
            [
             1,
             "#276419"
            ]
           ],
           "sequential": [
            [
             0,
             "#0d0887"
            ],
            [
             0.1111111111111111,
             "#46039f"
            ],
            [
             0.2222222222222222,
             "#7201a8"
            ],
            [
             0.3333333333333333,
             "#9c179e"
            ],
            [
             0.4444444444444444,
             "#bd3786"
            ],
            [
             0.5555555555555556,
             "#d8576b"
            ],
            [
             0.6666666666666666,
             "#ed7953"
            ],
            [
             0.7777777777777778,
             "#fb9f3a"
            ],
            [
             0.8888888888888888,
             "#fdca26"
            ],
            [
             1,
             "#f0f921"
            ]
           ],
           "sequentialminus": [
            [
             0,
             "#0d0887"
            ],
            [
             0.1111111111111111,
             "#46039f"
            ],
            [
             0.2222222222222222,
             "#7201a8"
            ],
            [
             0.3333333333333333,
             "#9c179e"
            ],
            [
             0.4444444444444444,
             "#bd3786"
            ],
            [
             0.5555555555555556,
             "#d8576b"
            ],
            [
             0.6666666666666666,
             "#ed7953"
            ],
            [
             0.7777777777777778,
             "#fb9f3a"
            ],
            [
             0.8888888888888888,
             "#fdca26"
            ],
            [
             1,
             "#f0f921"
            ]
           ]
          },
          "colorway": [
           "#636efa",
           "#EF553B",
           "#00cc96",
           "#ab63fa",
           "#FFA15A",
           "#19d3f3",
           "#FF6692",
           "#B6E880",
           "#FF97FF",
           "#FECB52"
          ],
          "font": {
           "color": "#2a3f5f"
          },
          "geo": {
           "bgcolor": "white",
           "lakecolor": "white",
           "landcolor": "#E5ECF6",
           "showlakes": true,
           "showland": true,
           "subunitcolor": "white"
          },
          "hoverlabel": {
           "align": "left"
          },
          "hovermode": "closest",
          "mapbox": {
           "style": "light"
          },
          "paper_bgcolor": "white",
          "plot_bgcolor": "#E5ECF6",
          "polar": {
           "angularaxis": {
            "gridcolor": "white",
            "linecolor": "white",
            "ticks": ""
           },
           "bgcolor": "#E5ECF6",
           "radialaxis": {
            "gridcolor": "white",
            "linecolor": "white",
            "ticks": ""
           }
          },
          "scene": {
           "xaxis": {
            "backgroundcolor": "#E5ECF6",
            "gridcolor": "white",
            "gridwidth": 2,
            "linecolor": "white",
            "showbackground": true,
            "ticks": "",
            "zerolinecolor": "white"
           },
           "yaxis": {
            "backgroundcolor": "#E5ECF6",
            "gridcolor": "white",
            "gridwidth": 2,
            "linecolor": "white",
            "showbackground": true,
            "ticks": "",
            "zerolinecolor": "white"
           },
           "zaxis": {
            "backgroundcolor": "#E5ECF6",
            "gridcolor": "white",
            "gridwidth": 2,
            "linecolor": "white",
            "showbackground": true,
            "ticks": "",
            "zerolinecolor": "white"
           }
          },
          "shapedefaults": {
           "line": {
            "color": "#2a3f5f"
           }
          },
          "ternary": {
           "aaxis": {
            "gridcolor": "white",
            "linecolor": "white",
            "ticks": ""
           },
           "baxis": {
            "gridcolor": "white",
            "linecolor": "white",
            "ticks": ""
           },
           "bgcolor": "#E5ECF6",
           "caxis": {
            "gridcolor": "white",
            "linecolor": "white",
            "ticks": ""
           }
          },
          "title": {
           "x": 0.05
          },
          "xaxis": {
           "automargin": true,
           "gridcolor": "white",
           "linecolor": "white",
           "ticks": "",
           "title": {
            "standoff": 15
           },
           "zerolinecolor": "white",
           "zerolinewidth": 2
          },
          "yaxis": {
           "automargin": true,
           "gridcolor": "white",
           "linecolor": "white",
           "ticks": "",
           "title": {
            "standoff": 15
           },
           "zerolinecolor": "white",
           "zerolinewidth": 2
          }
         }
        },
        "title": {
         "text": "1D Line Animation"
        },
        "updatemenus": [
         {
          "buttons": [
           {
            "args": [
             null,
             {
              "frame": {
               "duration": 500
              },
              "transition": {
               "duration": 500
              }
             }
            ],
            "label": "Play",
            "method": "animate"
           }
          ],
          "type": "buttons"
         }
        ],
        "yaxis": {
         "range": [
          -60,
          60
         ]
        }
       }
      }
     },
     "metadata": {},
     "output_type": "display_data"
    }
   ],
   "source": [
    "#y_values = np.array(results[0]['field']['u']) - np.array(results[1]['field']['u'])\n",
    "#y_axis = [-0.1, 0.1]\n",
    "y_values = np.array(results[0]['field']['v']) - np.array(results[1]['field']['v'])\n",
    "y_axis = [-60, 60]\n",
    "\n",
    "# Creating the initial plot with the first row of the matrix\n",
    "fig = go.Figure(\n",
    "    data=[go.Scatter(x=np.arange(y_values.shape[0]), y=y_values[0, :], mode='lines')],\n",
    "    layout=go.Layout(\n",
    "        title=\"1D Line Animation\",\n",
    "        yaxis=dict(range=y_axis),\n",
    "        updatemenus=[dict(\n",
    "            type=\"buttons\",\n",
    "            buttons=[dict(label=\"Play\",\n",
    "                          method=\"animate\",\n",
    "                          args=[None, {\"frame\": {\"duration\": 500}, \"transition\": {\"duration\": 500}}])])]\n",
    "    )\n",
    ")\n",
    "\n",
    "# Adding frames for the animation\n",
    "frames = [go.Frame(data=[go.Scatter(y=row)]) for row in y_values]\n",
    "fig.frames = frames\n",
    "\n",
    "# Showing the figure\n",
    "fig.show()\n"
   ]
  },
  {
   "cell_type": "code",
   "execution_count": 35,
=======
>>>>>>> 446b8c68ca2640eaaba66274a88652c662ed8894
   "metadata": {},
   "outputs": [
    {
     "data": {
      "application/vnd.plotly.v1+json": {
       "config": {
        "plotlyServerURL": "https://plot.ly"
       },
       "data": [
        {
         "line": {
          "color": "blue"
         },
         "mode": "lines",
         "name": "$v [\\mu m / s^2]$",
         "showlegend": false,
         "type": "scatter",
         "x": [
          0,
          1,
          2,
          3,
          4,
          5,
          6,
          7,
          8,
          9,
          10,
          11,
          12,
          13,
          14
         ],
         "xaxis": "x",
         "y": [
          -1374.6111381356259,
          137.36226522496506,
          1335.4146769881133,
          -1476.922422344301,
          627.5347021115736,
          379.95774885427426,
          -944.7700160287069,
          1121.1610982693142,
          -944.7700160287162,
          379.9577488542755,
          627.5347021115754,
          -1476.922422344286,
          1335.4146769881172,
          137.36226522494707,
          -1374.6111381356138
         ],
         "yaxis": "y2"
        },
        {
         "line": {
          "color": "red"
         },
         "mode": "lines",
         "name": "$u [\\mu m]$",
         "showlegend": false,
         "type": "scatter",
         "x": [
          0,
          1,
          2,
          3,
          4,
          5,
          6,
          7,
          8,
          9,
          10,
          11,
          12,
          13,
          14
         ],
         "xaxis": "x",
         "y": [
          -0.1351625839794822,
          -0.2522367430782248,
          0.18169931507125098,
          0.15415145144310363,
          -0.2784176016944662,
          0.29136627410803695,
          -0.251321450680034,
          0.23270040102090098,
          -0.2513214506800332,
          0.29136627410804355,
          -0.2784176016944676,
          0.15415145144310727,
          0.18169931507124756,
          -0.25223674307822863,
          -0.1351625839794815
         ],
         "yaxis": "y"
        }
       ],
       "layout": {
        "annotations": [
         {
          "font": {
           "size": 20
          },
          "showarrow": false,
          "text": "$$Wave \\; Field \\; t = 0.003$$",
          "x": 0.47,
          "xanchor": "center",
          "xref": "paper",
          "y": 1,
          "yanchor": "bottom",
          "yref": "paper",
          "yshift": 10
         }
        ],
        "font": {
         "size": 15
        },
        "template": {
         "data": {
          "bar": [
           {
            "error_x": {
             "color": "#2a3f5f"
            },
            "error_y": {
             "color": "#2a3f5f"
            },
            "marker": {
             "line": {
              "color": "#E5ECF6",
              "width": 0.5
             },
             "pattern": {
              "fillmode": "overlay",
              "size": 10,
              "solidity": 0.2
             }
            },
            "type": "bar"
           }
          ],
          "barpolar": [
           {
            "marker": {
             "line": {
              "color": "#E5ECF6",
              "width": 0.5
             },
             "pattern": {
              "fillmode": "overlay",
              "size": 10,
              "solidity": 0.2
             }
            },
            "type": "barpolar"
           }
          ],
          "carpet": [
           {
            "aaxis": {
             "endlinecolor": "#2a3f5f",
             "gridcolor": "white",
             "linecolor": "white",
             "minorgridcolor": "white",
             "startlinecolor": "#2a3f5f"
            },
            "baxis": {
             "endlinecolor": "#2a3f5f",
             "gridcolor": "white",
             "linecolor": "white",
             "minorgridcolor": "white",
             "startlinecolor": "#2a3f5f"
            },
            "type": "carpet"
           }
          ],
          "choropleth": [
           {
            "colorbar": {
             "outlinewidth": 0,
             "ticks": ""
            },
            "type": "choropleth"
           }
          ],
          "contour": [
           {
            "colorbar": {
             "outlinewidth": 0,
             "ticks": ""
            },
            "colorscale": [
             [
              0,
              "#0d0887"
             ],
             [
              0.1111111111111111,
              "#46039f"
             ],
             [
              0.2222222222222222,
              "#7201a8"
             ],
             [
              0.3333333333333333,
              "#9c179e"
             ],
             [
              0.4444444444444444,
              "#bd3786"
             ],
             [
              0.5555555555555556,
              "#d8576b"
             ],
             [
              0.6666666666666666,
              "#ed7953"
             ],
             [
              0.7777777777777778,
              "#fb9f3a"
             ],
             [
              0.8888888888888888,
              "#fdca26"
             ],
             [
              1,
              "#f0f921"
             ]
            ],
            "type": "contour"
           }
          ],
          "contourcarpet": [
           {
            "colorbar": {
             "outlinewidth": 0,
             "ticks": ""
            },
            "type": "contourcarpet"
           }
          ],
          "heatmap": [
           {
            "colorbar": {
             "outlinewidth": 0,
             "ticks": ""
            },
            "colorscale": [
             [
              0,
              "#0d0887"
             ],
             [
              0.1111111111111111,
              "#46039f"
             ],
             [
              0.2222222222222222,
              "#7201a8"
             ],
             [
              0.3333333333333333,
              "#9c179e"
             ],
             [
              0.4444444444444444,
              "#bd3786"
             ],
             [
              0.5555555555555556,
              "#d8576b"
             ],
             [
              0.6666666666666666,
              "#ed7953"
             ],
             [
              0.7777777777777778,
              "#fb9f3a"
             ],
             [
              0.8888888888888888,
              "#fdca26"
             ],
             [
              1,
              "#f0f921"
             ]
            ],
            "type": "heatmap"
           }
          ],
          "heatmapgl": [
           {
            "colorbar": {
             "outlinewidth": 0,
             "ticks": ""
            },
            "colorscale": [
             [
              0,
              "#0d0887"
             ],
             [
              0.1111111111111111,
              "#46039f"
             ],
             [
              0.2222222222222222,
              "#7201a8"
             ],
             [
              0.3333333333333333,
              "#9c179e"
             ],
             [
              0.4444444444444444,
              "#bd3786"
             ],
             [
              0.5555555555555556,
              "#d8576b"
             ],
             [
              0.6666666666666666,
              "#ed7953"
             ],
             [
              0.7777777777777778,
              "#fb9f3a"
             ],
             [
              0.8888888888888888,
              "#fdca26"
             ],
             [
              1,
              "#f0f921"
             ]
            ],
            "type": "heatmapgl"
           }
          ],
          "histogram": [
           {
            "marker": {
             "pattern": {
              "fillmode": "overlay",
              "size": 10,
              "solidity": 0.2
             }
            },
            "type": "histogram"
           }
          ],
          "histogram2d": [
           {
            "colorbar": {
             "outlinewidth": 0,
             "ticks": ""
            },
            "colorscale": [
             [
              0,
              "#0d0887"
             ],
             [
              0.1111111111111111,
              "#46039f"
             ],
             [
              0.2222222222222222,
              "#7201a8"
             ],
             [
              0.3333333333333333,
              "#9c179e"
             ],
             [
              0.4444444444444444,
              "#bd3786"
             ],
             [
              0.5555555555555556,
              "#d8576b"
             ],
             [
              0.6666666666666666,
              "#ed7953"
             ],
             [
              0.7777777777777778,
              "#fb9f3a"
             ],
             [
              0.8888888888888888,
              "#fdca26"
             ],
             [
              1,
              "#f0f921"
             ]
            ],
            "type": "histogram2d"
           }
          ],
          "histogram2dcontour": [
           {
            "colorbar": {
             "outlinewidth": 0,
             "ticks": ""
            },
            "colorscale": [
             [
              0,
              "#0d0887"
             ],
             [
              0.1111111111111111,
              "#46039f"
             ],
             [
              0.2222222222222222,
              "#7201a8"
             ],
             [
              0.3333333333333333,
              "#9c179e"
             ],
             [
              0.4444444444444444,
              "#bd3786"
             ],
             [
              0.5555555555555556,
              "#d8576b"
             ],
             [
              0.6666666666666666,
              "#ed7953"
             ],
             [
              0.7777777777777778,
              "#fb9f3a"
             ],
             [
              0.8888888888888888,
              "#fdca26"
             ],
             [
              1,
              "#f0f921"
             ]
            ],
            "type": "histogram2dcontour"
           }
          ],
          "mesh3d": [
           {
            "colorbar": {
             "outlinewidth": 0,
             "ticks": ""
            },
            "type": "mesh3d"
           }
          ],
          "parcoords": [
           {
            "line": {
             "colorbar": {
              "outlinewidth": 0,
              "ticks": ""
             }
            },
            "type": "parcoords"
           }
          ],
          "pie": [
           {
            "automargin": true,
            "type": "pie"
           }
          ],
          "scatter": [
           {
            "fillpattern": {
             "fillmode": "overlay",
             "size": 10,
             "solidity": 0.2
            },
            "type": "scatter"
           }
          ],
          "scatter3d": [
           {
            "line": {
             "colorbar": {
              "outlinewidth": 0,
              "ticks": ""
             }
            },
            "marker": {
             "colorbar": {
              "outlinewidth": 0,
              "ticks": ""
             }
            },
            "type": "scatter3d"
           }
          ],
          "scattercarpet": [
           {
            "marker": {
             "colorbar": {
              "outlinewidth": 0,
              "ticks": ""
             }
            },
            "type": "scattercarpet"
           }
          ],
          "scattergeo": [
           {
            "marker": {
             "colorbar": {
              "outlinewidth": 0,
              "ticks": ""
             }
            },
            "type": "scattergeo"
           }
          ],
          "scattergl": [
           {
            "marker": {
             "colorbar": {
              "outlinewidth": 0,
              "ticks": ""
             }
            },
            "type": "scattergl"
           }
          ],
          "scattermapbox": [
           {
            "marker": {
             "colorbar": {
              "outlinewidth": 0,
              "ticks": ""
             }
            },
            "type": "scattermapbox"
           }
          ],
          "scatterpolar": [
           {
            "marker": {
             "colorbar": {
              "outlinewidth": 0,
              "ticks": ""
             }
            },
            "type": "scatterpolar"
           }
          ],
          "scatterpolargl": [
           {
            "marker": {
             "colorbar": {
              "outlinewidth": 0,
              "ticks": ""
             }
            },
            "type": "scatterpolargl"
           }
          ],
          "scatterternary": [
           {
            "marker": {
             "colorbar": {
              "outlinewidth": 0,
              "ticks": ""
             }
            },
            "type": "scatterternary"
           }
          ],
          "surface": [
           {
            "colorbar": {
             "outlinewidth": 0,
             "ticks": ""
            },
            "colorscale": [
             [
              0,
              "#0d0887"
             ],
             [
              0.1111111111111111,
              "#46039f"
             ],
             [
              0.2222222222222222,
              "#7201a8"
             ],
             [
              0.3333333333333333,
              "#9c179e"
             ],
             [
              0.4444444444444444,
              "#bd3786"
             ],
             [
              0.5555555555555556,
              "#d8576b"
             ],
             [
              0.6666666666666666,
              "#ed7953"
             ],
             [
              0.7777777777777778,
              "#fb9f3a"
             ],
             [
              0.8888888888888888,
              "#fdca26"
             ],
             [
              1,
              "#f0f921"
             ]
            ],
            "type": "surface"
           }
          ],
          "table": [
           {
            "cells": {
             "fill": {
              "color": "#EBF0F8"
             },
             "line": {
              "color": "white"
             }
            },
            "header": {
             "fill": {
              "color": "#C8D4E3"
             },
             "line": {
              "color": "white"
             }
            },
            "type": "table"
           }
          ]
         },
         "layout": {
          "annotationdefaults": {
           "arrowcolor": "#2a3f5f",
           "arrowhead": 0,
           "arrowwidth": 1
          },
          "autotypenumbers": "strict",
          "coloraxis": {
           "colorbar": {
            "outlinewidth": 0,
            "ticks": ""
           }
          },
          "colorscale": {
           "diverging": [
            [
             0,
             "#8e0152"
            ],
            [
             0.1,
             "#c51b7d"
            ],
            [
             0.2,
             "#de77ae"
            ],
            [
             0.3,
             "#f1b6da"
            ],
            [
             0.4,
             "#fde0ef"
            ],
            [
             0.5,
             "#f7f7f7"
            ],
            [
             0.6,
             "#e6f5d0"
            ],
            [
             0.7,
             "#b8e186"
            ],
            [
             0.8,
             "#7fbc41"
            ],
            [
             0.9,
             "#4d9221"
            ],
            [
             1,
             "#276419"
            ]
           ],
           "sequential": [
            [
             0,
             "#0d0887"
            ],
            [
             0.1111111111111111,
             "#46039f"
            ],
            [
             0.2222222222222222,
             "#7201a8"
            ],
            [
             0.3333333333333333,
             "#9c179e"
            ],
            [
             0.4444444444444444,
             "#bd3786"
            ],
            [
             0.5555555555555556,
             "#d8576b"
            ],
            [
             0.6666666666666666,
             "#ed7953"
            ],
            [
             0.7777777777777778,
             "#fb9f3a"
            ],
            [
             0.8888888888888888,
             "#fdca26"
            ],
            [
             1,
             "#f0f921"
            ]
           ],
           "sequentialminus": [
            [
             0,
             "#0d0887"
            ],
            [
             0.1111111111111111,
             "#46039f"
            ],
            [
             0.2222222222222222,
             "#7201a8"
            ],
            [
             0.3333333333333333,
             "#9c179e"
            ],
            [
             0.4444444444444444,
             "#bd3786"
            ],
            [
             0.5555555555555556,
             "#d8576b"
            ],
            [
             0.6666666666666666,
             "#ed7953"
            ],
            [
             0.7777777777777778,
             "#fb9f3a"
            ],
            [
             0.8888888888888888,
             "#fdca26"
            ],
            [
             1,
             "#f0f921"
            ]
           ]
          },
          "colorway": [
           "#636efa",
           "#EF553B",
           "#00cc96",
           "#ab63fa",
           "#FFA15A",
           "#19d3f3",
           "#FF6692",
           "#B6E880",
           "#FF97FF",
           "#FECB52"
          ],
          "font": {
           "color": "#2a3f5f"
          },
          "geo": {
           "bgcolor": "white",
           "lakecolor": "white",
           "landcolor": "#E5ECF6",
           "showlakes": true,
           "showland": true,
           "subunitcolor": "white"
          },
          "hoverlabel": {
           "align": "left"
          },
          "hovermode": "closest",
          "mapbox": {
           "style": "light"
          },
          "paper_bgcolor": "white",
          "plot_bgcolor": "#E5ECF6",
          "polar": {
           "angularaxis": {
            "gridcolor": "white",
            "linecolor": "white",
            "ticks": ""
           },
           "bgcolor": "#E5ECF6",
           "radialaxis": {
            "gridcolor": "white",
            "linecolor": "white",
            "ticks": ""
           }
          },
          "scene": {
           "xaxis": {
            "backgroundcolor": "#E5ECF6",
            "gridcolor": "white",
            "gridwidth": 2,
            "linecolor": "white",
            "showbackground": true,
            "ticks": "",
            "zerolinecolor": "white"
           },
           "yaxis": {
            "backgroundcolor": "#E5ECF6",
            "gridcolor": "white",
            "gridwidth": 2,
            "linecolor": "white",
            "showbackground": true,
            "ticks": "",
            "zerolinecolor": "white"
           },
           "zaxis": {
            "backgroundcolor": "#E5ECF6",
            "gridcolor": "white",
            "gridwidth": 2,
            "linecolor": "white",
            "showbackground": true,
            "ticks": "",
            "zerolinecolor": "white"
           }
          },
          "shapedefaults": {
           "line": {
            "color": "#2a3f5f"
           }
          },
          "ternary": {
           "aaxis": {
            "gridcolor": "white",
            "linecolor": "white",
            "ticks": ""
           },
           "baxis": {
            "gridcolor": "white",
            "linecolor": "white",
            "ticks": ""
           },
           "bgcolor": "#E5ECF6",
           "caxis": {
            "gridcolor": "white",
            "linecolor": "white",
            "ticks": ""
           }
          },
          "title": {
           "x": 0.05
          },
          "xaxis": {
           "automargin": true,
           "gridcolor": "white",
           "linecolor": "white",
           "ticks": "",
           "title": {
            "standoff": 15
           },
           "zerolinecolor": "white",
           "zerolinewidth": 2
          },
          "yaxis": {
           "automargin": true,
           "gridcolor": "white",
           "linecolor": "white",
           "ticks": "",
           "title": {
            "standoff": 15
           },
           "zerolinecolor": "white",
           "zerolinewidth": 2
          }
         }
        },
        "xaxis": {
         "anchor": "y",
         "domain": [
          0,
          0.94
         ],
         "title": {
          "text": "$x [m]$"
         }
        },
        "yaxis": {
         "anchor": "x",
         "domain": [
          0,
          1
         ],
         "exponentformat": "e",
         "range": [
          -1,
          1
         ],
         "showexponent": "all",
         "title": {
          "font": {
           "color": "red"
          },
          "text": "$u [\\mu m]$"
         }
        },
        "yaxis2": {
         "anchor": "x",
         "exponentformat": "e",
         "overlaying": "y",
         "range": [
          -4000,
          4000
         ],
         "showexponent": "all",
         "side": "right",
         "title": {
          "font": {
           "color": "blue"
          },
          "text": "$v [\\mu m / s^2]$"
         }
        }
       }
      }
     },
     "metadata": {},
     "output_type": "display_data"
    }
   ],
   "source": [
    "idx = 3\n",
    "u1 = np.array(results[0]['field']['u'][idx])\n",
    "u2 = np.array(results[1]['field']['u'][idx])\n",
    "v1 = np.array(results[0]['field']['v'][idx])\n",
    "v2 = np.array(results[1]['field']['v'][idx])\n",
    "t = np.array(results[0]['times'][idx])\n",
    "plot_uv(u1, v1, t, plot_v=True)"
   ]
  },
  {
   "cell_type": "code",
<<<<<<< HEAD
   "execution_count": 36,
=======
   "execution_count": 5,
>>>>>>> 446b8c68ca2640eaaba66274a88652c662ed8894
   "metadata": {},
   "outputs": [
    {
     "data": {
      "application/vnd.plotly.v1+json": {
       "config": {
        "plotlyServerURL": "https://plot.ly"
       },
       "data": [
        {
         "line": {
          "color": "blue"
         },
         "mode": "lines",
         "name": "$v [\\mu m / s^2]$",
         "showlegend": false,
         "type": "scatter",
         "x": [
          0,
          1,
          2,
          3,
          4,
          5,
          6,
          7,
          8,
          9,
          10,
          11,
          12,
          13,
          14
         ],
         "xaxis": "x",
         "y": [
          -1371.931333984359,
          138.42244994726985,
          1336.6584205775146,
          -1479.5667310444235,
          628.3336539309529,
          374.8315909404638,
          -932.610250106596,
          1114.4702516981704,
          -940.0939095137179,
          373.84966978849417,
          628.4541331092918,
          -1475.0704995071787,
          1338.632018064599,
          132.95167861994025,
          -1373.69079043819
         ],
         "yaxis": "y2"
        },
        {
         "line": {
          "color": "red"
         },
         "mode": "lines",
         "name": "$u [\\mu m]$",
         "showlegend": false,
         "type": "scatter",
         "x": [
          0,
          1,
          2,
          3,
          4,
          5,
          6,
          7,
          8,
          9,
          10,
          11,
          12,
          13,
          14
         ],
         "xaxis": "x",
         "y": [
          -0.13339694322433762,
          -0.25182134262359407,
          0.183050204535743,
          0.15596897712867663,
          -0.27669956207608437,
          0.2944790059362723,
          -0.24775565786318715,
          0.23767552494563782,
          -0.24881975821425661,
          0.2955292720171352,
          -0.27456736842954255,
          0.15791397419796493,
          0.18614920531560575,
          -0.2487665481476058,
          -0.13221239199502466
         ],
         "yaxis": "y"
        }
       ],
       "layout": {
        "annotations": [
         {
          "font": {
           "size": 20
          },
          "showarrow": false,
          "text": "$$Wave \\; Field \\; t = 0.003$$",
          "x": 0.47,
          "xanchor": "center",
          "xref": "paper",
          "y": 1,
          "yanchor": "bottom",
          "yref": "paper",
          "yshift": 10
         }
        ],
        "font": {
         "size": 15
        },
        "template": {
         "data": {
          "bar": [
           {
            "error_x": {
             "color": "#2a3f5f"
            },
            "error_y": {
             "color": "#2a3f5f"
            },
            "marker": {
             "line": {
              "color": "#E5ECF6",
              "width": 0.5
             },
             "pattern": {
              "fillmode": "overlay",
              "size": 10,
              "solidity": 0.2
             }
            },
            "type": "bar"
           }
          ],
          "barpolar": [
           {
            "marker": {
             "line": {
              "color": "#E5ECF6",
              "width": 0.5
             },
             "pattern": {
              "fillmode": "overlay",
              "size": 10,
              "solidity": 0.2
             }
            },
            "type": "barpolar"
           }
          ],
          "carpet": [
           {
            "aaxis": {
             "endlinecolor": "#2a3f5f",
             "gridcolor": "white",
             "linecolor": "white",
             "minorgridcolor": "white",
             "startlinecolor": "#2a3f5f"
            },
            "baxis": {
             "endlinecolor": "#2a3f5f",
             "gridcolor": "white",
             "linecolor": "white",
             "minorgridcolor": "white",
             "startlinecolor": "#2a3f5f"
            },
            "type": "carpet"
           }
          ],
          "choropleth": [
           {
            "colorbar": {
             "outlinewidth": 0,
             "ticks": ""
            },
            "type": "choropleth"
           }
          ],
          "contour": [
           {
            "colorbar": {
             "outlinewidth": 0,
             "ticks": ""
            },
            "colorscale": [
             [
              0,
              "#0d0887"
             ],
             [
              0.1111111111111111,
              "#46039f"
             ],
             [
              0.2222222222222222,
              "#7201a8"
             ],
             [
              0.3333333333333333,
              "#9c179e"
             ],
             [
              0.4444444444444444,
              "#bd3786"
             ],
             [
              0.5555555555555556,
              "#d8576b"
             ],
             [
              0.6666666666666666,
              "#ed7953"
             ],
             [
              0.7777777777777778,
              "#fb9f3a"
             ],
             [
              0.8888888888888888,
              "#fdca26"
             ],
             [
              1,
              "#f0f921"
             ]
            ],
            "type": "contour"
           }
          ],
          "contourcarpet": [
           {
            "colorbar": {
             "outlinewidth": 0,
             "ticks": ""
            },
            "type": "contourcarpet"
           }
          ],
          "heatmap": [
           {
            "colorbar": {
             "outlinewidth": 0,
             "ticks": ""
            },
            "colorscale": [
             [
              0,
              "#0d0887"
             ],
             [
              0.1111111111111111,
              "#46039f"
             ],
             [
              0.2222222222222222,
              "#7201a8"
             ],
             [
              0.3333333333333333,
              "#9c179e"
             ],
             [
              0.4444444444444444,
              "#bd3786"
             ],
             [
              0.5555555555555556,
              "#d8576b"
             ],
             [
              0.6666666666666666,
              "#ed7953"
             ],
             [
              0.7777777777777778,
              "#fb9f3a"
             ],
             [
              0.8888888888888888,
              "#fdca26"
             ],
             [
              1,
              "#f0f921"
             ]
            ],
            "type": "heatmap"
           }
          ],
          "heatmapgl": [
           {
            "colorbar": {
             "outlinewidth": 0,
             "ticks": ""
            },
            "colorscale": [
             [
              0,
              "#0d0887"
             ],
             [
              0.1111111111111111,
              "#46039f"
             ],
             [
              0.2222222222222222,
              "#7201a8"
             ],
             [
              0.3333333333333333,
              "#9c179e"
             ],
             [
              0.4444444444444444,
              "#bd3786"
             ],
             [
              0.5555555555555556,
              "#d8576b"
             ],
             [
              0.6666666666666666,
              "#ed7953"
             ],
             [
              0.7777777777777778,
              "#fb9f3a"
             ],
             [
              0.8888888888888888,
              "#fdca26"
             ],
             [
              1,
              "#f0f921"
             ]
            ],
            "type": "heatmapgl"
           }
          ],
          "histogram": [
           {
            "marker": {
             "pattern": {
              "fillmode": "overlay",
              "size": 10,
              "solidity": 0.2
             }
            },
            "type": "histogram"
           }
          ],
          "histogram2d": [
           {
            "colorbar": {
             "outlinewidth": 0,
             "ticks": ""
            },
            "colorscale": [
             [
              0,
              "#0d0887"
             ],
             [
              0.1111111111111111,
              "#46039f"
             ],
             [
              0.2222222222222222,
              "#7201a8"
             ],
             [
              0.3333333333333333,
              "#9c179e"
             ],
             [
              0.4444444444444444,
              "#bd3786"
             ],
             [
              0.5555555555555556,
              "#d8576b"
             ],
             [
              0.6666666666666666,
              "#ed7953"
             ],
             [
              0.7777777777777778,
              "#fb9f3a"
             ],
             [
              0.8888888888888888,
              "#fdca26"
             ],
             [
              1,
              "#f0f921"
             ]
            ],
            "type": "histogram2d"
           }
          ],
          "histogram2dcontour": [
           {
            "colorbar": {
             "outlinewidth": 0,
             "ticks": ""
            },
            "colorscale": [
             [
              0,
              "#0d0887"
             ],
             [
              0.1111111111111111,
              "#46039f"
             ],
             [
              0.2222222222222222,
              "#7201a8"
             ],
             [
              0.3333333333333333,
              "#9c179e"
             ],
             [
              0.4444444444444444,
              "#bd3786"
             ],
             [
              0.5555555555555556,
              "#d8576b"
             ],
             [
              0.6666666666666666,
              "#ed7953"
             ],
             [
              0.7777777777777778,
              "#fb9f3a"
             ],
             [
              0.8888888888888888,
              "#fdca26"
             ],
             [
              1,
              "#f0f921"
             ]
            ],
            "type": "histogram2dcontour"
           }
          ],
          "mesh3d": [
           {
            "colorbar": {
             "outlinewidth": 0,
             "ticks": ""
            },
            "type": "mesh3d"
           }
          ],
          "parcoords": [
           {
            "line": {
             "colorbar": {
              "outlinewidth": 0,
              "ticks": ""
             }
            },
            "type": "parcoords"
           }
          ],
          "pie": [
           {
            "automargin": true,
            "type": "pie"
           }
          ],
          "scatter": [
           {
            "fillpattern": {
             "fillmode": "overlay",
             "size": 10,
             "solidity": 0.2
            },
            "type": "scatter"
           }
          ],
          "scatter3d": [
           {
            "line": {
             "colorbar": {
              "outlinewidth": 0,
              "ticks": ""
             }
            },
            "marker": {
             "colorbar": {
              "outlinewidth": 0,
              "ticks": ""
             }
            },
            "type": "scatter3d"
           }
          ],
          "scattercarpet": [
           {
            "marker": {
             "colorbar": {
              "outlinewidth": 0,
              "ticks": ""
             }
            },
            "type": "scattercarpet"
           }
          ],
          "scattergeo": [
           {
            "marker": {
             "colorbar": {
              "outlinewidth": 0,
              "ticks": ""
             }
            },
            "type": "scattergeo"
           }
          ],
          "scattergl": [
           {
            "marker": {
             "colorbar": {
              "outlinewidth": 0,
              "ticks": ""
             }
            },
            "type": "scattergl"
           }
          ],
          "scattermapbox": [
           {
            "marker": {
             "colorbar": {
              "outlinewidth": 0,
              "ticks": ""
             }
            },
            "type": "scattermapbox"
           }
          ],
          "scatterpolar": [
           {
            "marker": {
             "colorbar": {
              "outlinewidth": 0,
              "ticks": ""
             }
            },
            "type": "scatterpolar"
           }
          ],
          "scatterpolargl": [
           {
            "marker": {
             "colorbar": {
              "outlinewidth": 0,
              "ticks": ""
             }
            },
            "type": "scatterpolargl"
           }
          ],
          "scatterternary": [
           {
            "marker": {
             "colorbar": {
              "outlinewidth": 0,
              "ticks": ""
             }
            },
            "type": "scatterternary"
           }
          ],
          "surface": [
           {
            "colorbar": {
             "outlinewidth": 0,
             "ticks": ""
            },
            "colorscale": [
             [
              0,
              "#0d0887"
             ],
             [
              0.1111111111111111,
              "#46039f"
             ],
             [
              0.2222222222222222,
              "#7201a8"
             ],
             [
              0.3333333333333333,
              "#9c179e"
             ],
             [
              0.4444444444444444,
              "#bd3786"
             ],
             [
              0.5555555555555556,
              "#d8576b"
             ],
             [
              0.6666666666666666,
              "#ed7953"
             ],
             [
              0.7777777777777778,
              "#fb9f3a"
             ],
             [
              0.8888888888888888,
              "#fdca26"
             ],
             [
              1,
              "#f0f921"
             ]
            ],
            "type": "surface"
           }
          ],
          "table": [
           {
            "cells": {
             "fill": {
              "color": "#EBF0F8"
             },
             "line": {
              "color": "white"
             }
            },
            "header": {
             "fill": {
              "color": "#C8D4E3"
             },
             "line": {
              "color": "white"
             }
            },
            "type": "table"
           }
          ]
         },
         "layout": {
          "annotationdefaults": {
           "arrowcolor": "#2a3f5f",
           "arrowhead": 0,
           "arrowwidth": 1
          },
          "autotypenumbers": "strict",
          "coloraxis": {
           "colorbar": {
            "outlinewidth": 0,
            "ticks": ""
           }
          },
          "colorscale": {
           "diverging": [
            [
             0,
             "#8e0152"
            ],
            [
             0.1,
             "#c51b7d"
            ],
            [
             0.2,
             "#de77ae"
            ],
            [
             0.3,
             "#f1b6da"
            ],
            [
             0.4,
             "#fde0ef"
            ],
            [
             0.5,
             "#f7f7f7"
            ],
            [
             0.6,
             "#e6f5d0"
            ],
            [
             0.7,
             "#b8e186"
            ],
            [
             0.8,
             "#7fbc41"
            ],
            [
             0.9,
             "#4d9221"
            ],
            [
             1,
             "#276419"
            ]
           ],
           "sequential": [
            [
             0,
             "#0d0887"
            ],
            [
             0.1111111111111111,
             "#46039f"
            ],
            [
             0.2222222222222222,
             "#7201a8"
            ],
            [
             0.3333333333333333,
             "#9c179e"
            ],
            [
             0.4444444444444444,
             "#bd3786"
            ],
            [
             0.5555555555555556,
             "#d8576b"
            ],
            [
             0.6666666666666666,
             "#ed7953"
            ],
            [
             0.7777777777777778,
             "#fb9f3a"
            ],
            [
             0.8888888888888888,
             "#fdca26"
            ],
            [
             1,
             "#f0f921"
            ]
           ],
           "sequentialminus": [
            [
             0,
             "#0d0887"
            ],
            [
             0.1111111111111111,
             "#46039f"
            ],
            [
             0.2222222222222222,
             "#7201a8"
            ],
            [
             0.3333333333333333,
             "#9c179e"
            ],
            [
             0.4444444444444444,
             "#bd3786"
            ],
            [
             0.5555555555555556,
             "#d8576b"
            ],
            [
             0.6666666666666666,
             "#ed7953"
            ],
            [
             0.7777777777777778,
             "#fb9f3a"
            ],
            [
             0.8888888888888888,
             "#fdca26"
            ],
            [
             1,
             "#f0f921"
            ]
           ]
          },
          "colorway": [
           "#636efa",
           "#EF553B",
           "#00cc96",
           "#ab63fa",
           "#FFA15A",
           "#19d3f3",
           "#FF6692",
           "#B6E880",
           "#FF97FF",
           "#FECB52"
          ],
          "font": {
           "color": "#2a3f5f"
          },
          "geo": {
           "bgcolor": "white",
           "lakecolor": "white",
           "landcolor": "#E5ECF6",
           "showlakes": true,
           "showland": true,
           "subunitcolor": "white"
          },
          "hoverlabel": {
           "align": "left"
          },
          "hovermode": "closest",
          "mapbox": {
           "style": "light"
          },
          "paper_bgcolor": "white",
          "plot_bgcolor": "#E5ECF6",
          "polar": {
           "angularaxis": {
            "gridcolor": "white",
            "linecolor": "white",
            "ticks": ""
           },
           "bgcolor": "#E5ECF6",
           "radialaxis": {
            "gridcolor": "white",
            "linecolor": "white",
            "ticks": ""
           }
          },
          "scene": {
           "xaxis": {
            "backgroundcolor": "#E5ECF6",
            "gridcolor": "white",
            "gridwidth": 2,
            "linecolor": "white",
            "showbackground": true,
            "ticks": "",
            "zerolinecolor": "white"
           },
           "yaxis": {
            "backgroundcolor": "#E5ECF6",
            "gridcolor": "white",
            "gridwidth": 2,
            "linecolor": "white",
            "showbackground": true,
            "ticks": "",
            "zerolinecolor": "white"
           },
           "zaxis": {
            "backgroundcolor": "#E5ECF6",
            "gridcolor": "white",
            "gridwidth": 2,
            "linecolor": "white",
            "showbackground": true,
            "ticks": "",
            "zerolinecolor": "white"
           }
          },
          "shapedefaults": {
           "line": {
            "color": "#2a3f5f"
           }
          },
          "ternary": {
           "aaxis": {
            "gridcolor": "white",
            "linecolor": "white",
            "ticks": ""
           },
           "baxis": {
            "gridcolor": "white",
            "linecolor": "white",
            "ticks": ""
           },
           "bgcolor": "#E5ECF6",
           "caxis": {
            "gridcolor": "white",
            "linecolor": "white",
            "ticks": ""
           }
          },
          "title": {
           "x": 0.05
          },
          "xaxis": {
           "automargin": true,
           "gridcolor": "white",
           "linecolor": "white",
           "ticks": "",
           "title": {
            "standoff": 15
           },
           "zerolinecolor": "white",
           "zerolinewidth": 2
          },
          "yaxis": {
           "automargin": true,
           "gridcolor": "white",
           "linecolor": "white",
           "ticks": "",
           "title": {
            "standoff": 15
           },
           "zerolinecolor": "white",
           "zerolinewidth": 2
          }
         }
        },
        "xaxis": {
         "anchor": "y",
         "domain": [
          0,
          0.94
         ],
         "title": {
          "text": "$x [m]$"
         }
        },
        "yaxis": {
         "anchor": "x",
         "domain": [
          0,
          1
         ],
         "exponentformat": "e",
         "range": [
          -1,
          1
         ],
         "showexponent": "all",
         "title": {
          "font": {
           "color": "red"
          },
          "text": "$u [\\mu m]$"
         }
        },
        "yaxis2": {
         "anchor": "x",
         "exponentformat": "e",
         "overlaying": "y",
         "range": [
          -4000,
          4000
         ],
         "showexponent": "all",
         "side": "right",
         "title": {
          "font": {
           "color": "blue"
          },
          "text": "$v [\\mu m / s^2]$"
         }
        }
       }
      }
     },
     "metadata": {},
     "output_type": "display_data"
    }
   ],
   "source": [
    "plot_uv(u2, v2, t, plot_v=True)"
   ]
  },
  {
   "cell_type": "code",
<<<<<<< HEAD
   "execution_count": 38,
=======
   "execution_count": 6,
>>>>>>> 446b8c68ca2640eaaba66274a88652c662ed8894
   "metadata": {},
   "outputs": [
    {
     "data": {
      "application/vnd.plotly.v1+json": {
       "config": {
        "plotlyServerURL": "https://plot.ly"
       },
       "data": [
        {
         "line": {
          "color": "blue"
         },
         "mode": "lines",
         "name": "$v [\\mu m / s^2]$",
         "showlegend": false,
         "type": "scatter",
         "x": [
          0,
          1,
          2,
          3,
          4,
          5,
          6,
          7,
          8,
          9,
          10,
          11,
          12,
          13,
          14
         ],
         "xaxis": "x",
         "y": [
          -2.679804151266808,
          -1.0601847223047969,
          -1.2437435894012197,
          2.644308700122565,
          -0.7989518193793401,
          5.126157913810459,
          -12.159765922110864,
          6.690846571143766,
          -4.67610651499831,
          6.1080790657813395,
          -0.9194309977164039,
          -1.8519228371071677,
          -3.2173410764817163,
          4.410586605006813,
          -0.9203476974237219
         ],
         "yaxis": "y2"
        },
        {
         "line": {
          "color": "red"
         },
         "mode": "lines",
         "name": "$u [\\mu m]$",
         "showlegend": false,
         "type": "scatter",
         "x": [
          0,
          1,
          2,
          3,
          4,
          5,
          6,
          7,
          8,
          9,
          10,
          11,
          12,
          13,
          14
         ],
         "xaxis": "x",
         "y": [
          -0.0017656407551445708,
          -0.00041540045463073216,
          -0.0013508894644920222,
          -0.0018175256855730015,
          -0.0017180396183818503,
          -0.003112731828235349,
          -0.0035657928168468245,
          -0.004975123924736841,
          -0.0025016924657765838,
          -0.004162997909091637,
          -0.0038502332649250626,
          -0.0037625227548576667,
          -0.0044498902443581845,
          -0.0034701949306228386,
          -0.0029501919844568403
         ],
         "yaxis": "y"
        }
       ],
       "layout": {
        "annotations": [
         {
          "font": {
           "size": 20
          },
          "showarrow": false,
          "text": "$$Wave \\; Field \\; t = 0.003$$",
          "x": 0.47,
          "xanchor": "center",
          "xref": "paper",
          "y": 1,
          "yanchor": "bottom",
          "yref": "paper",
          "yshift": 10
         }
        ],
        "font": {
         "size": 15
        },
        "template": {
         "data": {
          "bar": [
           {
            "error_x": {
             "color": "#2a3f5f"
            },
            "error_y": {
             "color": "#2a3f5f"
            },
            "marker": {
             "line": {
              "color": "#E5ECF6",
              "width": 0.5
             },
             "pattern": {
              "fillmode": "overlay",
              "size": 10,
              "solidity": 0.2
             }
            },
            "type": "bar"
           }
          ],
          "barpolar": [
           {
            "marker": {
             "line": {
              "color": "#E5ECF6",
              "width": 0.5
             },
             "pattern": {
              "fillmode": "overlay",
              "size": 10,
              "solidity": 0.2
             }
            },
            "type": "barpolar"
           }
          ],
          "carpet": [
           {
            "aaxis": {
             "endlinecolor": "#2a3f5f",
             "gridcolor": "white",
             "linecolor": "white",
             "minorgridcolor": "white",
             "startlinecolor": "#2a3f5f"
            },
            "baxis": {
             "endlinecolor": "#2a3f5f",
             "gridcolor": "white",
             "linecolor": "white",
             "minorgridcolor": "white",
             "startlinecolor": "#2a3f5f"
            },
            "type": "carpet"
           }
          ],
          "choropleth": [
           {
            "colorbar": {
             "outlinewidth": 0,
             "ticks": ""
            },
            "type": "choropleth"
           }
          ],
          "contour": [
           {
            "colorbar": {
             "outlinewidth": 0,
             "ticks": ""
            },
            "colorscale": [
             [
              0,
              "#0d0887"
             ],
             [
              0.1111111111111111,
              "#46039f"
             ],
             [
              0.2222222222222222,
              "#7201a8"
             ],
             [
              0.3333333333333333,
              "#9c179e"
             ],
             [
              0.4444444444444444,
              "#bd3786"
             ],
             [
              0.5555555555555556,
              "#d8576b"
             ],
             [
              0.6666666666666666,
              "#ed7953"
             ],
             [
              0.7777777777777778,
              "#fb9f3a"
             ],
             [
              0.8888888888888888,
              "#fdca26"
             ],
             [
              1,
              "#f0f921"
             ]
            ],
            "type": "contour"
           }
          ],
          "contourcarpet": [
           {
            "colorbar": {
             "outlinewidth": 0,
             "ticks": ""
            },
            "type": "contourcarpet"
           }
          ],
          "heatmap": [
           {
            "colorbar": {
             "outlinewidth": 0,
             "ticks": ""
            },
            "colorscale": [
             [
              0,
              "#0d0887"
             ],
             [
              0.1111111111111111,
              "#46039f"
             ],
             [
              0.2222222222222222,
              "#7201a8"
             ],
             [
              0.3333333333333333,
              "#9c179e"
             ],
             [
              0.4444444444444444,
              "#bd3786"
             ],
             [
              0.5555555555555556,
              "#d8576b"
             ],
             [
              0.6666666666666666,
              "#ed7953"
             ],
             [
              0.7777777777777778,
              "#fb9f3a"
             ],
             [
              0.8888888888888888,
              "#fdca26"
             ],
             [
              1,
              "#f0f921"
             ]
            ],
            "type": "heatmap"
           }
          ],
          "heatmapgl": [
           {
            "colorbar": {
             "outlinewidth": 0,
             "ticks": ""
            },
            "colorscale": [
             [
              0,
              "#0d0887"
             ],
             [
              0.1111111111111111,
              "#46039f"
             ],
             [
              0.2222222222222222,
              "#7201a8"
             ],
             [
              0.3333333333333333,
              "#9c179e"
             ],
             [
              0.4444444444444444,
              "#bd3786"
             ],
             [
              0.5555555555555556,
              "#d8576b"
             ],
             [
              0.6666666666666666,
              "#ed7953"
             ],
             [
              0.7777777777777778,
              "#fb9f3a"
             ],
             [
              0.8888888888888888,
              "#fdca26"
             ],
             [
              1,
              "#f0f921"
             ]
            ],
            "type": "heatmapgl"
           }
          ],
          "histogram": [
           {
            "marker": {
             "pattern": {
              "fillmode": "overlay",
              "size": 10,
              "solidity": 0.2
             }
            },
            "type": "histogram"
           }
          ],
          "histogram2d": [
           {
            "colorbar": {
             "outlinewidth": 0,
             "ticks": ""
            },
            "colorscale": [
             [
              0,
              "#0d0887"
             ],
             [
              0.1111111111111111,
              "#46039f"
             ],
             [
              0.2222222222222222,
              "#7201a8"
             ],
             [
              0.3333333333333333,
              "#9c179e"
             ],
             [
              0.4444444444444444,
              "#bd3786"
             ],
             [
              0.5555555555555556,
              "#d8576b"
             ],
             [
              0.6666666666666666,
              "#ed7953"
             ],
             [
              0.7777777777777778,
              "#fb9f3a"
             ],
             [
              0.8888888888888888,
              "#fdca26"
             ],
             [
              1,
              "#f0f921"
             ]
            ],
            "type": "histogram2d"
           }
          ],
          "histogram2dcontour": [
           {
            "colorbar": {
             "outlinewidth": 0,
             "ticks": ""
            },
            "colorscale": [
             [
              0,
              "#0d0887"
             ],
             [
              0.1111111111111111,
              "#46039f"
             ],
             [
              0.2222222222222222,
              "#7201a8"
             ],
             [
              0.3333333333333333,
              "#9c179e"
             ],
             [
              0.4444444444444444,
              "#bd3786"
             ],
             [
              0.5555555555555556,
              "#d8576b"
             ],
             [
              0.6666666666666666,
              "#ed7953"
             ],
             [
              0.7777777777777778,
              "#fb9f3a"
             ],
             [
              0.8888888888888888,
              "#fdca26"
             ],
             [
              1,
              "#f0f921"
             ]
            ],
            "type": "histogram2dcontour"
           }
          ],
          "mesh3d": [
           {
            "colorbar": {
             "outlinewidth": 0,
             "ticks": ""
            },
            "type": "mesh3d"
           }
          ],
          "parcoords": [
           {
            "line": {
             "colorbar": {
              "outlinewidth": 0,
              "ticks": ""
             }
            },
            "type": "parcoords"
           }
          ],
          "pie": [
           {
            "automargin": true,
            "type": "pie"
           }
          ],
          "scatter": [
           {
            "fillpattern": {
             "fillmode": "overlay",
             "size": 10,
             "solidity": 0.2
            },
            "type": "scatter"
           }
          ],
          "scatter3d": [
           {
            "line": {
             "colorbar": {
              "outlinewidth": 0,
              "ticks": ""
             }
            },
            "marker": {
             "colorbar": {
              "outlinewidth": 0,
              "ticks": ""
             }
            },
            "type": "scatter3d"
           }
          ],
          "scattercarpet": [
           {
            "marker": {
             "colorbar": {
              "outlinewidth": 0,
              "ticks": ""
             }
            },
            "type": "scattercarpet"
           }
          ],
          "scattergeo": [
           {
            "marker": {
             "colorbar": {
              "outlinewidth": 0,
              "ticks": ""
             }
            },
            "type": "scattergeo"
           }
          ],
          "scattergl": [
           {
            "marker": {
             "colorbar": {
              "outlinewidth": 0,
              "ticks": ""
             }
            },
            "type": "scattergl"
           }
          ],
          "scattermapbox": [
           {
            "marker": {
             "colorbar": {
              "outlinewidth": 0,
              "ticks": ""
             }
            },
            "type": "scattermapbox"
           }
          ],
          "scatterpolar": [
           {
            "marker": {
             "colorbar": {
              "outlinewidth": 0,
              "ticks": ""
             }
            },
            "type": "scatterpolar"
           }
          ],
          "scatterpolargl": [
           {
            "marker": {
             "colorbar": {
              "outlinewidth": 0,
              "ticks": ""
             }
            },
            "type": "scatterpolargl"
           }
          ],
          "scatterternary": [
           {
            "marker": {
             "colorbar": {
              "outlinewidth": 0,
              "ticks": ""
             }
            },
            "type": "scatterternary"
           }
          ],
          "surface": [
           {
            "colorbar": {
             "outlinewidth": 0,
             "ticks": ""
            },
            "colorscale": [
             [
              0,
              "#0d0887"
             ],
             [
              0.1111111111111111,
              "#46039f"
             ],
             [
              0.2222222222222222,
              "#7201a8"
             ],
             [
              0.3333333333333333,
              "#9c179e"
             ],
             [
              0.4444444444444444,
              "#bd3786"
             ],
             [
              0.5555555555555556,
              "#d8576b"
             ],
             [
              0.6666666666666666,
              "#ed7953"
             ],
             [
              0.7777777777777778,
              "#fb9f3a"
             ],
             [
              0.8888888888888888,
              "#fdca26"
             ],
             [
              1,
              "#f0f921"
             ]
            ],
            "type": "surface"
           }
          ],
          "table": [
           {
            "cells": {
             "fill": {
              "color": "#EBF0F8"
             },
             "line": {
              "color": "white"
             }
            },
            "header": {
             "fill": {
              "color": "#C8D4E3"
             },
             "line": {
              "color": "white"
             }
            },
            "type": "table"
           }
          ]
         },
         "layout": {
          "annotationdefaults": {
           "arrowcolor": "#2a3f5f",
           "arrowhead": 0,
           "arrowwidth": 1
          },
          "autotypenumbers": "strict",
          "coloraxis": {
           "colorbar": {
            "outlinewidth": 0,
            "ticks": ""
           }
          },
          "colorscale": {
           "diverging": [
            [
             0,
             "#8e0152"
            ],
            [
             0.1,
             "#c51b7d"
            ],
            [
             0.2,
             "#de77ae"
            ],
            [
             0.3,
             "#f1b6da"
            ],
            [
             0.4,
             "#fde0ef"
            ],
            [
             0.5,
             "#f7f7f7"
            ],
            [
             0.6,
             "#e6f5d0"
            ],
            [
             0.7,
             "#b8e186"
            ],
            [
             0.8,
             "#7fbc41"
            ],
            [
             0.9,
             "#4d9221"
            ],
            [
             1,
             "#276419"
            ]
           ],
           "sequential": [
            [
             0,
             "#0d0887"
            ],
            [
             0.1111111111111111,
             "#46039f"
            ],
            [
             0.2222222222222222,
             "#7201a8"
            ],
            [
             0.3333333333333333,
             "#9c179e"
            ],
            [
             0.4444444444444444,
             "#bd3786"
            ],
            [
             0.5555555555555556,
             "#d8576b"
            ],
            [
             0.6666666666666666,
             "#ed7953"
            ],
            [
             0.7777777777777778,
             "#fb9f3a"
            ],
            [
             0.8888888888888888,
             "#fdca26"
            ],
            [
             1,
             "#f0f921"
            ]
           ],
           "sequentialminus": [
            [
             0,
             "#0d0887"
            ],
            [
             0.1111111111111111,
             "#46039f"
            ],
            [
             0.2222222222222222,
             "#7201a8"
            ],
            [
             0.3333333333333333,
             "#9c179e"
            ],
            [
             0.4444444444444444,
             "#bd3786"
            ],
            [
             0.5555555555555556,
             "#d8576b"
            ],
            [
             0.6666666666666666,
             "#ed7953"
            ],
            [
             0.7777777777777778,
             "#fb9f3a"
            ],
            [
             0.8888888888888888,
             "#fdca26"
            ],
            [
             1,
             "#f0f921"
            ]
           ]
          },
          "colorway": [
           "#636efa",
           "#EF553B",
           "#00cc96",
           "#ab63fa",
           "#FFA15A",
           "#19d3f3",
           "#FF6692",
           "#B6E880",
           "#FF97FF",
           "#FECB52"
          ],
          "font": {
           "color": "#2a3f5f"
          },
          "geo": {
           "bgcolor": "white",
           "lakecolor": "white",
           "landcolor": "#E5ECF6",
           "showlakes": true,
           "showland": true,
           "subunitcolor": "white"
          },
          "hoverlabel": {
           "align": "left"
          },
          "hovermode": "closest",
          "mapbox": {
           "style": "light"
          },
          "paper_bgcolor": "white",
          "plot_bgcolor": "#E5ECF6",
          "polar": {
           "angularaxis": {
            "gridcolor": "white",
            "linecolor": "white",
            "ticks": ""
           },
           "bgcolor": "#E5ECF6",
           "radialaxis": {
            "gridcolor": "white",
            "linecolor": "white",
            "ticks": ""
           }
          },
          "scene": {
           "xaxis": {
            "backgroundcolor": "#E5ECF6",
            "gridcolor": "white",
            "gridwidth": 2,
            "linecolor": "white",
            "showbackground": true,
            "ticks": "",
            "zerolinecolor": "white"
           },
           "yaxis": {
            "backgroundcolor": "#E5ECF6",
            "gridcolor": "white",
            "gridwidth": 2,
            "linecolor": "white",
            "showbackground": true,
            "ticks": "",
            "zerolinecolor": "white"
           },
           "zaxis": {
            "backgroundcolor": "#E5ECF6",
            "gridcolor": "white",
            "gridwidth": 2,
            "linecolor": "white",
            "showbackground": true,
            "ticks": "",
            "zerolinecolor": "white"
           }
          },
          "shapedefaults": {
           "line": {
            "color": "#2a3f5f"
           }
          },
          "ternary": {
           "aaxis": {
            "gridcolor": "white",
            "linecolor": "white",
            "ticks": ""
           },
           "baxis": {
            "gridcolor": "white",
            "linecolor": "white",
            "ticks": ""
           },
           "bgcolor": "#E5ECF6",
           "caxis": {
            "gridcolor": "white",
            "linecolor": "white",
            "ticks": ""
           }
          },
          "title": {
           "x": 0.05
          },
          "xaxis": {
           "automargin": true,
           "gridcolor": "white",
           "linecolor": "white",
           "ticks": "",
           "title": {
            "standoff": 15
           },
           "zerolinecolor": "white",
           "zerolinewidth": 2
          },
          "yaxis": {
           "automargin": true,
           "gridcolor": "white",
           "linecolor": "white",
           "ticks": "",
           "title": {
            "standoff": 15
           },
           "zerolinecolor": "white",
           "zerolinewidth": 2
          }
         }
        },
        "xaxis": {
         "anchor": "y",
         "domain": [
          0,
          0.94
         ],
         "title": {
          "text": "$x [m]$"
         }
        },
        "yaxis": {
         "anchor": "x",
         "domain": [
          0,
          1
         ],
         "exponentformat": "e",
         "range": [
          -0.1,
          0.1
         ],
         "showexponent": "all",
         "title": {
          "font": {
           "color": "red"
          },
          "text": "$u [\\mu m]$"
         }
        },
        "yaxis2": {
         "anchor": "x",
         "exponentformat": "e",
         "overlaying": "y",
         "range": [
          -150,
          150
         ],
         "showexponent": "all",
         "side": "right",
         "title": {
          "font": {
           "color": "blue"
          },
          "text": "$v [\\mu m / s^2]$"
         }
        }
       }
      }
     },
     "metadata": {},
     "output_type": "display_data"
    }
   ],
   "source": [
    "plot_uv(u1-u2, v1-v2, t, plot_v=True, range_u=[-0.1, 0.1], range_v=[-150, 150])"
   ]
  },
  {
   "cell_type": "code",
   "execution_count": 15,
   "metadata": {},
   "outputs": [],
   "source": [
    "# Insights\n",
    "# Error independent of Amplitude\n",
    "# Error also for homogeneous\n",
    "# Error for DBC-DBC -> Sinusoidal pattern for both (but more velocities)\n",
    "# Error for NBC-DBC -> same, smaller for DBC-NBC?\n",
    "# Error between pos and vel positively correlated "
   ]
  },
  {
   "cell_type": "code",
   "execution_count": null,
   "metadata": {},
   "outputs": [],
   "source": []
  }
 ],
 "metadata": {
  "kernelspec": {
   "display_name": "arm_q2",
   "language": "python",
   "name": "python3"
  },
  "language_info": {
   "codemirror_mode": {
    "name": "ipython",
    "version": 3
   },
   "file_extension": ".py",
   "mimetype": "text/x-python",
   "name": "python",
   "nbconvert_exporter": "python",
   "pygments_lexer": "ipython3",
   "version": "3.11.4"
  },
  "orig_nbformat": 4
 },
 "nbformat": 4,
 "nbformat_minor": 2
}
